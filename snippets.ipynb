{
 "cells": [
  {
   "cell_type": "markdown",
   "metadata": {
    "id": "ozwRm2-O_9Xt"
   },
   "source": [
    "# Snippets\n",
    "\n",
    "> For WIP stuff"
   ]
  },
  {
   "cell_type": "code",
   "execution_count": 3,
   "metadata": {
    "id": "iJpYiOhhdInB"
   },
   "outputs": [
    {
     "ename": "NameError",
     "evalue": "name 'train_encoded' is not defined",
     "output_type": "error",
     "traceback": [
      "\u001b[0;31m---------------------------------------------------------------------------\u001b[0m",
      "\u001b[0;31mNameError\u001b[0m                                 Traceback (most recent call last)",
      "\u001b[0;32m<ipython-input-3-7f37c23dd3a4>\u001b[0m in \u001b[0;36m<module>\u001b[0;34m\u001b[0m\n\u001b[1;32m      1\u001b[0m \u001b[0;31m# Länge vom Basket\u001b[0m\u001b[0;34m\u001b[0m\u001b[0;34m\u001b[0m\u001b[0;34m\u001b[0m\u001b[0m\n\u001b[0;32m----> 2\u001b[0;31m \u001b[0mtrain_encoded\u001b[0m\u001b[0;34m[\u001b[0m\u001b[0;34m\"maxCount\"\u001b[0m\u001b[0;34m]\u001b[0m \u001b[0;34m=\u001b[0m \u001b[0mtrain_encoded\u001b[0m\u001b[0;34m.\u001b[0m\u001b[0mbasket\u001b[0m\u001b[0;34m.\u001b[0m\u001b[0mmap\u001b[0m\u001b[0;34m(\u001b[0m\u001b[0;32mlambda\u001b[0m \u001b[0mx\u001b[0m\u001b[0;34m:\u001b[0m \u001b[0msum\u001b[0m\u001b[0;34m(\u001b[0m\u001b[0mx\u001b[0m\u001b[0;34m)\u001b[0m\u001b[0;34m)\u001b[0m\u001b[0;34m\u001b[0m\u001b[0;34m\u001b[0m\u001b[0m\n\u001b[0m",
      "\u001b[0;31mNameError\u001b[0m: name 'train_encoded' is not defined"
     ]
    }
   ],
   "source": [
    "# Länge vom Basket -> Aus den Folien = NICHT NUTZEN!\n",
    "train_encoded[\"maxCount\"] = train_encoded.basket.map(lambda x: sum(x))"
   ]
  },
  {
   "cell_type": "markdown",
   "metadata": {
    "id": "AlFrgY63Ukyn"
   },
   "source": [
    "#### 5.0 Feature 0: Am Meisten vorkommende Kategorie im aktuellen Basket"
   ]
  },
  {
   "cell_type": "code",
   "execution_count": 4,
   "metadata": {
    "id": "1tvry42WUkyn"
   },
   "outputs": [
    {
     "ename": "NameError",
     "evalue": "name 'train_encoded' is not defined",
     "output_type": "error",
     "traceback": [
      "\u001b[0;31m---------------------------------------------------------------------------\u001b[0m",
      "\u001b[0;31mNameError\u001b[0m                                 Traceback (most recent call last)",
      "\u001b[0;32m<ipython-input-4-40492e423b41>\u001b[0m in \u001b[0;36m<module>\u001b[0;34m\u001b[0m\n\u001b[0;32m----> 1\u001b[0;31m \u001b[0mf_eng_basket\u001b[0m \u001b[0;34m=\u001b[0m \u001b[0mlist\u001b[0m\u001b[0;34m(\u001b[0m\u001b[0mtrain_encoded\u001b[0m\u001b[0;34m.\u001b[0m\u001b[0mbasket\u001b[0m\u001b[0;34m)\u001b[0m \u001b[0;31m# basket shortcut\u001b[0m\u001b[0;34m\u001b[0m\u001b[0;34m\u001b[0m\u001b[0m\n\u001b[0m\u001b[1;32m      2\u001b[0m \u001b[0;34m\u001b[0m\u001b[0m\n\u001b[1;32m      3\u001b[0m \u001b[0;31m# 1. Höchste Kategorie aktuellem Basket finden\u001b[0m\u001b[0;34m\u001b[0m\u001b[0;34m\u001b[0m\u001b[0;34m\u001b[0m\u001b[0m\n\u001b[1;32m      4\u001b[0m \u001b[0mtrain_encoded\u001b[0m\u001b[0;34m[\u001b[0m\u001b[0;34m\"maxCount\"\u001b[0m\u001b[0;34m]\u001b[0m \u001b[0;34m=\u001b[0m \u001b[0mtrain_encoded\u001b[0m\u001b[0;34m.\u001b[0m\u001b[0mbasket\u001b[0m\u001b[0;34m.\u001b[0m\u001b[0mmap\u001b[0m\u001b[0;34m(\u001b[0m\u001b[0;32mlambda\u001b[0m \u001b[0mx\u001b[0m\u001b[0;34m:\u001b[0m \u001b[0mmax\u001b[0m\u001b[0;34m(\u001b[0m\u001b[0mx\u001b[0m\u001b[0;34m)\u001b[0m\u001b[0;34m)\u001b[0m\u001b[0;34m\u001b[0m\u001b[0;34m\u001b[0m\u001b[0m\n",
      "\u001b[0;31mNameError\u001b[0m: name 'train_encoded' is not defined"
     ]
    }
   ],
   "source": [
    "f_eng_basket = list(train_encoded.basket) # basket shortcut\n",
    "\n",
    "# 1. Höchste Kategorie aktuellem Basket finden\n",
    "train_encoded[\"maxCount\"] = train_encoded.basket.map(lambda x: max(x))"
   ]
  },
  {
   "cell_type": "markdown",
   "metadata": {
    "id": "bgz22gJ1a8ww"
   },
   "source": [
    "#### 5.0 Feature 0: Anzahl der Bücher von der am höchsten vorkommenden Kategorie"
   ]
  },
  {
   "cell_type": "code",
   "execution_count": 44,
   "metadata": {
    "id": "ZIW3ajYua8wx"
   },
   "outputs": [],
   "source": [
    "f_eng_basket = list(train_encoded.basket) # basket shortcut\n",
    "\n",
    "# 1. Höchste Kategorie aktuellem Basket finden\n",
    "maxBasketValues = list(train_encoded.basket.map(lambda x: max(x)))\n",
    "\n",
    "# 2. Diese Zählen & als Neues Feature einfügen\n",
    "train_encoded['maxCount'] = [basket.count(maxBasketValues[i]) for (i, basket) in enumerate(f_eng_basket) ]\n",
    "\n",
    "train_encoded.head()"
   ]
  },
  {
   "cell_type": "markdown",
   "metadata": {
    "id": "7eXwOIuXUkyn"
   },
   "source": [
    "#### 5.1 Feature 1: Bestellungen, die überdurschnittlich viele Bücher im Warenkorb haben\n",
    "\n",
    "> Feature erstellen, dass positiv ist wenn die Anzahl an Büchern im Warenkorb über dem Median liegt\n",
    "\n",
    "1. Überdurschnittliche Anzahl Bücher: '1'\n",
    "1. Unterdurschnittliche Anzahl Bücher: '0'"
   ]
  },
  {
   "cell_type": "code",
   "execution_count": 1,
   "metadata": {
    "id": "fCG_bKNpUkyn"
   },
   "outputs": [],
   "source": [
    "from statistics import median\n",
    "\n",
    "# Calculate median from the number of items in each basket\n",
    "train_encoded['basketSizeMedian'] = median([len(basket) for basket in train_encoded['basket']])\n",
    "train_encoded[['returnLabel', 'basketElementCount', 'basketSizeMedian']].head(n=20)\n",
    "\n",
    "returnedAboveMedian = []\n",
    "\n",
    "for index, row in train_encoded.iterrows():\n",
    "     returnedAboveMedian.append(1 if (row['returnLabel'] == 0 and row['basketElementCount'] >= row['basketSizeMedian']) else 0)\n",
    "         \n",
    "train_encoded['returnedAboveMedian'] = returnedAboveMedian\n",
    "\n",
    "train_encoded['returnedAboveMedian'].value_counts()"
   ]
  },
  {
   "cell_type": "markdown",
   "metadata": {
    "id": "bgz22gJ1a8ww"
   },
   "source": [
    "#### 5.0 Feature 0: Wenn alle Kategorien im Basket gleich sind"
   ]
  },
  {
   "cell_type": "code",
   "execution_count": 2,
   "metadata": {},
   "outputs": [
    {
     "ename": "NameError",
     "evalue": "name 'train_encoded' is not defined",
     "output_type": "error",
     "traceback": [
      "\u001b[0;31m---------------------------------------------------------------------------\u001b[0m",
      "\u001b[0;31mNameError\u001b[0m                                 Traceback (most recent call last)",
      "\u001b[0;32m<ipython-input-2-bc36f738db0a>\u001b[0m in \u001b[0;36m<module>\u001b[0;34m\u001b[0m\n\u001b[1;32m      2\u001b[0m     \u001b[0;32mreturn\u001b[0m \u001b[0mall\u001b[0m\u001b[0;34m(\u001b[0m\u001b[0mx\u001b[0m \u001b[0;34m==\u001b[0m \u001b[0mitems\u001b[0m\u001b[0;34m[\u001b[0m\u001b[0;36m0\u001b[0m\u001b[0;34m]\u001b[0m \u001b[0;32mfor\u001b[0m \u001b[0mx\u001b[0m \u001b[0;32min\u001b[0m \u001b[0mitems\u001b[0m\u001b[0;34m)\u001b[0m\u001b[0;34m\u001b[0m\u001b[0;34m\u001b[0m\u001b[0m\n\u001b[1;32m      3\u001b[0m \u001b[0;34m\u001b[0m\u001b[0m\n\u001b[0;32m----> 4\u001b[0;31m \u001b[0mtrain_encoded\u001b[0m\u001b[0;34m[\u001b[0m\u001b[0;34m'same'\u001b[0m\u001b[0;34m]\u001b[0m \u001b[0;34m=\u001b[0m \u001b[0mtrain_encoded\u001b[0m\u001b[0;34m.\u001b[0m\u001b[0mbasket\u001b[0m\u001b[0;34m.\u001b[0m\u001b[0mmap\u001b[0m\u001b[0;34m(\u001b[0m\u001b[0;32mlambda\u001b[0m \u001b[0mx\u001b[0m\u001b[0;34m:\u001b[0m \u001b[0;36m1\u001b[0m \u001b[0;32mif\u001b[0m \u001b[0mall_same\u001b[0m\u001b[0;34m(\u001b[0m\u001b[0mx\u001b[0m\u001b[0;34m)\u001b[0m  \u001b[0;32melse\u001b[0m \u001b[0;36m0\u001b[0m\u001b[0;34m)\u001b[0m\u001b[0;34m\u001b[0m\u001b[0;34m\u001b[0m\u001b[0m\n\u001b[0m\u001b[1;32m      5\u001b[0m \u001b[0;34m\u001b[0m\u001b[0m\n\u001b[1;32m      6\u001b[0m \u001b[0;31m# ---\u001b[0m\u001b[0;34m\u001b[0m\u001b[0;34m\u001b[0m\u001b[0;34m\u001b[0m\u001b[0m\n",
      "\u001b[0;31mNameError\u001b[0m: name 'train_encoded' is not defined"
     ]
    }
   ],
   "source": [
    "def all_same(items):\n",
    "    return all(x == items[0] for x in items)\n",
    "\n",
    "train_encoded['same'] = train_encoded.basket.map(lambda x: 1 if all_same(x)  else 0)\n",
    "\n",
    "# ---\n"
   ]
  },
  {
   "cell_type": "markdown",
   "metadata": {
    "id": "bgz22gJ1a8ww"
   },
   "source": [
    "#### 5.0 Feature 0: Korrelation zwischen Anzahl gekaufter Bücher und dem Gesamtpreis den man dafür bezahlt hat"
   ]
  },
  {
   "cell_type": "code",
   "execution_count": null,
   "metadata": {},
   "outputs": [],
   "source": [
    "f_eng_basket = list(train_encoded.basket) # basket shortcut\n",
    "\n",
    "train_encoded['maxCount'] = [round(train_encoded.totalAmount.iloc[i]/sum(basket), 2) for (i, basket) in enumerate(f_eng_basket) ]\n",
    "train_encoded.head()"
   ]
  }
 ],
 "metadata": {
  "kernelspec": {
   "display_name": "Python 3",
   "language": "python",
   "name": "python3"
  },
  "language_info": {
   "codemirror_mode": {
    "name": "ipython",
    "version": 3
   },
   "file_extension": ".py",
   "mimetype": "text/x-python",
   "name": "python",
   "nbconvert_exporter": "python",
   "pygments_lexer": "ipython3",
   "version": "3.8.3"
  }
 },
 "nbformat": 4,
 "nbformat_minor": 4
}
