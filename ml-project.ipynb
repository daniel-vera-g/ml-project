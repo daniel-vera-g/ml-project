{
 "cells": [
  {
   "cell_type": "markdown",
   "metadata": {},
   "source": [
    "### 0. Helpers\n",
    "\n",
    "> Helper functions used in upcoming sections"
   ]
  },
  {
   "cell_type": "code",
   "execution_count": 1,
   "metadata": {},
   "outputs": [],
   "source": [
    "import os \n",
    "import re # RegEx\n",
    "\n",
    "# Tiny print helpers:\n",
    "    \n",
    "# Print the statement centered  ¯\\_(ツ)_/¯ \n",
    "centeredPrint = lambda statement: print(statement.center(os.get_terminal_size().columns))\n",
    "# Get Separator line to match whole statement length. F.ex: text -> ----\n",
    "getSeparator = lambda text: len(text)*\"-\" # table Top/Bottom separators\n",
    "\n",
    "\"\"\"\n",
    "Convert's a string list into a regular list:\n",
    "F.ex. [0, 1, 2, 3] from type **String** -> to type **Int**\n",
    "\n",
    "Let's deconstruct this:\n",
    "\n",
    "1. In the for loop: Convert the 'String' list into a regular list by:\n",
    "    * Remove the Square brackets\n",
    "    * Split the string into a list\n",
    "2. For each element in the created list convert it from string to int\n",
    "\n",
    "Könnnen es gerne vereinfachen, wenn es wärend der Präzi zu verwirrungen kommen könnte 😅\n",
    "\n",
    "\"\"\"\n",
    "getIntListFromStringList = lambda stringList: [int(listElement) for listElement in re.sub(\"[\\[\\]]\", \"\", stringList).split(',')]"
   ]
  },
  {
   "cell_type": "markdown",
   "metadata": {},
   "source": [
    "<hr>\n",
    "\n",
    "## TRAINING 🏋️‍♀️\n",
    "\n",
    "<hr>"
   ]
  },
  {
   "cell_type": "markdown",
   "metadata": {},
   "source": [
    "### 1. Laden Sie die Trainingsdaten."
   ]
  },
  {
   "cell_type": "code",
   "execution_count": 2,
   "metadata": {},
   "outputs": [
    {
     "data": {
      "text/html": [
       "<div>\n",
       "<style scoped>\n",
       "    .dataframe tbody tr th:only-of-type {\n",
       "        vertical-align: middle;\n",
       "    }\n",
       "\n",
       "    .dataframe tbody tr th {\n",
       "        vertical-align: top;\n",
       "    }\n",
       "\n",
       "    .dataframe thead th {\n",
       "        text-align: right;\n",
       "    }\n",
       "</style>\n",
       "<table border=\"1\" class=\"dataframe\">\n",
       "  <thead>\n",
       "    <tr style=\"text-align: right;\">\n",
       "      <th></th>\n",
       "      <th>transactionId</th>\n",
       "      <th>basket</th>\n",
       "      <th>customerType</th>\n",
       "      <th>totalAmount</th>\n",
       "      <th>returnLabel</th>\n",
       "    </tr>\n",
       "  </thead>\n",
       "  <tbody>\n",
       "    <tr>\n",
       "      <th>0</th>\n",
       "      <td>7934161612</td>\n",
       "      <td>[3]</td>\n",
       "      <td>existing</td>\n",
       "      <td>77.0</td>\n",
       "      <td>0</td>\n",
       "    </tr>\n",
       "    <tr>\n",
       "      <th>1</th>\n",
       "      <td>5308629088</td>\n",
       "      <td>[5, 3, 0, 3]</td>\n",
       "      <td>existing</td>\n",
       "      <td>64.0</td>\n",
       "      <td>0</td>\n",
       "    </tr>\n",
       "    <tr>\n",
       "      <th>2</th>\n",
       "      <td>1951363325</td>\n",
       "      <td>[3, 3, 1, 4]</td>\n",
       "      <td>new</td>\n",
       "      <td>308.0</td>\n",
       "      <td>1</td>\n",
       "    </tr>\n",
       "    <tr>\n",
       "      <th>3</th>\n",
       "      <td>6713597713</td>\n",
       "      <td>[2]</td>\n",
       "      <td>existing</td>\n",
       "      <td>74.0</td>\n",
       "      <td>0</td>\n",
       "    </tr>\n",
       "    <tr>\n",
       "      <th>4</th>\n",
       "      <td>8352683669</td>\n",
       "      <td>[4, 4, 4, 4]</td>\n",
       "      <td>new</td>\n",
       "      <td>324.0</td>\n",
       "      <td>1</td>\n",
       "    </tr>\n",
       "  </tbody>\n",
       "</table>\n",
       "</div>"
      ],
      "text/plain": [
       "   transactionId        basket customerType  totalAmount  returnLabel\n",
       "0     7934161612           [3]     existing         77.0            0\n",
       "1     5308629088  [5, 3, 0, 3]     existing         64.0            0\n",
       "2     1951363325  [3, 3, 1, 4]          new        308.0            1\n",
       "3     6713597713           [2]     existing         74.0            0\n",
       "4     8352683669  [4, 4, 4, 4]          new        324.0            1"
      ]
     },
     "execution_count": 2,
     "metadata": {},
     "output_type": "execute_result"
    }
   ],
   "source": [
    "import pandas as pd\n",
    "pd.options.mode.chained_assignment = None\n",
    "\n",
    "train_df = pd.read_csv('datasets/train.csv')\n",
    "\n",
    "train_df.head()"
   ]
  },
  {
   "cell_type": "markdown",
   "metadata": {},
   "source": [
    "### 2. Füllen Sie die fehlenden Werte in den Trainingsdaten auf"
   ]
  },
  {
   "cell_type": "markdown",
   "metadata": {},
   "source": [
    "#### 2.1 Analysis of missing data\n",
    "\n",
    "> Analyze which data is missing"
   ]
  },
  {
   "cell_type": "code",
   "execution_count": 3,
   "metadata": {
    "scrolled": true
   },
   "outputs": [
    {
     "name": "stdout",
     "output_type": "stream",
     "text": [
      "----------------------------------------\n",
      "Total number of missing training values:\n",
      "transactionId      0\n",
      "basket             0\n",
      "customerType     517\n",
      "totalAmount      484\n",
      "returnLabel        0\n",
      "dtype: int64\n",
      "----------------------------------------\n"
     ]
    }
   ],
   "source": [
    "# Analysis of missing data\n",
    "\n",
    "heading = \"Total number of missing training values:\"\n",
    "\n",
    "print(getSeparator(heading))\n",
    "print(heading)\n",
    "print(train_df.isnull().sum()) # Check which values are null\n",
    "print(getSeparator(heading))"
   ]
  },
  {
   "cell_type": "markdown",
   "metadata": {},
   "source": [
    "The missing `customerType` data is of categorical value(`existing` or `new`).  \n",
    "\n",
    "In the following, let's check whether it's worthwhile to replace missing values:"
   ]
  },
  {
   "cell_type": "code",
   "execution_count": 4,
   "metadata": {
    "scrolled": true
   },
   "outputs": [
    {
     "name": "stdout",
     "output_type": "stream",
     "text": [
      "\n",
      "The percentage of missing values in the 24483 big CustomerType dataset is only 2,11 % = 517.0 missing values\n",
      "==> Removing missing values should not have a big impact on the resulting model!\n"
     ]
    }
   ],
   "source": [
    "# Calculate the percentage of the cases where the customer type is null\n",
    "# Use this value to decide, whether this values can be \"safely\" removed\n",
    "\n",
    "customerDataSum = train_df[\"customerType\"].count()\n",
    "missingCustomerTypeData = train_df[\"customerType\"].isnull().sum()\n",
    "\n",
    "# Calaculated values\n",
    "customerType_isNull_percentage = round(missingCustomerTypeData * 100 / customerDataSum, 2)\n",
    "missing_customerType_amount = round(customerDataSum*(customerType_isNull_percentage/100))\n",
    "\n",
    "print(f'\\nThe percentage of missing values in the {customerDataSum} big CustomerType dataset is only {str(customerType_isNull_percentage).replace(\".\", \",\")} % = {str(missing_customerType_amount)} missing values')\n",
    "print('==> Removing missing values should not have a big impact on the resulting model!')"
   ]
  },
  {
   "cell_type": "markdown",
   "metadata": {},
   "source": [
    "#### 2.2 Actual  filling/removing of data\n",
    "\n",
    "1. Remove missing `customerType` values\n",
    "2. Fill na's with mean for `totalAmount` feature"
   ]
  },
  {
   "cell_type": "code",
   "execution_count": 5,
   "metadata": {
    "scrolled": true
   },
   "outputs": [
    {
     "name": "stdout",
     "output_type": "stream",
     "text": [
      "Total number of missing training values after cleaning up: 0\n"
     ]
    }
   ],
   "source": [
    "# TODO maybe as external function due to test code duplication?\n",
    "\n",
    "# Drop customerType NaN' s -> See decision why above\n",
    "train_cleaned = train_df[train_df['customerType'].notna()]\n",
    "\n",
    "# Total amount: Fill with mean's\n",
    "totalAmount_mean = train_cleaned['totalAmount'].mean()\n",
    "train_cleaned['totalAmount'].fillna(totalAmount_mean, inplace=True)\n",
    "\n",
    "print(f'Total number of missing training values after cleaning up: {train_cleaned.isnull().sum().sum()}')"
   ]
  },
  {
   "cell_type": "markdown",
   "metadata": {},
   "source": [
    "### 3. Transformieren Sie die kategorischen Features mittles One-hot-encoding\n",
    "\n",
    "1. Find categorical features\n",
    "2. One-Hot Encode categorical features found in step 1"
   ]
  },
  {
   "cell_type": "markdown",
   "metadata": {},
   "source": [
    "#### 3.1 Get a list/Find out categorical columns\n",
    "\n",
    "> As seen in: https://stackoverflow.com/questions/29803093/check-which-columns-in-dataframe-are-categorical"
   ]
  },
  {
   "cell_type": "code",
   "execution_count": 6,
   "metadata": {},
   "outputs": [
    {
     "name": "stdout",
     "output_type": "stream",
     "text": [
      "Categorical attributes found: \n",
      "* basket\n",
      "* customerType\n"
     ]
    }
   ],
   "source": [
    "columns = train_cleaned.columns\n",
    "\n",
    "# Columns with numerical data\n",
    "num_cols = train_cleaned._get_numeric_data().columns\n",
    "\n",
    "# Now Substract all columns from the numerical ones\n",
    "categorical_columns = list(set(columns) - set(num_cols))\n",
    "\n",
    "print(\"Categorical attributes found: \", *categorical_columns, sep=\"\\n* \")"
   ]
  },
  {
   "cell_type": "markdown",
   "metadata": {},
   "source": [
    "#### 3.2 Hot encode customer type\n",
    "\n",
    "> Use pandas build in function"
   ]
  },
  {
   "cell_type": "code",
   "execution_count": 7,
   "metadata": {},
   "outputs": [],
   "source": [
    "one_hot_customerType = pd.get_dummies(train_cleaned['customerType'])"
   ]
  },
  {
   "cell_type": "code",
   "execution_count": 8,
   "metadata": {},
   "outputs": [
    {
     "name": "stdout",
     "output_type": "stream",
     "text": [
      "                                   One hot encoding for the customer type:\n",
      "\n",
      "                                   \n"
     ]
    },
    {
     "data": {
      "text/html": [
       "<div>\n",
       "<style scoped>\n",
       "    .dataframe tbody tr th:only-of-type {\n",
       "        vertical-align: middle;\n",
       "    }\n",
       "\n",
       "    .dataframe tbody tr th {\n",
       "        vertical-align: top;\n",
       "    }\n",
       "\n",
       "    .dataframe thead th {\n",
       "        text-align: right;\n",
       "    }\n",
       "</style>\n",
       "<table border=\"1\" class=\"dataframe\">\n",
       "  <thead>\n",
       "    <tr style=\"text-align: right;\">\n",
       "      <th></th>\n",
       "      <th>existing</th>\n",
       "      <th>new</th>\n",
       "    </tr>\n",
       "  </thead>\n",
       "  <tbody>\n",
       "    <tr>\n",
       "      <th>0</th>\n",
       "      <td>1</td>\n",
       "      <td>0</td>\n",
       "    </tr>\n",
       "    <tr>\n",
       "      <th>1</th>\n",
       "      <td>1</td>\n",
       "      <td>0</td>\n",
       "    </tr>\n",
       "    <tr>\n",
       "      <th>2</th>\n",
       "      <td>0</td>\n",
       "      <td>1</td>\n",
       "    </tr>\n",
       "    <tr>\n",
       "      <th>3</th>\n",
       "      <td>1</td>\n",
       "      <td>0</td>\n",
       "    </tr>\n",
       "    <tr>\n",
       "      <th>4</th>\n",
       "      <td>0</td>\n",
       "      <td>1</td>\n",
       "    </tr>\n",
       "  </tbody>\n",
       "</table>\n",
       "</div>"
      ],
      "text/plain": [
       "   existing  new\n",
       "0         1    0\n",
       "1         1    0\n",
       "2         0    1\n",
       "3         1    0\n",
       "4         0    1"
      ]
     },
     "execution_count": 8,
     "metadata": {},
     "output_type": "execute_result"
    }
   ],
   "source": [
    "centeredPrint('One hot encoding for the customer type:\\n\\n')\n",
    "one_hot_customerType.head()"
   ]
  },
  {
   "cell_type": "markdown",
   "metadata": {},
   "source": [
    "#### 3.3 Hot encode the basket values\n",
    "\n",
    "> We'll do this manually"
   ]
  },
  {
   "cell_type": "markdown",
   "metadata": {},
   "source": [
    "<hr>\n",
    "Get the max/min values in the basket feature lists\n",
    "<hr>"
   ]
  },
  {
   "cell_type": "code",
   "execution_count": 9,
   "metadata": {},
   "outputs": [
    {
     "name": "stdout",
     "output_type": "stream",
     "text": [
      "The minimal value basket element is 0 and the max basket value is 5\n"
     ]
    }
   ],
   "source": [
    "# For each basket, get the min/max\n",
    "# Web get them as strings, therefore we use our helper function to convert them to int lists\n",
    "min_basket_value = min([min(getIntListFromStringList(list)) for list in train_cleaned['basket']]) \n",
    "max_basket_value = max([max(getIntListFromStringList(list)) for list in train_cleaned['basket']]) \n",
    "\n",
    "print(f'The minimal value basket element is {min_basket_value} and the max basket value is {max_basket_value}')"
   ]
  },
  {
   "cell_type": "markdown",
   "metadata": {},
   "source": [
    "<hr>\n",
    "Create new features based on the elements in the basket:\n",
    "<hr>"
   ]
  },
  {
   "cell_type": "code",
   "execution_count": 10,
   "metadata": {},
   "outputs": [
    {
     "data": {
      "text/html": [
       "<div>\n",
       "<style scoped>\n",
       "    .dataframe tbody tr th:only-of-type {\n",
       "        vertical-align: middle;\n",
       "    }\n",
       "\n",
       "    .dataframe tbody tr th {\n",
       "        vertical-align: top;\n",
       "    }\n",
       "\n",
       "    .dataframe thead th {\n",
       "        text-align: right;\n",
       "    }\n",
       "</style>\n",
       "<table border=\"1\" class=\"dataframe\">\n",
       "  <thead>\n",
       "    <tr style=\"text-align: right;\">\n",
       "      <th></th>\n",
       "      <th>b_0</th>\n",
       "      <th>b_1</th>\n",
       "      <th>b_2</th>\n",
       "      <th>b_3</th>\n",
       "      <th>b_4</th>\n",
       "      <th>b_5</th>\n",
       "    </tr>\n",
       "  </thead>\n",
       "  <tbody>\n",
       "    <tr>\n",
       "      <th>0</th>\n",
       "      <td>0</td>\n",
       "      <td>0</td>\n",
       "      <td>0</td>\n",
       "      <td>1</td>\n",
       "      <td>0</td>\n",
       "      <td>0</td>\n",
       "    </tr>\n",
       "    <tr>\n",
       "      <th>1</th>\n",
       "      <td>1</td>\n",
       "      <td>0</td>\n",
       "      <td>0</td>\n",
       "      <td>2</td>\n",
       "      <td>0</td>\n",
       "      <td>1</td>\n",
       "    </tr>\n",
       "    <tr>\n",
       "      <th>2</th>\n",
       "      <td>0</td>\n",
       "      <td>1</td>\n",
       "      <td>0</td>\n",
       "      <td>2</td>\n",
       "      <td>1</td>\n",
       "      <td>0</td>\n",
       "    </tr>\n",
       "    <tr>\n",
       "      <th>3</th>\n",
       "      <td>0</td>\n",
       "      <td>0</td>\n",
       "      <td>1</td>\n",
       "      <td>0</td>\n",
       "      <td>0</td>\n",
       "      <td>0</td>\n",
       "    </tr>\n",
       "    <tr>\n",
       "      <th>4</th>\n",
       "      <td>0</td>\n",
       "      <td>0</td>\n",
       "      <td>0</td>\n",
       "      <td>0</td>\n",
       "      <td>4</td>\n",
       "      <td>0</td>\n",
       "    </tr>\n",
       "  </tbody>\n",
       "</table>\n",
       "</div>"
      ],
      "text/plain": [
       "   b_0  b_1  b_2  b_3  b_4  b_5\n",
       "0    0    0    0    1    0    0\n",
       "1    1    0    0    2    0    1\n",
       "2    0    1    0    2    1    0\n",
       "3    0    0    1    0    0    0\n",
       "4    0    0    0    0    4    0"
      ]
     },
     "execution_count": 10,
     "metadata": {},
     "output_type": "execute_result"
    }
   ],
   "source": [
    "# NOTE: We assume, that we have all these values in the basket label array\n",
    "#       We did NOT test this! Maybe test this to have more security...\n",
    "# TODO check whether all values are actually in the list\n",
    "\n",
    "# List with basket elements\n",
    "basketElements = list(range(min_basket_value, max_basket_value+1))\n",
    "\n",
    "# Data frame with columns: 'b_0 | b_1 | ...' for each of our basket elements\n",
    "one_hot_basket = pd.DataFrame([], columns=[f'b_{basketElement}' for basketElement in basketElements])\n",
    "\n",
    "'''\n",
    "Do the one hot encoding for the basket feature.\n",
    "Actually just:\n",
    "    1. Check for the current basket, whether the element is present\n",
    "    2. If present, set the encoding bit\n",
    "'''\n",
    "for basketElement in basketElements:\n",
    "      one_hot_basket[f'b_{basketElement}'] = train_cleaned['basket'].apply(lambda x: x.count(str(basketElement)))\n",
    "\n",
    "one_hot_basket.head()"
   ]
  },
  {
   "cell_type": "markdown",
   "metadata": {},
   "source": [
    "#### 3.4 Concatenate it back into the original dataframe\n",
    "\n",
    "> Use pandas build in function\n",
    "\n",
    "1. Concatenate\n",
    "2. Clean up no more needed features"
   ]
  },
  {
   "cell_type": "code",
   "execution_count": 11,
   "metadata": {},
   "outputs": [],
   "source": [
    "train_encoded = pd.concat([train_cleaned, one_hot_customerType, one_hot_basket], axis=1)\n",
    "\n",
    "# We'll keep basket, as it'll probably be helpful for the feature engineering, \n",
    "# We'll only convert it to an int list(from string) for better handling\n",
    "train_encoded['basket'] = [getIntListFromStringList(basket) for basket in train_cleaned.basket]\n",
    "\n",
    "# Clean up: Drop customerType as it is no longer needed\n",
    "train_encoded = train_encoded.drop(columns=['customerType'])"
   ]
  },
  {
   "cell_type": "markdown",
   "metadata": {},
   "source": [
    "### 4. Datenattribute eliminieren\n",
    "\n",
    "> Datenattribute die nicht mit Zielvariable korrelieren entfernen\n",
    "\n",
    "Zu entfernen:\n",
    "    \n",
    "1. `transactionId`    "
   ]
  },
  {
   "cell_type": "code",
   "execution_count": 12,
   "metadata": {},
   "outputs": [
    {
     "data": {
      "text/html": [
       "<div>\n",
       "<style scoped>\n",
       "    .dataframe tbody tr th:only-of-type {\n",
       "        vertical-align: middle;\n",
       "    }\n",
       "\n",
       "    .dataframe tbody tr th {\n",
       "        vertical-align: top;\n",
       "    }\n",
       "\n",
       "    .dataframe thead th {\n",
       "        text-align: right;\n",
       "    }\n",
       "</style>\n",
       "<table border=\"1\" class=\"dataframe\">\n",
       "  <thead>\n",
       "    <tr style=\"text-align: right;\">\n",
       "      <th></th>\n",
       "      <th>basket</th>\n",
       "      <th>totalAmount</th>\n",
       "      <th>returnLabel</th>\n",
       "      <th>existing</th>\n",
       "      <th>new</th>\n",
       "      <th>b_0</th>\n",
       "      <th>b_1</th>\n",
       "      <th>b_2</th>\n",
       "      <th>b_3</th>\n",
       "      <th>b_4</th>\n",
       "      <th>b_5</th>\n",
       "    </tr>\n",
       "  </thead>\n",
       "  <tbody>\n",
       "    <tr>\n",
       "      <th>0</th>\n",
       "      <td>[3]</td>\n",
       "      <td>77.0</td>\n",
       "      <td>0</td>\n",
       "      <td>1</td>\n",
       "      <td>0</td>\n",
       "      <td>0</td>\n",
       "      <td>0</td>\n",
       "      <td>0</td>\n",
       "      <td>1</td>\n",
       "      <td>0</td>\n",
       "      <td>0</td>\n",
       "    </tr>\n",
       "    <tr>\n",
       "      <th>1</th>\n",
       "      <td>[5, 3, 0, 3]</td>\n",
       "      <td>64.0</td>\n",
       "      <td>0</td>\n",
       "      <td>1</td>\n",
       "      <td>0</td>\n",
       "      <td>1</td>\n",
       "      <td>0</td>\n",
       "      <td>0</td>\n",
       "      <td>2</td>\n",
       "      <td>0</td>\n",
       "      <td>1</td>\n",
       "    </tr>\n",
       "    <tr>\n",
       "      <th>2</th>\n",
       "      <td>[3, 3, 1, 4]</td>\n",
       "      <td>308.0</td>\n",
       "      <td>1</td>\n",
       "      <td>0</td>\n",
       "      <td>1</td>\n",
       "      <td>0</td>\n",
       "      <td>1</td>\n",
       "      <td>0</td>\n",
       "      <td>2</td>\n",
       "      <td>1</td>\n",
       "      <td>0</td>\n",
       "    </tr>\n",
       "    <tr>\n",
       "      <th>3</th>\n",
       "      <td>[2]</td>\n",
       "      <td>74.0</td>\n",
       "      <td>0</td>\n",
       "      <td>1</td>\n",
       "      <td>0</td>\n",
       "      <td>0</td>\n",
       "      <td>0</td>\n",
       "      <td>1</td>\n",
       "      <td>0</td>\n",
       "      <td>0</td>\n",
       "      <td>0</td>\n",
       "    </tr>\n",
       "    <tr>\n",
       "      <th>4</th>\n",
       "      <td>[4, 4, 4, 4]</td>\n",
       "      <td>324.0</td>\n",
       "      <td>1</td>\n",
       "      <td>0</td>\n",
       "      <td>1</td>\n",
       "      <td>0</td>\n",
       "      <td>0</td>\n",
       "      <td>0</td>\n",
       "      <td>0</td>\n",
       "      <td>4</td>\n",
       "      <td>0</td>\n",
       "    </tr>\n",
       "  </tbody>\n",
       "</table>\n",
       "</div>"
      ],
      "text/plain": [
       "         basket  totalAmount  returnLabel  existing  new  b_0  b_1  b_2  b_3  \\\n",
       "0           [3]         77.0            0         1    0    0    0    0    1   \n",
       "1  [5, 3, 0, 3]         64.0            0         1    0    1    0    0    2   \n",
       "2  [3, 3, 1, 4]        308.0            1         0    1    0    1    0    2   \n",
       "3           [2]         74.0            0         1    0    0    0    1    0   \n",
       "4  [4, 4, 4, 4]        324.0            1         0    1    0    0    0    0   \n",
       "\n",
       "   b_4  b_5  \n",
       "0    0    0  \n",
       "1    0    1  \n",
       "2    1    0  \n",
       "3    0    0  \n",
       "4    4    0  "
      ]
     },
     "execution_count": 12,
     "metadata": {},
     "output_type": "execute_result"
    }
   ],
   "source": [
    "# TODO better naming to dataframes\n",
    "train_encoded = train_encoded.drop(columns=['transactionId'])\n",
    "train_encoded.head()"
   ]
  },
  {
   "cell_type": "markdown",
   "metadata": {},
   "source": [
    "### 5. Versuchen Sie auf Basis des Attributs basket Features zu bauen (z.B. wie oft kommt jede Kategorie im Basket vor).\n",
    "\n",
    "> Gesucht: Features zur Hilfe der Vorhersage ob Kunde Bestellung zurückschickt\n",
    "\n",
    "1. Wie oft kommt jede Kategorie im Basket vor(Default aus Aufgabenstellung)\n",
    "2. Anzahl der bestellten Werte\n",
    "3. Warenwert der Bestellung under Meadian\n",
    "4. Neukunde oder bestehender\n",
    "5. Wenn Kunde viele Bücher der selben Kategorie bestellt hat\n",
    "6. Wenn viel oder wenig bestelllt wurde\n",
    "7. TODO mehr ausdenken\n",
    "\n",
    "Sources/Helpers:\n",
    "\n",
    "1. Uni docuements:\n",
    "\n",
    "* Theory:\n",
    "    - General overview: https://github.com/daniel-vera-g/ml-kurs/blob/master/7_ML-Projekt_Demo.ipynb\n",
    "    - Feature eng. overview: https://github.com/daniel-vera-g/ml-kurs/blob/master/3_Feature_Engineering.ipynb\n",
    "    - Feature eng. PDF: file:///home/dvg/Desktop/relevant-ml/ML_Ue3_Feature_Engineering_Loesung.pdf\n",
    "* Praxis:\n",
    "    - Sex feature: https://github.com/daniel-vera-g/ml-kurs/blob/master/self/A2-titanic-logistic-regression.ipynb -> Refer solution\n",
    "    - Embarked Feature: https://github.com/daniel-vera-g/ml-kurs/blob/master/3_Titanic_Dataset_Features.ipynb -> Refer Solution\n",
    "\n",
    "2. Ideas:\n",
    "\n",
    "> See: https://towardsdatascience.com/market-basket-analysis-with-pandas-246fb8ee10a5\n",
    "\n",
    "* Plot to show relation between huge amount in basket and return value\n",
    "* One common technique is association rule learning which is a machine learning method to discover relationships among variables. Apriori algorithm is a frequently used algorithm for association rule learning.\n",
    "* One way is to create combinations of items in each row and count the occurrences of each combination. The itertools of python can be used to accomplish this task.\n",
    "* Also: https://heartbeat.fritz.ai/a-practical-guide-to-feature-engineering-in-python-8326e40747c8\n",
    "\n",
    "TODO use diff. Diagramms & Plots to visualize features"
   ]
  },
  {
   "cell_type": "markdown",
   "metadata": {},
   "source": [
    "#### 5.0 Feature 0: Anzahl d. Elemente im Warenkorb"
   ]
  },
  {
   "cell_type": "code",
   "execution_count": 13,
   "metadata": {},
   "outputs": [],
   "source": [
    "# TODO after & before test\n",
    "\n",
    "# train_encoded['basketElementCount'] = train_encoded.basket.map(lambda x: len(x))\n",
    "# train_encoded.head()"
   ]
  },
  {
   "cell_type": "markdown",
   "metadata": {},
   "source": [
    "#### 5.1 Feature 1: Bestellungen, die überdurschnittlich viele Bücher im Warenkorb haben\n",
    "\n",
    "> Feature erstellen, dass positiv ist wenn die Anzahl an Büchern im Warenkorb über dem Median liegt\n",
    "\n",
    "1. Überdurschnittliche Anzahl Bücher: '1'\n",
    "1. Unterdurschnittliche Anzahl Bücher: '0'"
   ]
  },
  {
   "cell_type": "code",
   "execution_count": 14,
   "metadata": {},
   "outputs": [],
   "source": [
    "# TODO after & before test -> It does not really pay of ?\n",
    "\n",
    "#from statistics import median\n",
    "#\n",
    "## TODO visualize, whether returned & above median\n",
    "## Visualize relationship between number items in basket and return feature\n",
    "#\n",
    "## Calculate median from the number of items in each basket\n",
    "#train_encoded['basketSizeMedian'] = median([len(basket) for basket in train_encoded['basket']])\n",
    "#train_encoded[['returnLabel', 'basketElementCount', 'basketSizeMedian']].head(n=20)\n",
    "#\n",
    "#returnedAboveMedian = []\n",
    "#\n",
    "#for index, row in train_encoded.iterrows():\n",
    "#     returnedAboveMedian.append(1 if (row['returnLabel'] == 0 and row['basketElementCount'] >= row['basketSizeMedian']) else 0)\n",
    "#         \n",
    "#train_encoded['returnedAboveMedian'] = returnedAboveMedian\n",
    "#\n",
    "#train_encoded['returnedAboveMedian'].value_counts()"
   ]
  },
  {
   "cell_type": "markdown",
   "metadata": {},
   "source": [
    "### 6. Skalieren Sie die Features mit einem StandardScaler.\n",
    "\n",
    "> Use sklearn scaler\n",
    "\n",
    "1. Drop target feature\n",
    "2. scale the x results"
   ]
  },
  {
   "cell_type": "code",
   "execution_count": 15,
   "metadata": {},
   "outputs": [],
   "source": [
    "from sklearn.preprocessing import StandardScaler\n",
    "scaler = StandardScaler()\n",
    "\n",
    "# Drop basket feature after using it in the feature eng. phase\n",
    "train_encoded = train_encoded.drop(columns=['basket'])\n",
    "# Drop our target\n",
    "x = train_encoded.drop(columns=['returnLabel'])\n",
    "\n",
    "# Our x/y values\n",
    "X = scaler.fit_transform(x)\n",
    "y = train_encoded['returnLabel'].values"
   ]
  },
  {
   "cell_type": "markdown",
   "metadata": {},
   "source": [
    "### 7. Trainieren Sie die folgenden Klassifikationsmodelle und probieren Sie die angegebenen Hyperparameter mittels Cross-Validation aus:\n",
    "\n",
    "TODO understand all copied from: https://github.com/daniel-vera-g/ml-kurs/blob/master/7_ML-Projekt_Demo.ipynb\n",
    "\n",
    "For all models:\n",
    "\n",
    "1. Use grid search to find best parameter values\n",
    "2. Train model"
   ]
  },
  {
   "cell_type": "code",
   "execution_count": 16,
   "metadata": {},
   "outputs": [],
   "source": [
    "# Helper func to find best params\n",
    "from sklearn.model_selection import GridSearchCV\n",
    "\n",
    "def findBestParams(model, params, X, y):\n",
    "    '''\n",
    "    Takes a model, possible parameters to test, X and y values.\n",
    "    Determines the best possible values for the model\n",
    "    and returns the best values.\n",
    "    '''\n",
    "     \n",
    "    clf = GridSearchCV(estimator=model, param_grid=params, n_jobs=-1)\n",
    "    clf = clf.fit(X, y)\n",
    "    \n",
    "    # Get Params to extract from the estimator\n",
    "    paramKeys = list(params[0].keys()) # Get Param Names = Keys\n",
    "    paramsToDetermine = [f'clf.best_estimator_.{param}' for param in paramKeys] # Build strings\n",
    "    # evaluate str to actual estimator val(Yeeh, could be done above...but here more organised)\n",
    "    paramsToDetermine = [eval(param, {}, {\"clf\": clf}) for param in paramsToDetermine]\n",
    "    \n",
    "    print(f'Best {model} values: {paramsToDetermine}')\n",
    "    \n",
    "    return paramsToDetermine"
   ]
  },
  {
   "cell_type": "markdown",
   "metadata": {},
   "source": [
    "#### 7.1 Logistische Regression: `C :[0.1,1,4,5,6,10,30,100]`und `penalty: [\"l1\", \"l2\"]`"
   ]
  },
  {
   "cell_type": "code",
   "execution_count": 17,
   "metadata": {},
   "outputs": [
    {
     "name": "stdout",
     "output_type": "stream",
     "text": [
      "Best LogisticRegression() values: [30, 'l2']\n"
     ]
    },
    {
     "data": {
      "text/plain": [
       "LogisticRegression(C=30, max_iter=1000, random_state=0)"
      ]
     },
     "execution_count": 17,
     "metadata": {},
     "output_type": "execute_result"
    }
   ],
   "source": [
    "from sklearn.linear_model import LogisticRegression\n",
    "\n",
    "lr_C, lr_penalty= findBestParams(model=LogisticRegression(), params=[{'C': [0.1,1,4,5,6,10,30,100], 'penalty': [\"l1\", \"l2\"]}], X=X, y=y)\n",
    "lr_model = LogisticRegression(max_iter=1000, random_state=0, penalty=lr_penalty ,C=lr_C)\n",
    "lr_model.fit(X, y)"
   ]
  },
  {
   "cell_type": "markdown",
   "metadata": {},
   "source": [
    "#### 7.2 Random Forest: `n_estimators: [60,80,100,120,140]` und `max_depth: [2, 3, 4, 5]"
   ]
  },
  {
   "cell_type": "code",
   "execution_count": 18,
   "metadata": {},
   "outputs": [
    {
     "name": "stdout",
     "output_type": "stream",
     "text": [
      "Best RandomForestClassifier() values: [120, 5]\n"
     ]
    },
    {
     "data": {
      "text/plain": [
       "RandomForestClassifier(max_depth=5, n_estimators=120, random_state=0)"
      ]
     },
     "execution_count": 18,
     "metadata": {},
     "output_type": "execute_result"
    }
   ],
   "source": [
    "from sklearn.ensemble import RandomForestClassifier\n",
    "\n",
    "rf_n_est, rf_max_depth = findBestParams(model=RandomForestClassifier(), params=[{'n_estimators': [60,80,100,120,140], 'max_depth': [2, 3, 4, 5]}], X=X, y=y)\n",
    "rf_model = RandomForestClassifier(random_state=0, max_depth=rf_max_depth, n_estimators=rf_n_est)\n",
    "rf_model.fit(X,y)"
   ]
  },
  {
   "cell_type": "markdown",
   "metadata": {},
   "source": [
    "#### 7.3 Gradient Boosting Tree: gleiche Hyperparameter wie bei Random Forest"
   ]
  },
  {
   "cell_type": "code",
   "execution_count": 19,
   "metadata": {},
   "outputs": [
    {
     "name": "stdout",
     "output_type": "stream",
     "text": [
      "Best GradientBoostingClassifier() values: [140, 4]\n"
     ]
    },
    {
     "data": {
      "text/plain": [
       "GradientBoostingClassifier(max_depth=4, n_estimators=140, random_state=0)"
      ]
     },
     "execution_count": 19,
     "metadata": {},
     "output_type": "execute_result"
    }
   ],
   "source": [
    "from sklearn.ensemble import GradientBoostingClassifier\n",
    "\n",
    "gb_n_est, gb_max_depth = findBestParams(model=GradientBoostingClassifier(), params=[{'n_estimators': [60,80,100,120,140], 'max_depth': [2, 3, 4, 5]}], X=X, y=y)\n",
    "gb_model = GradientBoostingClassifier(random_state=0, max_depth=gb_max_depth, n_estimators=gb_n_est)\n",
    "gb_model.fit(X,y)"
   ]
  },
  {
   "cell_type": "markdown",
   "metadata": {},
   "source": [
    "<hr>\n",
    "\n",
    "## TESTING 🧪\n",
    "\n",
    "<hr>"
   ]
  },
  {
   "cell_type": "markdown",
   "metadata": {},
   "source": [
    "### 8. Laden der Testdaten\n",
    "\n",
    "> Bei den Testdaten ist der Vorgang nahezu der gleiche. Zur unterscheidbarkeit, wurde jeweils ein `test_[...]` prefix an die variablen gesetzt.\n",
    "\n",
    "* TODO Export functions to only call them once & avoid code duplication between train & test procedure"
   ]
  },
  {
   "cell_type": "code",
   "execution_count": 20,
   "metadata": {},
   "outputs": [
    {
     "data": {
      "text/html": [
       "<div>\n",
       "<style scoped>\n",
       "    .dataframe tbody tr th:only-of-type {\n",
       "        vertical-align: middle;\n",
       "    }\n",
       "\n",
       "    .dataframe tbody tr th {\n",
       "        vertical-align: top;\n",
       "    }\n",
       "\n",
       "    .dataframe thead th {\n",
       "        text-align: right;\n",
       "    }\n",
       "</style>\n",
       "<table border=\"1\" class=\"dataframe\">\n",
       "  <thead>\n",
       "    <tr style=\"text-align: right;\">\n",
       "      <th></th>\n",
       "      <th>transactionId</th>\n",
       "      <th>basket</th>\n",
       "      <th>customerType</th>\n",
       "      <th>totalAmount</th>\n",
       "      <th>returnLabel</th>\n",
       "    </tr>\n",
       "  </thead>\n",
       "  <tbody>\n",
       "    <tr>\n",
       "      <th>0</th>\n",
       "      <td>9605027322</td>\n",
       "      <td>[4, 0, 3, 4, 1, 4, 3, 4]</td>\n",
       "      <td>new</td>\n",
       "      <td>80.0</td>\n",
       "      <td>1</td>\n",
       "    </tr>\n",
       "    <tr>\n",
       "      <th>1</th>\n",
       "      <td>8315649406</td>\n",
       "      <td>[4]</td>\n",
       "      <td>existing</td>\n",
       "      <td>26.0</td>\n",
       "      <td>0</td>\n",
       "    </tr>\n",
       "    <tr>\n",
       "      <th>2</th>\n",
       "      <td>5151646801</td>\n",
       "      <td>[1, 3, 5]</td>\n",
       "      <td>existing</td>\n",
       "      <td>147.0</td>\n",
       "      <td>0</td>\n",
       "    </tr>\n",
       "    <tr>\n",
       "      <th>3</th>\n",
       "      <td>8101967972</td>\n",
       "      <td>[3]</td>\n",
       "      <td>existing</td>\n",
       "      <td>37.0</td>\n",
       "      <td>1</td>\n",
       "    </tr>\n",
       "    <tr>\n",
       "      <th>4</th>\n",
       "      <td>2887044104</td>\n",
       "      <td>[0, 0, 2, 5, 2]</td>\n",
       "      <td>existing</td>\n",
       "      <td>375.0</td>\n",
       "      <td>0</td>\n",
       "    </tr>\n",
       "  </tbody>\n",
       "</table>\n",
       "</div>"
      ],
      "text/plain": [
       "   transactionId                    basket customerType  totalAmount  \\\n",
       "0     9605027322  [4, 0, 3, 4, 1, 4, 3, 4]          new         80.0   \n",
       "1     8315649406                       [4]     existing         26.0   \n",
       "2     5151646801                 [1, 3, 5]     existing        147.0   \n",
       "3     8101967972                       [3]     existing         37.0   \n",
       "4     2887044104           [0, 0, 2, 5, 2]     existing        375.0   \n",
       "\n",
       "   returnLabel  \n",
       "0            1  \n",
       "1            0  \n",
       "2            0  \n",
       "3            1  \n",
       "4            0  "
      ]
     },
     "execution_count": 20,
     "metadata": {},
     "output_type": "execute_result"
    }
   ],
   "source": [
    "test_df = pd.read_csv('datasets/test.csv')\n",
    "\n",
    "test_df.head()"
   ]
  },
  {
   "cell_type": "markdown",
   "metadata": {},
   "source": [
    "### 9. Entfernen Sie alle Zeilen mit fehlenden Werten.\n",
    "\n",
    "1, Analysis of missing data  \n",
    "2. Remove missing data"
   ]
  },
  {
   "cell_type": "code",
   "execution_count": 21,
   "metadata": {
    "scrolled": true
   },
   "outputs": [
    {
     "name": "stdout",
     "output_type": "stream",
     "text": [
      "------------------------------------\n",
      "Total number of missing test values:\n",
      "transactionId      0\n",
      "basket             0\n",
      "customerType     124\n",
      "totalAmount      134\n",
      "returnLabel        0\n",
      "dtype: int64\n",
      "------------------------------------\n",
      "\n",
      "The percentage of missing test values in the 5876 big CustomerType dataset is only 2,11 % = 124.0 missing values\n",
      "==> Removing missing values should not have a big impact!\n"
     ]
    }
   ],
   "source": [
    "# Analysis of missing data\n",
    "\n",
    "# TODO remove this duplicated code into own function(Reduce code duplication!)\n",
    "\n",
    "test_heading = \"Total number of missing test values:\"\n",
    "\n",
    "print(getSeparator(test_heading))\n",
    "print(test_heading)\n",
    "print(test_df.isnull().sum()) # Check which values are null\n",
    "print(getSeparator(test_heading))\n",
    "\n",
    "# Calculate the percentage of the cases where the customer type is null\n",
    "# Use this value to decide, whether this values can be \"safely\" removed\n",
    "\n",
    "test_customerDataSum = test_df[\"customerType\"].count()\n",
    "test_missingCustomerTypeData = test_df[\"customerType\"].isnull().sum()\n",
    "\n",
    "# Calaculated values\n",
    "test_customerType_isNull_percentage = round(test_missingCustomerTypeData * 100 / test_customerDataSum, 2)\n",
    "test_missing_customerType_amount = round(test_customerDataSum*(test_customerType_isNull_percentage/100))\n",
    "\n",
    "print(f'\\nThe percentage of missing test values in the {test_customerDataSum} big CustomerType dataset is only {str(test_customerType_isNull_percentage).replace(\".\", \",\")} % = {str(test_missing_customerType_amount)} missing values')\n",
    "print('==> Removing missing values should not have a big impact!')"
   ]
  },
  {
   "cell_type": "code",
   "execution_count": 22,
   "metadata": {
    "scrolled": true
   },
   "outputs": [
    {
     "name": "stdout",
     "output_type": "stream",
     "text": [
      "Total number of missing test values after cleaning up: 0\n"
     ]
    }
   ],
   "source": [
    "# TODO maybe as external function due to test code duplication?\n",
    "# TODO ask/check whether filling would not be more effective/better\n",
    "# TODO if filling better, create function to reduce code duplication\n",
    "\n",
    "# Drop customerType NaN' s -> See decision why above\n",
    "test_cleaned = test_df[test_df['customerType'].notna()]\n",
    "\n",
    "# Total amount: Fill with mean's\n",
    "test_totalAmount_mean = test_cleaned['totalAmount'].mean()\n",
    "test_cleaned['totalAmount'].fillna(test_totalAmount_mean, inplace=True)\n",
    "\n",
    "print(f'Total number of missing test values after cleaning up: {test_cleaned.isnull().sum().sum()}')"
   ]
  },
  {
   "cell_type": "markdown",
   "metadata": {},
   "source": [
    "### 10. Transformieren Sie die kategorischen Features mittles One-hot-encoding\n",
    "\n",
    "1. Actually get categorical features\n",
    "2. One-Hot Encode categorical features from steps 1"
   ]
  },
  {
   "cell_type": "markdown",
   "metadata": {},
   "source": [
    "#### 10.1 Get a list/Find out categorical columns\n",
    "\n",
    "> As seen in: https://stackoverflow.com/questions/29803093/check-which-columns-in-dataframe-are-categorical"
   ]
  },
  {
   "cell_type": "code",
   "execution_count": 23,
   "metadata": {},
   "outputs": [
    {
     "name": "stdout",
     "output_type": "stream",
     "text": [
      "Categorical test attributes found: \n",
      "* basket\n",
      "* customerType\n"
     ]
    }
   ],
   "source": [
    "test_columns = test_cleaned.columns\n",
    "\n",
    "# Columns with numerical data\n",
    "test_num_cols = test_cleaned._get_numeric_data().columns\n",
    "\n",
    "# Now Substract all columns from the numerical ones\n",
    "test_categorical_columns = list(set(test_columns) - set(test_num_cols))\n",
    "\n",
    "print(\"Categorical test attributes found: \", *test_categorical_columns, sep=\"\\n* \")"
   ]
  },
  {
   "cell_type": "markdown",
   "metadata": {},
   "source": [
    "#### 10.2 Hot encode customer type\n",
    "\n",
    "> Use pandas build in function"
   ]
  },
  {
   "cell_type": "code",
   "execution_count": 24,
   "metadata": {},
   "outputs": [],
   "source": [
    "test_one_hot_customerType = pd.get_dummies(test_cleaned['customerType'])"
   ]
  },
  {
   "cell_type": "code",
   "execution_count": 25,
   "metadata": {},
   "outputs": [
    {
     "name": "stdout",
     "output_type": "stream",
     "text": [
      "                                   One hot encoding for the customer type:\n",
      "\n",
      "                                   \n"
     ]
    },
    {
     "data": {
      "text/html": [
       "<div>\n",
       "<style scoped>\n",
       "    .dataframe tbody tr th:only-of-type {\n",
       "        vertical-align: middle;\n",
       "    }\n",
       "\n",
       "    .dataframe tbody tr th {\n",
       "        vertical-align: top;\n",
       "    }\n",
       "\n",
       "    .dataframe thead th {\n",
       "        text-align: right;\n",
       "    }\n",
       "</style>\n",
       "<table border=\"1\" class=\"dataframe\">\n",
       "  <thead>\n",
       "    <tr style=\"text-align: right;\">\n",
       "      <th></th>\n",
       "      <th>existing</th>\n",
       "      <th>new</th>\n",
       "    </tr>\n",
       "  </thead>\n",
       "  <tbody>\n",
       "    <tr>\n",
       "      <th>0</th>\n",
       "      <td>0</td>\n",
       "      <td>1</td>\n",
       "    </tr>\n",
       "    <tr>\n",
       "      <th>1</th>\n",
       "      <td>1</td>\n",
       "      <td>0</td>\n",
       "    </tr>\n",
       "    <tr>\n",
       "      <th>2</th>\n",
       "      <td>1</td>\n",
       "      <td>0</td>\n",
       "    </tr>\n",
       "    <tr>\n",
       "      <th>3</th>\n",
       "      <td>1</td>\n",
       "      <td>0</td>\n",
       "    </tr>\n",
       "    <tr>\n",
       "      <th>4</th>\n",
       "      <td>1</td>\n",
       "      <td>0</td>\n",
       "    </tr>\n",
       "  </tbody>\n",
       "</table>\n",
       "</div>"
      ],
      "text/plain": [
       "   existing  new\n",
       "0         0    1\n",
       "1         1    0\n",
       "2         1    0\n",
       "3         1    0\n",
       "4         1    0"
      ]
     },
     "execution_count": 25,
     "metadata": {},
     "output_type": "execute_result"
    }
   ],
   "source": [
    "centeredPrint('One hot encoding for the customer type:\\n\\n')\n",
    "test_one_hot_customerType.head()"
   ]
  },
  {
   "cell_type": "markdown",
   "metadata": {},
   "source": [
    "#### 10.3 Hot encode the basket values\n",
    "\n",
    "> We'll do this manually"
   ]
  },
  {
   "cell_type": "markdown",
   "metadata": {},
   "source": [
    "<hr>\n",
    "Get the max/min values in the basket feature lists\n",
    "<hr>"
   ]
  },
  {
   "cell_type": "code",
   "execution_count": 26,
   "metadata": {},
   "outputs": [
    {
     "name": "stdout",
     "output_type": "stream",
     "text": [
      "The minimal test value basket element is 0 and the max basket value is 5\n"
     ]
    }
   ],
   "source": [
    "# For each basket, get the min/max\n",
    "# Web get them as strings, therefore we use our helper function to convert them to int lists\n",
    "test_min_basket_value = min([min(getIntListFromStringList(list)) for list in test_cleaned['basket']]) \n",
    "test_max_basket_value = max([max(getIntListFromStringList(list)) for list in test_cleaned['basket']]) \n",
    "\n",
    "print(f'The minimal test value basket element is {test_min_basket_value} and the max basket value is {test_max_basket_value}')"
   ]
  },
  {
   "cell_type": "markdown",
   "metadata": {},
   "source": [
    "<hr>\n",
    "Create new features based on the elements in the test basket:\n",
    "<hr>"
   ]
  },
  {
   "cell_type": "code",
   "execution_count": 27,
   "metadata": {},
   "outputs": [
    {
     "data": {
      "text/html": [
       "<div>\n",
       "<style scoped>\n",
       "    .dataframe tbody tr th:only-of-type {\n",
       "        vertical-align: middle;\n",
       "    }\n",
       "\n",
       "    .dataframe tbody tr th {\n",
       "        vertical-align: top;\n",
       "    }\n",
       "\n",
       "    .dataframe thead th {\n",
       "        text-align: right;\n",
       "    }\n",
       "</style>\n",
       "<table border=\"1\" class=\"dataframe\">\n",
       "  <thead>\n",
       "    <tr style=\"text-align: right;\">\n",
       "      <th></th>\n",
       "      <th>b_0</th>\n",
       "      <th>b_1</th>\n",
       "      <th>b_2</th>\n",
       "      <th>b_3</th>\n",
       "      <th>b_4</th>\n",
       "      <th>b_5</th>\n",
       "    </tr>\n",
       "  </thead>\n",
       "  <tbody>\n",
       "    <tr>\n",
       "      <th>0</th>\n",
       "      <td>1</td>\n",
       "      <td>1</td>\n",
       "      <td>0</td>\n",
       "      <td>2</td>\n",
       "      <td>4</td>\n",
       "      <td>0</td>\n",
       "    </tr>\n",
       "    <tr>\n",
       "      <th>1</th>\n",
       "      <td>0</td>\n",
       "      <td>0</td>\n",
       "      <td>0</td>\n",
       "      <td>0</td>\n",
       "      <td>1</td>\n",
       "      <td>0</td>\n",
       "    </tr>\n",
       "    <tr>\n",
       "      <th>2</th>\n",
       "      <td>0</td>\n",
       "      <td>1</td>\n",
       "      <td>0</td>\n",
       "      <td>1</td>\n",
       "      <td>0</td>\n",
       "      <td>1</td>\n",
       "    </tr>\n",
       "    <tr>\n",
       "      <th>3</th>\n",
       "      <td>0</td>\n",
       "      <td>0</td>\n",
       "      <td>0</td>\n",
       "      <td>1</td>\n",
       "      <td>0</td>\n",
       "      <td>0</td>\n",
       "    </tr>\n",
       "    <tr>\n",
       "      <th>4</th>\n",
       "      <td>2</td>\n",
       "      <td>0</td>\n",
       "      <td>2</td>\n",
       "      <td>0</td>\n",
       "      <td>0</td>\n",
       "      <td>1</td>\n",
       "    </tr>\n",
       "  </tbody>\n",
       "</table>\n",
       "</div>"
      ],
      "text/plain": [
       "   b_0  b_1  b_2  b_3  b_4  b_5\n",
       "0    1    1    0    2    4    0\n",
       "1    0    0    0    0    1    0\n",
       "2    0    1    0    1    0    1\n",
       "3    0    0    0    1    0    0\n",
       "4    2    0    2    0    0    1"
      ]
     },
     "execution_count": 27,
     "metadata": {},
     "output_type": "execute_result"
    }
   ],
   "source": [
    "# List with basket elements\n",
    "# NOTE: We assume, that we have all these values in the basket label array\n",
    "#       We did NOT test this! Maybe test this to have more security...\n",
    "# TODO check whether all values are actually in the list\n",
    "test_basketElements = list(range(test_min_basket_value, test_max_basket_value+1))\n",
    "\n",
    "# Data frame with columns: 'b_0 | b_1 | ...' for each of our basket elements\n",
    "test_one_hot_basket = pd.DataFrame([], columns=[f'b_{test_basketElement}' for test_basketElement in test_basketElements])\n",
    "\n",
    "'''\n",
    "Do the one hot encoding for the basket feature.\n",
    "Actually just:\n",
    "    1. Check for the current basket, whether the element is present\n",
    "    2. If present, set the encoding bit\n",
    "'''\n",
    "for test_basketElement in test_basketElements:\n",
    "      test_one_hot_basket[f'b_{test_basketElement}'] = test_cleaned['basket'].apply(lambda x: x.count(str(test_basketElement)))\n",
    "\n",
    "test_one_hot_basket.head()"
   ]
  },
  {
   "cell_type": "markdown",
   "metadata": {},
   "source": [
    "#### 10.4 Concatenate it back into the original dataframe\n",
    "\n",
    "> Use pandas build in function\n",
    "\n",
    "1. Concatenate\n",
    "2. Clean up no more needed features"
   ]
  },
  {
   "cell_type": "code",
   "execution_count": 28,
   "metadata": {},
   "outputs": [],
   "source": [
    "test_encoded = pd.concat([test_cleaned, test_one_hot_customerType, test_one_hot_basket], axis=1)\n",
    "\n",
    "# We'll keep basket, as it'll probably be helpful for the feature engineering, \n",
    "# We'll only convert it to an int list(from string) for better handling\n",
    "test_encoded['basket'] = [getIntListFromStringList(basket) for basket in test_cleaned.basket]\n",
    "\n",
    "# Clean up: Drop customerType as it is no longer needed\n",
    "test_encoded = test_encoded.drop(columns=['customerType'])"
   ]
  },
  {
   "cell_type": "markdown",
   "metadata": {},
   "source": [
    "### 11. Test Datenattribute eliminieren\n",
    "\n",
    "> Test Datenattribute die nicht mit Zielvariable korrelieren entfernen\n",
    "\n",
    "Zu entfernen:\n",
    "    \n",
    "1. `transactionId`    "
   ]
  },
  {
   "cell_type": "markdown",
   "metadata": {},
   "source": [
    "### 11. Features hinzufügen"
   ]
  },
  {
   "cell_type": "code",
   "execution_count": 29,
   "metadata": {},
   "outputs": [],
   "source": [
    "# test_encoded['basketElementCount'] = test_encoded.basket.map(lambda x: len(x))\n",
    "# test_encoded.head()"
   ]
  },
  {
   "cell_type": "code",
   "execution_count": 30,
   "metadata": {},
   "outputs": [
    {
     "data": {
      "text/html": [
       "<div>\n",
       "<style scoped>\n",
       "    .dataframe tbody tr th:only-of-type {\n",
       "        vertical-align: middle;\n",
       "    }\n",
       "\n",
       "    .dataframe tbody tr th {\n",
       "        vertical-align: top;\n",
       "    }\n",
       "\n",
       "    .dataframe thead th {\n",
       "        text-align: right;\n",
       "    }\n",
       "</style>\n",
       "<table border=\"1\" class=\"dataframe\">\n",
       "  <thead>\n",
       "    <tr style=\"text-align: right;\">\n",
       "      <th></th>\n",
       "      <th>basket</th>\n",
       "      <th>totalAmount</th>\n",
       "      <th>returnLabel</th>\n",
       "      <th>existing</th>\n",
       "      <th>new</th>\n",
       "      <th>b_0</th>\n",
       "      <th>b_1</th>\n",
       "      <th>b_2</th>\n",
       "      <th>b_3</th>\n",
       "      <th>b_4</th>\n",
       "      <th>b_5</th>\n",
       "    </tr>\n",
       "  </thead>\n",
       "  <tbody>\n",
       "    <tr>\n",
       "      <th>0</th>\n",
       "      <td>[4, 0, 3, 4, 1, 4, 3, 4]</td>\n",
       "      <td>80.0</td>\n",
       "      <td>1</td>\n",
       "      <td>0</td>\n",
       "      <td>1</td>\n",
       "      <td>1</td>\n",
       "      <td>1</td>\n",
       "      <td>0</td>\n",
       "      <td>2</td>\n",
       "      <td>4</td>\n",
       "      <td>0</td>\n",
       "    </tr>\n",
       "    <tr>\n",
       "      <th>1</th>\n",
       "      <td>[4]</td>\n",
       "      <td>26.0</td>\n",
       "      <td>0</td>\n",
       "      <td>1</td>\n",
       "      <td>0</td>\n",
       "      <td>0</td>\n",
       "      <td>0</td>\n",
       "      <td>0</td>\n",
       "      <td>0</td>\n",
       "      <td>1</td>\n",
       "      <td>0</td>\n",
       "    </tr>\n",
       "    <tr>\n",
       "      <th>2</th>\n",
       "      <td>[1, 3, 5]</td>\n",
       "      <td>147.0</td>\n",
       "      <td>0</td>\n",
       "      <td>1</td>\n",
       "      <td>0</td>\n",
       "      <td>0</td>\n",
       "      <td>1</td>\n",
       "      <td>0</td>\n",
       "      <td>1</td>\n",
       "      <td>0</td>\n",
       "      <td>1</td>\n",
       "    </tr>\n",
       "    <tr>\n",
       "      <th>3</th>\n",
       "      <td>[3]</td>\n",
       "      <td>37.0</td>\n",
       "      <td>1</td>\n",
       "      <td>1</td>\n",
       "      <td>0</td>\n",
       "      <td>0</td>\n",
       "      <td>0</td>\n",
       "      <td>0</td>\n",
       "      <td>1</td>\n",
       "      <td>0</td>\n",
       "      <td>0</td>\n",
       "    </tr>\n",
       "    <tr>\n",
       "      <th>4</th>\n",
       "      <td>[0, 0, 2, 5, 2]</td>\n",
       "      <td>375.0</td>\n",
       "      <td>0</td>\n",
       "      <td>1</td>\n",
       "      <td>0</td>\n",
       "      <td>2</td>\n",
       "      <td>0</td>\n",
       "      <td>2</td>\n",
       "      <td>0</td>\n",
       "      <td>0</td>\n",
       "      <td>1</td>\n",
       "    </tr>\n",
       "  </tbody>\n",
       "</table>\n",
       "</div>"
      ],
      "text/plain": [
       "                     basket  totalAmount  returnLabel  existing  new  b_0  \\\n",
       "0  [4, 0, 3, 4, 1, 4, 3, 4]         80.0            1         0    1    1   \n",
       "1                       [4]         26.0            0         1    0    0   \n",
       "2                 [1, 3, 5]        147.0            0         1    0    0   \n",
       "3                       [3]         37.0            1         1    0    0   \n",
       "4           [0, 0, 2, 5, 2]        375.0            0         1    0    2   \n",
       "\n",
       "   b_1  b_2  b_3  b_4  b_5  \n",
       "0    1    0    2    4    0  \n",
       "1    0    0    0    1    0  \n",
       "2    1    0    1    0    1  \n",
       "3    0    0    1    0    0  \n",
       "4    0    2    0    0    1  "
      ]
     },
     "execution_count": 30,
     "metadata": {},
     "output_type": "execute_result"
    }
   ],
   "source": [
    "# TODO better naming to dataframes\n",
    "test_encoded = test_encoded.drop(columns=['transactionId'])\n",
    "test_encoded.head()"
   ]
  },
  {
   "cell_type": "markdown",
   "metadata": {},
   "source": [
    "### 12. Skalieren Sie die Test Features mit einem StandardScaler.\n",
    "\n",
    "> Use sklearn scaler\n",
    "\n",
    "1. Drop target feature\n",
    "2. scale the x results"
   ]
  },
  {
   "cell_type": "code",
   "execution_count": 31,
   "metadata": {},
   "outputs": [],
   "source": [
    "from sklearn.preprocessing import StandardScaler\n",
    "scaler = StandardScaler()\n",
    "\n",
    "# Backup for the very end\n",
    "test_backup = test_encoded\n",
    "\n",
    "# Drop basket feature after using it in the feature eng. phase\n",
    "test_encoded = test_encoded.drop(columns=['basket'])\n",
    "# Drop our target\n",
    "x_test = test_encoded.drop(columns=['returnLabel'])\n",
    "\n",
    "# Our x/y values\n",
    "X_test = scaler.fit_transform(x_test)\n",
    "y_test = test_encoded['returnLabel'].values"
   ]
  },
  {
   "cell_type": "markdown",
   "metadata": {},
   "source": [
    "### 13. Machen Sie eine Vorhersage auf den Testdaten mit allen drei Modellen und den jeweils besten Hyperparametern aus der Cross Validation."
   ]
  },
  {
   "cell_type": "markdown",
   "metadata": {},
   "source": [
    "#### 13.1 Vorhersage auf Logistische Regression"
   ]
  },
  {
   "cell_type": "code",
   "execution_count": 32,
   "metadata": {},
   "outputs": [],
   "source": [
    "lr_prediction = lr_model.predict(X_test)"
   ]
  },
  {
   "cell_type": "markdown",
   "metadata": {},
   "source": [
    "#### 13.2 Vorhersage auf Random forest"
   ]
  },
  {
   "cell_type": "code",
   "execution_count": 33,
   "metadata": {},
   "outputs": [],
   "source": [
    "rf_prediction = rf_model.predict(X_test)"
   ]
  },
  {
   "cell_type": "markdown",
   "metadata": {},
   "source": [
    "#### 13.3 Vorhersage auf Gradient Boosting Tree"
   ]
  },
  {
   "cell_type": "code",
   "execution_count": 34,
   "metadata": {},
   "outputs": [],
   "source": [
    "gb_prediction = gb_model.predict(X_test)"
   ]
  },
  {
   "cell_type": "markdown",
   "metadata": {},
   "source": [
    "### 14 Berechnen Sie für jedes der drei Modell Accuracy, Precision und Recall."
   ]
  },
  {
   "cell_type": "code",
   "execution_count": 35,
   "metadata": {},
   "outputs": [],
   "source": [
    "from sklearn.metrics import accuracy_score, precision_score, recall_score"
   ]
  },
  {
   "cell_type": "markdown",
   "metadata": {},
   "source": [
    "#### 14.2 Accuracy, Precision & Recall für das logistische regression Model"
   ]
  },
  {
   "cell_type": "code",
   "execution_count": 36,
   "metadata": {},
   "outputs": [
    {
     "ename": "NameError",
     "evalue": "name 'lr_accuracy' is not defined",
     "output_type": "error",
     "traceback": [
      "\u001b[0;31m---------------------------------------------------------------------------\u001b[0m",
      "\u001b[0;31mNameError\u001b[0m                                 Traceback (most recent call last)",
      "\u001b[0;32m<ipython-input-36-17ce9b52a622>\u001b[0m in \u001b[0;36m<module>\u001b[0;34m\u001b[0m\n\u001b[1;32m      1\u001b[0m \u001b[0;31m# TODO Preeeettty sure something went wrong here...cause it's tooo god to be true ¯\\_(ツ)_/¯\u001b[0m\u001b[0;34m\u001b[0m\u001b[0;34m\u001b[0m\u001b[0;34m\u001b[0m\u001b[0m\n\u001b[1;32m      2\u001b[0m \u001b[0;34m\u001b[0m\u001b[0m\n\u001b[0;32m----> 3\u001b[0;31m \u001b[0mlr_accuracy_old\u001b[0m \u001b[0;34m=\u001b[0m \u001b[0mlr_accuracy\u001b[0m\u001b[0;34m\u001b[0m\u001b[0;34m\u001b[0m\u001b[0m\n\u001b[0m\u001b[1;32m      4\u001b[0m \u001b[0mlr_accuracy\u001b[0m \u001b[0;34m=\u001b[0m \u001b[0maccuracy_score\u001b[0m\u001b[0;34m(\u001b[0m\u001b[0my_test\u001b[0m\u001b[0;34m,\u001b[0m \u001b[0mlr_prediction\u001b[0m\u001b[0;34m)\u001b[0m\u001b[0;34m\u001b[0m\u001b[0;34m\u001b[0m\u001b[0m\n\u001b[1;32m      5\u001b[0m \u001b[0mprint\u001b[0m\u001b[0;34m(\u001b[0m\u001b[0;34mf'Logistic regression accuracy: {lr_accuracy}'\u001b[0m\u001b[0;34m)\u001b[0m\u001b[0;34m\u001b[0m\u001b[0;34m\u001b[0m\u001b[0m\n",
      "\u001b[0;31mNameError\u001b[0m: name 'lr_accuracy' is not defined"
     ]
    }
   ],
   "source": [
    "# TODO Preeeettty sure something went wrong here...cause it's tooo god to be true ¯\\_(ツ)_/¯ \n",
    "\n",
    "# TODO save old accuracy to compare\n",
    "# lr_accuracy_old = lr_accuracy\n",
    "lr_accuracy = accuracy_score(y_test, lr_prediction)\n",
    "print(f'Logistic regression accuracy: {lr_accuracy}')\n",
    "\n",
    "lr_precision = precision_score(y_test, lr_prediction)\n",
    "print(f'Logistic regression precision: {lr_precision}')\n",
    "\n",
    "lr_recall = recall_score(y_test, lr_prediction)\n",
    "print(f'Logistic regression recall: {lr_recall}')"
   ]
  },
  {
   "cell_type": "markdown",
   "metadata": {},
   "source": [
    "#### 14.2 Accuracy, Precision & Recall für das Random Forest Model"
   ]
  },
  {
   "cell_type": "code",
   "execution_count": null,
   "metadata": {},
   "outputs": [],
   "source": [
    "# TODO Preeeettty sure something went wrong here...cause it's tooo god to be true ¯\\_(ツ)_/¯ \n",
    "\n",
    "# TODO save old accuracy to compare\n",
    "# rf_accuracy_old = rf_accuracy\n",
    "rf_accuracy = accuracy_score(y_test, rf_prediction)\n",
    "print(f'Random forest accuracy: {rf_accuracy}')\n",
    "\n",
    "rf_precision = precision_score(y_test, rf_prediction)\n",
    "print(f'Random forest precision: {rf_precision}')\n",
    "\n",
    "rf_recall = recall_score(y_test, rf_prediction)\n",
    "print(f'Random forest recall: {rf_recall}')"
   ]
  },
  {
   "cell_type": "markdown",
   "metadata": {},
   "source": [
    "#### 14.3 Accuracy, Precision & Recall für das Gradient Boost Model"
   ]
  },
  {
   "cell_type": "code",
   "execution_count": null,
   "metadata": {},
   "outputs": [],
   "source": [
    "# TODO Preeeettty sure something went wrong here...cause it's tooo god to be true ¯\\_(ツ)_/¯ \n",
    "\n",
    "# TODO save old accuracy to compare\n",
    "# gb_accuracy_old = gb_accuracy\n",
    "gb_accuracy = accuracy_score(y_test, gb_prediction)\n",
    "print(f'Gradient Boost accuracy: {gb_accuracy}')\n",
    "\n",
    "gb_precision = precision_score(y_test, gb_prediction)\n",
    "print(f'Gradient Boost precision: {gb_precision}')\n",
    "\n",
    "gb_recall = recall_score(y_test, gb_prediction)\n",
    "print(f'Gradient Boost recall: {gb_recall}')"
   ]
  },
  {
   "cell_type": "markdown",
   "metadata": {},
   "source": [
    "#### 14.4 Accuracy"
   ]
  },
  {
   "cell_type": "code",
   "execution_count": 37,
   "metadata": {},
   "outputs": [
    {
     "ename": "NameError",
     "evalue": "name 'lr_accuracy' is not defined",
     "output_type": "error",
     "traceback": [
      "\u001b[0;31m---------------------------------------------------------------------------\u001b[0m",
      "\u001b[0;31mNameError\u001b[0m                                 Traceback (most recent call last)",
      "\u001b[0;32m<ipython-input-37-3de7afafc1c2>\u001b[0m in \u001b[0;36m<module>\u001b[0;34m\u001b[0m\n\u001b[1;32m      5\u001b[0m \u001b[0;31m# print(f'\\n---\\n')\u001b[0m\u001b[0;34m\u001b[0m\u001b[0;34m\u001b[0m\u001b[0;34m\u001b[0m\u001b[0m\n\u001b[1;32m      6\u001b[0m \u001b[0;34m\u001b[0m\u001b[0m\n\u001b[0;32m----> 7\u001b[0;31m \u001b[0mprint\u001b[0m\u001b[0;34m(\u001b[0m\u001b[0;34mf'New accuracies:\\n\\n1. LR: {calcPerc(lr_accuracy)} %\\n2. RF: {calcPerc(rf_accuracy)} %\\n3. GB: {calcPerc(gb_accuracy)} %'\u001b[0m\u001b[0;34m)\u001b[0m\u001b[0;34m\u001b[0m\u001b[0;34m\u001b[0m\u001b[0m\n\u001b[0m\u001b[1;32m      8\u001b[0m \u001b[0;34m\u001b[0m\u001b[0m\n\u001b[1;32m      9\u001b[0m \u001b[0;31m# print(f'\\n---\\n')\u001b[0m\u001b[0;34m\u001b[0m\u001b[0;34m\u001b[0m\u001b[0;34m\u001b[0m\u001b[0m\n",
      "\u001b[0;31mNameError\u001b[0m: name 'lr_accuracy' is not defined"
     ]
    }
   ],
   "source": [
    "calcPerc = lambda acc: round(acc * 100, 2)\n",
    "\n",
    "# print(f'Old accuracies:\\n\\n1. LR: {calcPerc(lr_accuracy_old)} %\\n2. RF: {calcPerc(rf_accuracy_old)} %\\n3. GB: {calcPerc(gb_accuracy_old)} %')\n",
    "\n",
    "# print(f'\\n---\\n')\n",
    "\n",
    "print(f'New accuracies:\\n\\n1. LR: {calcPerc(lr_accuracy)} %\\n2. RF: {calcPerc(rf_accuracy)} %\\n3. GB: {calcPerc(gb_accuracy)} %')\n",
    "\n",
    "# print(f'\\n---\\n')\n",
    "\n",
    "# print(f'The improvement/decrease of accuracy is:\\n\\n1. LR: {calcPerc((lr_accuracy- lr_accuracy_old))} %\\n2. RF: {calcPerc((rf_accuracy- rf_accuracy_old))} %\\n3. GB: {calcPerc((gb_accuracy- gb_accuracy_old))} %')"
   ]
  },
  {
   "cell_type": "markdown",
   "metadata": {},
   "source": [
    "<hr>\n",
    "\n",
    "## ANALYSIS 🔍\n",
    "\n",
    "<hr>"
   ]
  },
  {
   "cell_type": "markdown",
   "metadata": {},
   "source": [
    "### 15 Untersuchen Sie wie viele Datenpunkte es in den Testdaten gibt, welche von allen drei Modellen falsch klassifiziert wurden:"
   ]
  },
  {
   "cell_type": "markdown",
   "metadata": {},
   "source": [
    "#### 15.1 Bestimmen Sie **für jedes der drei Modelle** die **Indizes** der **Testdatenpunkte** auf welchen das **jeweilige Modell falsch klassifiziert hat**.\n",
    "\n",
    "> Get the indices for of the wrong gessed data points: Process similar to prediction process"
   ]
  },
  {
   "cell_type": "code",
   "execution_count": null,
   "metadata": {},
   "outputs": [],
   "source": [
    "# Helper function to find wrong predicted test data pointes(See docstring)\n",
    "\n",
    "def getWrongClassfiedPredictions(input, predictions, labels):\n",
    "    \"\"\"\n",
    "    Takes in the input values to predict on,\n",
    "    the predictions made by the model\n",
    "    and the right labels to compare the predictions on.\n",
    "    \n",
    "    Returns a set with indices corresponding to the test datapoints,\n",
    "    which the model guessed wrong\n",
    "    \"\"\"\n",
    "    \n",
    "    wrong_predictions = set()\n",
    "    i = 0\n",
    "    for input, prediction, label in zip(input, predictions, labels):\n",
    "        if prediction != label:\n",
    "            wrong_predictions.add(i)\n",
    "        i += 1\n",
    "    return wrong_predictions"
   ]
  },
  {
   "cell_type": "markdown",
   "metadata": {},
   "source": [
    "#### 15.1.1 Falsch klassifizierte Testdatenpunkte des Logistische Regression Models"
   ]
  },
  {
   "cell_type": "code",
   "execution_count": null,
   "metadata": {},
   "outputs": [],
   "source": [
    "lr_wrong_predictions = getWrongClassfiedPredictions(X_test, lr_prediction, y_test)"
   ]
  },
  {
   "cell_type": "markdown",
   "metadata": {},
   "source": [
    "#### 15.1.2 Falsch klassifizierte Testdatenpunkte des Random forest Models"
   ]
  },
  {
   "cell_type": "code",
   "execution_count": null,
   "metadata": {},
   "outputs": [],
   "source": [
    "rf_wrong_predictions = getWrongClassfiedPredictions(X_test, rf_prediction, y_test)"
   ]
  },
  {
   "cell_type": "markdown",
   "metadata": {},
   "source": [
    "#### 15.1.1 Falsch klassifizierte Testdatenpunkte des Gradient boost Models"
   ]
  },
  {
   "cell_type": "code",
   "execution_count": null,
   "metadata": {},
   "outputs": [],
   "source": [
    "clf_wrong_predictions = getWrongClassfiedPredictions(X_test, gb_prediction, y_test)"
   ]
  },
  {
   "cell_type": "markdown",
   "metadata": {},
   "source": [
    "#### 15.2 Nutzen Sie die set-Klasse in Python um die Anzahl an Datenpunkten zu bestimmen, welche von allen drei Modellen falsch klassifiziert wurden."
   ]
  },
  {
   "cell_type": "code",
   "execution_count": null,
   "metadata": {},
   "outputs": [],
   "source": [
    "allWrongDataPoints = lr_wrong_predictions & rf_wrong_predictions & clf_wrong_predictions\n",
    "\n",
    "# TODO use this as metric to improve model -> Bring number down!\n",
    "print(f'{len(allWrongDataPoints)} values found wrong categorized in common by all models')"
   ]
  },
  {
   "cell_type": "code",
   "execution_count": null,
   "metadata": {},
   "outputs": [],
   "source": [
    "# TODO find better pattern & use this \n",
    "\n",
    "# TODO use this as metric to improve model -> Search patterns and feature engineer better model\n",
    "\n",
    "# Check out missing baskets\n",
    "[print(test_backup['basket'].iloc[index]) for index in allWrongDataPoints]"
   ]
  },
  {
   "cell_type": "code",
   "execution_count": null,
   "metadata": {},
   "outputs": [],
   "source": []
  }
 ],
 "metadata": {
  "kernelspec": {
   "display_name": "Python 3",
   "language": "python",
   "name": "python3"
  },
  "language_info": {
   "codemirror_mode": {
    "name": "ipython",
    "version": 3
   },
   "file_extension": ".py",
   "mimetype": "text/x-python",
   "name": "python",
   "nbconvert_exporter": "python",
   "pygments_lexer": "ipython3",
   "version": "3.8.3"
  },
  "toc-autonumbering": false,
  "toc-showcode": false,
  "toc-showmarkdowntxt": true,
  "toc-showtags": false
 },
 "nbformat": 4,
 "nbformat_minor": 4
}
