{
 "cells": [
  {
   "cell_type": "markdown",
   "metadata": {},
   "source": [
    "### 1. Laden Sie die Trainingsdaten."
   ]
  },
  {
   "cell_type": "code",
   "execution_count": 1,
   "metadata": {},
   "outputs": [
    {
     "data": {
      "text/html": [
       "<div>\n",
       "<style scoped>\n",
       "    .dataframe tbody tr th:only-of-type {\n",
       "        vertical-align: middle;\n",
       "    }\n",
       "\n",
       "    .dataframe tbody tr th {\n",
       "        vertical-align: top;\n",
       "    }\n",
       "\n",
       "    .dataframe thead th {\n",
       "        text-align: right;\n",
       "    }\n",
       "</style>\n",
       "<table border=\"1\" class=\"dataframe\">\n",
       "  <thead>\n",
       "    <tr style=\"text-align: right;\">\n",
       "      <th></th>\n",
       "      <th>transactionId</th>\n",
       "      <th>basket</th>\n",
       "      <th>customerType</th>\n",
       "      <th>totalAmount</th>\n",
       "      <th>returnLabel</th>\n",
       "    </tr>\n",
       "  </thead>\n",
       "  <tbody>\n",
       "    <tr>\n",
       "      <th>0</th>\n",
       "      <td>7934161612</td>\n",
       "      <td>[3]</td>\n",
       "      <td>existing</td>\n",
       "      <td>77.0</td>\n",
       "      <td>0</td>\n",
       "    </tr>\n",
       "    <tr>\n",
       "      <th>1</th>\n",
       "      <td>5308629088</td>\n",
       "      <td>[5, 3, 0, 3]</td>\n",
       "      <td>existing</td>\n",
       "      <td>64.0</td>\n",
       "      <td>0</td>\n",
       "    </tr>\n",
       "    <tr>\n",
       "      <th>2</th>\n",
       "      <td>1951363325</td>\n",
       "      <td>[3, 3, 1, 4]</td>\n",
       "      <td>new</td>\n",
       "      <td>308.0</td>\n",
       "      <td>1</td>\n",
       "    </tr>\n",
       "    <tr>\n",
       "      <th>3</th>\n",
       "      <td>6713597713</td>\n",
       "      <td>[2]</td>\n",
       "      <td>existing</td>\n",
       "      <td>74.0</td>\n",
       "      <td>0</td>\n",
       "    </tr>\n",
       "    <tr>\n",
       "      <th>4</th>\n",
       "      <td>8352683669</td>\n",
       "      <td>[4, 4, 4, 4]</td>\n",
       "      <td>new</td>\n",
       "      <td>324.0</td>\n",
       "      <td>1</td>\n",
       "    </tr>\n",
       "  </tbody>\n",
       "</table>\n",
       "</div>"
      ],
      "text/plain": [
       "   transactionId        basket customerType  totalAmount  returnLabel\n",
       "0     7934161612           [3]     existing         77.0            0\n",
       "1     5308629088  [5, 3, 0, 3]     existing         64.0            0\n",
       "2     1951363325  [3, 3, 1, 4]          new        308.0            1\n",
       "3     6713597713           [2]     existing         74.0            0\n",
       "4     8352683669  [4, 4, 4, 4]          new        324.0            1"
      ]
     },
     "execution_count": 1,
     "metadata": {},
     "output_type": "execute_result"
    }
   ],
   "source": [
    "import pandas as pd\n",
    "pd.options.mode.chained_assignment = None\n",
    "\n",
    "train_df = pd.read_csv('datasets/train.csv')\n",
    "\n",
    "train_df.head() # See description above for column description"
   ]
  },
  {
   "cell_type": "markdown",
   "metadata": {},
   "source": [
    "### 2. Füllen Sie die fehlenden Werte in den Trainingsdaten auf\n",
    "1, Analysis of missing data  \n",
    "2. Fill/Remove missing data"
   ]
  },
  {
   "cell_type": "code",
   "execution_count": 2,
   "metadata": {
    "scrolled": true
   },
   "outputs": [
    {
     "name": "stdout",
     "output_type": "stream",
     "text": [
      "-------------------------------\n",
      "Total number of missing values:\n",
      "transactionId      0\n",
      "basket             0\n",
      "customerType     517\n",
      "totalAmount      484\n",
      "returnLabel        0\n",
      "dtype: int64\n",
      "-------------------------------\n",
      "\n",
      "The percentage of missing values in the 24483 big CustomerType dataset is only 2,11 % = 517.0 missing values\n",
      "==> Removing missing values should not have a big impact on the resulting model!\n"
     ]
    }
   ],
   "source": [
    "# Analysis of missing data\n",
    "\n",
    "heading = \"Total number of missing values:\"\n",
    "getSeparator = lambda text: len(text)*\"-\"\n",
    "\n",
    "print(getSeparator(heading)) # Just print a nice separator line :)\n",
    "print(heading)\n",
    "print(train_df.isnull().sum())\n",
    "print(getSeparator(heading))\n",
    "\n",
    "# TODO make this all more organized\n",
    "# Calculate the percentage of the cases where the customer type is null\n",
    "# Use this value to decide, whether this values can be \"safely\" removed\n",
    "missingCustomerTypeData = train_df[\"customerType\"].isnull().sum()\n",
    "customerDataSum = train_df[\"customerType\"].count()\n",
    "customerType_isNull_perc = round(missingCustomerTypeData * 100 / customerDataSum, 2)\n",
    "missing_customerType_values_count = round(customerDataSum*(customerType_isNull_perc/100))\n",
    "print(f'\\nThe percentage of missing values in the {customerDataSum} big CustomerType dataset is only {str(customerType_isNull_perc).replace(\".\", \",\")} % = {str(missing_customerType_values_count)} missing values')\n",
    "print('==> Removing missing values should not have a big impact on the resulting model!')"
   ]
  },
  {
   "cell_type": "code",
   "execution_count": 3,
   "metadata": {
    "scrolled": true
   },
   "outputs": [
    {
     "name": "stdout",
     "output_type": "stream",
     "text": [
      "Total number of missing values after cleaning up: 0\n"
     ]
    }
   ],
   "source": [
    "# Clean up missing data\n",
    "\n",
    "# Customer type: Drop na's \n",
    "train_clean = train_df[train_df['customerType'].notna()]\n",
    "\n",
    "# Total amount: Fill with mean's\n",
    "totalAmount_median = train_clean['totalAmount'].mean()\n",
    "train_clean['totalAmount'].fillna(totalAmount_median, inplace=True)\n",
    "\n",
    "print(f'Total number of missing values after cleaning up: {train_clean.isnull().sum().sum()}')"
   ]
  },
  {
   "cell_type": "markdown",
   "metadata": {},
   "source": [
    "### 3. Transformieren Sie die kategorischen Features mittles One-hot-encoding\n",
    "\n",
    "1. Actually get categorical features\n",
    "2. One-Hot Encode categorical features from steps 1"
   ]
  },
  {
   "cell_type": "markdown",
   "metadata": {},
   "source": [
    "#### A) Get a list/Find out categorical columns\n",
    "\n",
    "> As seen in: https://stackoverflow.com/questions/29803093/check-which-columns-in-dataframe-are-categorical"
   ]
  },
  {
   "cell_type": "code",
   "execution_count": 4,
   "metadata": {},
   "outputs": [
    {
     "name": "stdout",
     "output_type": "stream",
     "text": [
      "Categorical attributes found: \n",
      "* basket\n",
      "* customerType\n"
     ]
    }
   ],
   "source": [
    "columns = train_clean.columns\n",
    "# Columns with numerical data\n",
    "num_cols = train_clean._get_numeric_data().columns\n",
    "# Now Substract all columns from the numerical ones\n",
    "categorical_columns = list(set(columns) - set(num_cols))\n",
    "\n",
    "print(\"Categorical attributes found: \", *categorical_columns, sep=\"\\n* \")"
   ]
  },
  {
   "cell_type": "markdown",
   "metadata": {},
   "source": [
    "#### B) Hot encode customer type\n",
    "\n",
    "> Use pandas build in function"
   ]
  },
  {
   "cell_type": "code",
   "execution_count": 5,
   "metadata": {},
   "outputs": [],
   "source": [
    "one_hot_customerType = pd.get_dummies(train_clean['customerType'])"
   ]
  },
  {
   "cell_type": "code",
   "execution_count": 6,
   "metadata": {},
   "outputs": [
    {
     "name": "stdout",
     "output_type": "stream",
     "text": [
      "                                                                                             One hot encoding for the customer type:\n",
      "\n",
      "                                                                                              \n"
     ]
    },
    {
     "data": {
      "text/html": [
       "<div>\n",
       "<style scoped>\n",
       "    .dataframe tbody tr th:only-of-type {\n",
       "        vertical-align: middle;\n",
       "    }\n",
       "\n",
       "    .dataframe tbody tr th {\n",
       "        vertical-align: top;\n",
       "    }\n",
       "\n",
       "    .dataframe thead th {\n",
       "        text-align: right;\n",
       "    }\n",
       "</style>\n",
       "<table border=\"1\" class=\"dataframe\">\n",
       "  <thead>\n",
       "    <tr style=\"text-align: right;\">\n",
       "      <th></th>\n",
       "      <th>existing</th>\n",
       "      <th>new</th>\n",
       "    </tr>\n",
       "  </thead>\n",
       "  <tbody>\n",
       "    <tr>\n",
       "      <th>0</th>\n",
       "      <td>1</td>\n",
       "      <td>0</td>\n",
       "    </tr>\n",
       "    <tr>\n",
       "      <th>1</th>\n",
       "      <td>1</td>\n",
       "      <td>0</td>\n",
       "    </tr>\n",
       "    <tr>\n",
       "      <th>2</th>\n",
       "      <td>0</td>\n",
       "      <td>1</td>\n",
       "    </tr>\n",
       "    <tr>\n",
       "      <th>3</th>\n",
       "      <td>1</td>\n",
       "      <td>0</td>\n",
       "    </tr>\n",
       "    <tr>\n",
       "      <th>4</th>\n",
       "      <td>0</td>\n",
       "      <td>1</td>\n",
       "    </tr>\n",
       "  </tbody>\n",
       "</table>\n",
       "</div>"
      ],
      "text/plain": [
       "   existing  new\n",
       "0         1    0\n",
       "1         1    0\n",
       "2         0    1\n",
       "3         1    0\n",
       "4         0    1"
      ]
     },
     "execution_count": 6,
     "metadata": {},
     "output_type": "execute_result"
    }
   ],
   "source": [
    "from helpers import centeredPrint\n",
    "centeredPrint('One hot encoding for the customer type:\\n\\n')\n",
    "one_hot_customerType.head()"
   ]
  },
  {
   "cell_type": "markdown",
   "metadata": {},
   "source": [
    "#### B) Hot encode the basket values\n",
    "\n",
    "> We'll do this manually"
   ]
  },
  {
   "cell_type": "markdown",
   "metadata": {},
   "source": [
    "<hr>\n",
    "Get the max/min values in the basket feature lists\n",
    "<hr>"
   ]
  },
  {
   "cell_type": "code",
   "execution_count": 7,
   "metadata": {},
   "outputs": [
    {
     "name": "stdout",
     "output_type": "stream",
     "text": [
      "The minimal value basket element is 0 and the max basket value is 5\n"
     ]
    }
   ],
   "source": [
    "from helpers import getIntListFromStringList\n",
    "\n",
    "min_basket_value = min([min(getIntListFromStringList(list)) for list in train_clean['basket']]) \n",
    "max_basket_value = max([max(getIntListFromStringList(list)) for list in train_clean['basket']]) \n",
    "\n",
    "print(f'The minimal value basket element is {min_basket_value} and the max basket value is {max_basket_value}')"
   ]
  },
  {
   "cell_type": "markdown",
   "metadata": {},
   "source": [
    "<hr>\n",
    "Create new features based on the elements in the basket:\n",
    "<hr>"
   ]
  },
  {
   "cell_type": "code",
   "execution_count": 8,
   "metadata": {},
   "outputs": [
    {
     "data": {
      "text/html": [
       "<div>\n",
       "<style scoped>\n",
       "    .dataframe tbody tr th:only-of-type {\n",
       "        vertical-align: middle;\n",
       "    }\n",
       "\n",
       "    .dataframe tbody tr th {\n",
       "        vertical-align: top;\n",
       "    }\n",
       "\n",
       "    .dataframe thead th {\n",
       "        text-align: right;\n",
       "    }\n",
       "</style>\n",
       "<table border=\"1\" class=\"dataframe\">\n",
       "  <thead>\n",
       "    <tr style=\"text-align: right;\">\n",
       "      <th></th>\n",
       "      <th>b_0</th>\n",
       "      <th>b_1</th>\n",
       "      <th>b_2</th>\n",
       "      <th>b_3</th>\n",
       "      <th>b_4</th>\n",
       "      <th>b_5</th>\n",
       "    </tr>\n",
       "  </thead>\n",
       "  <tbody>\n",
       "    <tr>\n",
       "      <th>0</th>\n",
       "      <td>0</td>\n",
       "      <td>0</td>\n",
       "      <td>0</td>\n",
       "      <td>1</td>\n",
       "      <td>0</td>\n",
       "      <td>0</td>\n",
       "    </tr>\n",
       "    <tr>\n",
       "      <th>1</th>\n",
       "      <td>1</td>\n",
       "      <td>0</td>\n",
       "      <td>0</td>\n",
       "      <td>2</td>\n",
       "      <td>0</td>\n",
       "      <td>1</td>\n",
       "    </tr>\n",
       "    <tr>\n",
       "      <th>2</th>\n",
       "      <td>0</td>\n",
       "      <td>1</td>\n",
       "      <td>0</td>\n",
       "      <td>2</td>\n",
       "      <td>1</td>\n",
       "      <td>0</td>\n",
       "    </tr>\n",
       "    <tr>\n",
       "      <th>3</th>\n",
       "      <td>0</td>\n",
       "      <td>0</td>\n",
       "      <td>1</td>\n",
       "      <td>0</td>\n",
       "      <td>0</td>\n",
       "      <td>0</td>\n",
       "    </tr>\n",
       "    <tr>\n",
       "      <th>4</th>\n",
       "      <td>0</td>\n",
       "      <td>0</td>\n",
       "      <td>0</td>\n",
       "      <td>0</td>\n",
       "      <td>4</td>\n",
       "      <td>0</td>\n",
       "    </tr>\n",
       "  </tbody>\n",
       "</table>\n",
       "</div>"
      ],
      "text/plain": [
       "   b_0  b_1  b_2  b_3  b_4  b_5\n",
       "0    0    0    0    1    0    0\n",
       "1    1    0    0    2    0    1\n",
       "2    0    1    0    2    1    0\n",
       "3    0    0    1    0    0    0\n",
       "4    0    0    0    0    4    0"
      ]
     },
     "execution_count": 8,
     "metadata": {},
     "output_type": "execute_result"
    }
   ],
   "source": [
    "# 1. Create new basket labels\n",
    "\n",
    "# List with basket elements\n",
    "# NOTE: We assume, that we have all these values in the basket label array\n",
    "#       We did NOT test this! Maybe test this to have more security...\n",
    "# TODO check whether all values are actually in the list\n",
    "basketElements = list(range(min_basket_value, max_basket_value+1))\n",
    "\n",
    "# Data frame with columns: 'b_0 | b_1 | ...' for each of our basket elements\n",
    "one_hot_basket = pd.DataFrame([], columns=[f'b_{basketElement}' for basketElement in basketElements])\n",
    "\n",
    "'''\n",
    "Do the one hot encoding for the basket feature.\n",
    "Actually just:\n",
    "    1. Check for the current basket, whether the element is present\n",
    "    2. If present, set the encoding bit\n",
    "'''\n",
    "for basketElement in basketElements:\n",
    "      one_hot_basket[f'b_{basketElement}'] = train_clean['basket'].apply(lambda x: x.count(str(basketElement)))\n",
    "\n",
    "one_hot_basket.head()"
   ]
  },
  {
   "cell_type": "markdown",
   "metadata": {},
   "source": [
    "#### C) Concatenate it back into the original dataframe\n",
    "\n",
    "> Use pandas build in function\n",
    "\n",
    "1. Concatenate\n",
    "2. Clean up no more needed features"
   ]
  },
  {
   "cell_type": "code",
   "execution_count": 13,
   "metadata": {},
   "outputs": [
    {
     "data": {
      "text/html": [
       "<div>\n",
       "<style scoped>\n",
       "    .dataframe tbody tr th:only-of-type {\n",
       "        vertical-align: middle;\n",
       "    }\n",
       "\n",
       "    .dataframe tbody tr th {\n",
       "        vertical-align: top;\n",
       "    }\n",
       "\n",
       "    .dataframe thead th {\n",
       "        text-align: right;\n",
       "    }\n",
       "</style>\n",
       "<table border=\"1\" class=\"dataframe\">\n",
       "  <thead>\n",
       "    <tr style=\"text-align: right;\">\n",
       "      <th></th>\n",
       "      <th>transactionId</th>\n",
       "      <th>totalAmount</th>\n",
       "      <th>returnLabel</th>\n",
       "      <th>existing</th>\n",
       "      <th>new</th>\n",
       "      <th>b_0</th>\n",
       "      <th>b_1</th>\n",
       "      <th>b_2</th>\n",
       "      <th>b_3</th>\n",
       "      <th>b_4</th>\n",
       "      <th>b_5</th>\n",
       "    </tr>\n",
       "  </thead>\n",
       "  <tbody>\n",
       "    <tr>\n",
       "      <th>0</th>\n",
       "      <td>7934161612</td>\n",
       "      <td>77.0</td>\n",
       "      <td>0</td>\n",
       "      <td>1</td>\n",
       "      <td>0</td>\n",
       "      <td>0</td>\n",
       "      <td>0</td>\n",
       "      <td>0</td>\n",
       "      <td>1</td>\n",
       "      <td>0</td>\n",
       "      <td>0</td>\n",
       "    </tr>\n",
       "    <tr>\n",
       "      <th>1</th>\n",
       "      <td>5308629088</td>\n",
       "      <td>64.0</td>\n",
       "      <td>0</td>\n",
       "      <td>1</td>\n",
       "      <td>0</td>\n",
       "      <td>1</td>\n",
       "      <td>0</td>\n",
       "      <td>0</td>\n",
       "      <td>2</td>\n",
       "      <td>0</td>\n",
       "      <td>1</td>\n",
       "    </tr>\n",
       "    <tr>\n",
       "      <th>2</th>\n",
       "      <td>1951363325</td>\n",
       "      <td>308.0</td>\n",
       "      <td>1</td>\n",
       "      <td>0</td>\n",
       "      <td>1</td>\n",
       "      <td>0</td>\n",
       "      <td>1</td>\n",
       "      <td>0</td>\n",
       "      <td>2</td>\n",
       "      <td>1</td>\n",
       "      <td>0</td>\n",
       "    </tr>\n",
       "    <tr>\n",
       "      <th>3</th>\n",
       "      <td>6713597713</td>\n",
       "      <td>74.0</td>\n",
       "      <td>0</td>\n",
       "      <td>1</td>\n",
       "      <td>0</td>\n",
       "      <td>0</td>\n",
       "      <td>0</td>\n",
       "      <td>1</td>\n",
       "      <td>0</td>\n",
       "      <td>0</td>\n",
       "      <td>0</td>\n",
       "    </tr>\n",
       "    <tr>\n",
       "      <th>4</th>\n",
       "      <td>8352683669</td>\n",
       "      <td>324.0</td>\n",
       "      <td>1</td>\n",
       "      <td>0</td>\n",
       "      <td>1</td>\n",
       "      <td>0</td>\n",
       "      <td>0</td>\n",
       "      <td>0</td>\n",
       "      <td>0</td>\n",
       "      <td>4</td>\n",
       "      <td>0</td>\n",
       "    </tr>\n",
       "  </tbody>\n",
       "</table>\n",
       "</div>"
      ],
      "text/plain": [
       "   transactionId  totalAmount  returnLabel  existing  new  b_0  b_1  b_2  b_3  \\\n",
       "0     7934161612         77.0            0         1    0    0    0    0    1   \n",
       "1     5308629088         64.0            0         1    0    1    0    0    2   \n",
       "2     1951363325        308.0            1         0    1    0    1    0    2   \n",
       "3     6713597713         74.0            0         1    0    0    0    1    0   \n",
       "4     8352683669        324.0            1         0    1    0    0    0    0   \n",
       "\n",
       "   b_4  b_5  \n",
       "0    0    0  \n",
       "1    0    1  \n",
       "2    1    0  \n",
       "3    0    0  \n",
       "4    4    0  "
      ]
     },
     "execution_count": 13,
     "metadata": {},
     "output_type": "execute_result"
    }
   ],
   "source": [
    "train_all = pd.concat([train_clean, one_hot_customerType, one_hot_basket], axis=1)\n",
    "\n",
    "# Clean up: Drop Basket and customerType as they are no longer needed\n",
    "train_all = train_all.drop(columns=['basket', 'customerType'])\n",
    "\n",
    "train_all.head()"
   ]
  },
  {
   "cell_type": "markdown",
   "metadata": {},
   "source": [
    "### 4. Versuchen Sie auf Basis des Attributs basket Features zu bauen (z.B. wie oft kommt jede Kategorie im Basket vor).\n",
    "\n",
    "> Gesucht: Features zur Hilfe der Vorhersage ob Kunde Bestellung zurückschickt"
   ]
  },
  {
   "cell_type": "markdown",
   "metadata": {},
   "source": [
    "1. Wie oft kommt jede Kategorie im Basket vor(Default aus Aufgabenstellung)"
   ]
  },
  {
   "cell_type": "code",
   "execution_count": 14,
   "metadata": {},
   "outputs": [
    {
     "data": {
      "text/html": [
       "<div>\n",
       "<style scoped>\n",
       "    .dataframe tbody tr th:only-of-type {\n",
       "        vertical-align: middle;\n",
       "    }\n",
       "\n",
       "    .dataframe tbody tr th {\n",
       "        vertical-align: top;\n",
       "    }\n",
       "\n",
       "    .dataframe thead th {\n",
       "        text-align: right;\n",
       "    }\n",
       "</style>\n",
       "<table border=\"1\" class=\"dataframe\">\n",
       "  <thead>\n",
       "    <tr style=\"text-align: right;\">\n",
       "      <th></th>\n",
       "      <th>transactionId</th>\n",
       "      <th>basket</th>\n",
       "      <th>customerType</th>\n",
       "      <th>totalAmount</th>\n",
       "      <th>returnLabel</th>\n",
       "    </tr>\n",
       "  </thead>\n",
       "  <tbody>\n",
       "    <tr>\n",
       "      <th>0</th>\n",
       "      <td>7934161612</td>\n",
       "      <td>[3]</td>\n",
       "      <td>existing</td>\n",
       "      <td>77.0</td>\n",
       "      <td>0</td>\n",
       "    </tr>\n",
       "    <tr>\n",
       "      <th>1</th>\n",
       "      <td>5308629088</td>\n",
       "      <td>[5, 3, 0, 3]</td>\n",
       "      <td>existing</td>\n",
       "      <td>64.0</td>\n",
       "      <td>0</td>\n",
       "    </tr>\n",
       "    <tr>\n",
       "      <th>2</th>\n",
       "      <td>1951363325</td>\n",
       "      <td>[3, 3, 1, 4]</td>\n",
       "      <td>new</td>\n",
       "      <td>308.0</td>\n",
       "      <td>1</td>\n",
       "    </tr>\n",
       "    <tr>\n",
       "      <th>3</th>\n",
       "      <td>6713597713</td>\n",
       "      <td>[2]</td>\n",
       "      <td>existing</td>\n",
       "      <td>74.0</td>\n",
       "      <td>0</td>\n",
       "    </tr>\n",
       "    <tr>\n",
       "      <th>4</th>\n",
       "      <td>8352683669</td>\n",
       "      <td>[4, 4, 4, 4]</td>\n",
       "      <td>new</td>\n",
       "      <td>324.0</td>\n",
       "      <td>1</td>\n",
       "    </tr>\n",
       "    <tr>\n",
       "      <th>...</th>\n",
       "      <td>...</td>\n",
       "      <td>...</td>\n",
       "      <td>...</td>\n",
       "      <td>...</td>\n",
       "      <td>...</td>\n",
       "    </tr>\n",
       "    <tr>\n",
       "      <th>24995</th>\n",
       "      <td>8178087221</td>\n",
       "      <td>[4, 3, 2, 4, 2, 2, 4, 1, 0]</td>\n",
       "      <td>new</td>\n",
       "      <td>756.0</td>\n",
       "      <td>1</td>\n",
       "    </tr>\n",
       "    <tr>\n",
       "      <th>24996</th>\n",
       "      <td>8955146476</td>\n",
       "      <td>[5, 5, 5, 0, 0, 2, 4, 1, 2, 4, 5, 2]</td>\n",
       "      <td>existing</td>\n",
       "      <td>600.0</td>\n",
       "      <td>0</td>\n",
       "    </tr>\n",
       "    <tr>\n",
       "      <th>24997</th>\n",
       "      <td>7770630838</td>\n",
       "      <td>[1, 3, 4, 4, 2, 0]</td>\n",
       "      <td>existing</td>\n",
       "      <td>252.0</td>\n",
       "      <td>0</td>\n",
       "    </tr>\n",
       "    <tr>\n",
       "      <th>24998</th>\n",
       "      <td>3758775159</td>\n",
       "      <td>[5, 3]</td>\n",
       "      <td>existing</td>\n",
       "      <td>66.0</td>\n",
       "      <td>0</td>\n",
       "    </tr>\n",
       "    <tr>\n",
       "      <th>24999</th>\n",
       "      <td>7697226342</td>\n",
       "      <td>[4, 4, 0, 3, 4]</td>\n",
       "      <td>new</td>\n",
       "      <td>170.0</td>\n",
       "      <td>1</td>\n",
       "    </tr>\n",
       "  </tbody>\n",
       "</table>\n",
       "<p>24483 rows × 5 columns</p>\n",
       "</div>"
      ],
      "text/plain": [
       "       transactionId                                basket customerType  \\\n",
       "0         7934161612                                   [3]     existing   \n",
       "1         5308629088                          [5, 3, 0, 3]     existing   \n",
       "2         1951363325                          [3, 3, 1, 4]          new   \n",
       "3         6713597713                                   [2]     existing   \n",
       "4         8352683669                          [4, 4, 4, 4]          new   \n",
       "...              ...                                   ...          ...   \n",
       "24995     8178087221           [4, 3, 2, 4, 2, 2, 4, 1, 0]          new   \n",
       "24996     8955146476  [5, 5, 5, 0, 0, 2, 4, 1, 2, 4, 5, 2]     existing   \n",
       "24997     7770630838                    [1, 3, 4, 4, 2, 0]     existing   \n",
       "24998     3758775159                                [5, 3]     existing   \n",
       "24999     7697226342                       [4, 4, 0, 3, 4]          new   \n",
       "\n",
       "       totalAmount  returnLabel  \n",
       "0             77.0            0  \n",
       "1             64.0            0  \n",
       "2            308.0            1  \n",
       "3             74.0            0  \n",
       "4            324.0            1  \n",
       "...            ...          ...  \n",
       "24995        756.0            1  \n",
       "24996        600.0            0  \n",
       "24997        252.0            0  \n",
       "24998         66.0            0  \n",
       "24999        170.0            1  \n",
       "\n",
       "[24483 rows x 5 columns]"
      ]
     },
     "execution_count": 14,
     "metadata": {},
     "output_type": "execute_result"
    }
   ],
   "source": []
  },
  {
   "cell_type": "markdown",
   "metadata": {},
   "source": [
    "2. TODO mehr ausdenken"
   ]
  },
  {
   "cell_type": "markdown",
   "metadata": {},
   "source": [
    "### 5. Skalieren Sie die Features mit einem StandardScaler.\n",
    "\n",
    "> Use sklearn scaler\n",
    "\n",
    "1. Drop target feature\n",
    "2. scale the x results"
   ]
  },
  {
   "cell_type": "code",
   "execution_count": 11,
   "metadata": {},
   "outputs": [],
   "source": [
    "from sklearn.preprocessing import StandardScaler\n",
    "\n",
    "# TODO better naming(See other files already done)\n",
    "\n",
    "x = train_all.drop(columns=['returnLabel'])\n",
    "scaler = StandardScaler()\n",
    "\n",
    "# Our x/y values\n",
    "X = scaler.fit_transform(x)\n",
    "y = train_all['returnLabel'].values"
   ]
  },
  {
   "cell_type": "markdown",
   "metadata": {},
   "source": [
    "### 6. Trainieren Sie die folgenden Klassifikationsmodelle und probieren Sie die angegebenen Hyperparameter mittels Cross-Validation aus:\n",
    "\n",
    "> DOING"
   ]
  },
  {
   "cell_type": "code",
   "execution_count": 12,
   "metadata": {},
   "outputs": [
    {
     "data": {
      "text/plain": [
       "'\\nDOING\\n'"
      ]
     },
     "execution_count": 12,
     "metadata": {},
     "output_type": "execute_result"
    }
   ],
   "source": [
    "from sklearn.linear_model import LogisticRegression\n",
    "\n",
    "'''\n",
    "DOING\n",
    "'''\n",
    "\n",
    "#1. Logistische Regression: C :[0.1,1,4,5,6,10,30,100] und penalty: [\"l1\", \"l2\"]\n",
    "\n",
    "# logisticRegr = LogisticRegression(max_iter=1000, penalty = [\"l1\", \"l2\"], C=[0.1,1,4,5,6,10,30,100])\n",
    "# logisticRegr.fit(X, y)\n",
    "\n",
    "#2. Random Forest: n_estimators: [60,80,100,120,140] und max_depth: [2, 3, 4, 5]\n",
    "\n",
    "# model = RandomForestClassifier(random_state=0)\n",
    "# model.fit(X, y)\n",
    "\n",
    "#3. Gradient Boosting Tree: gleiche Hyperparameter wie bei Random Forest\n",
    "\n",
    "# parameter_candidates = [{'n_estimators': [60,80,100,120,140], 'max_depth': [2, 3, 4, 5]}]\n",
    "# gbt = GradientBoostingClassifier(random_state=0)\n",
    "# clf_cv = GridSearchCV(estimator=gbt, param_grid=parameter_candidates, n_jobs=-1)\n",
    "# clf_cv.fit(X, y)\n"
   ]
  },
  {
   "cell_type": "code",
   "execution_count": null,
   "metadata": {},
   "outputs": [],
   "source": []
  }
 ],
 "metadata": {
  "kernelspec": {
   "display_name": "Python 3",
   "language": "python",
   "name": "python3"
  },
  "language_info": {
   "codemirror_mode": {
    "name": "ipython",
    "version": 3
   },
   "file_extension": ".py",
   "mimetype": "text/x-python",
   "name": "python",
   "nbconvert_exporter": "python",
   "pygments_lexer": "ipython3",
   "version": "3.8.3"
  }
 },
 "nbformat": 4,
 "nbformat_minor": 4
}
