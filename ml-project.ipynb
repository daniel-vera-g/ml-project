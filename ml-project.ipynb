{
 "cells": [
  {
   "cell_type": "markdown",
   "metadata": {
    "id": "IBd6-BKtUkyM"
   },
   "source": [
    "### 0. Helpers\n",
    "\n",
    "> Helper functions used in upcoming sections"
   ]
  },
  {
   "cell_type": "code",
   "execution_count": 1,
   "metadata": {
    "id": "KZaK73TuUkya"
   },
   "outputs": [],
   "source": [
    "import os \n",
    "import re # RegEx\n",
    "\n",
    "# Get Separator line to match whole statement length. F.ex: text -> ----\n",
    "getSeparator = lambda text: len(text)*\"-\" # table Top/Bottom separators\n",
    "\n",
    "\"\"\"\n",
    "Convert's a string list into a regular list:\n",
    "F.ex. [0, 1, 2, 3] from type **String** -> to type **Int**\n",
    "\n",
    "1. In the for loop: Convert the 'String' list into a regular list by:\n",
    "    * Remove the Square brackets\n",
    "    * Split the string into a list\n",
    "2. For each element in the created list convert it from string to int\n",
    "\n",
    "\"\"\"\n",
    "getIntListFromStringList = lambda stringList: [int(listElement) for listElement in re.sub(\"[\\[\\]]\", \"\", stringList).split(',')]"
   ]
  },
  {
   "cell_type": "markdown",
   "metadata": {
    "id": "EBydEatRUkyc"
   },
   "source": [
    "<hr>\n",
    "\n",
    "## TRAINING 🏋️‍♀️\n",
    "\n",
    "<hr>"
   ]
  },
  {
   "cell_type": "markdown",
   "metadata": {
    "id": "R4JeW5-iUkyc"
   },
   "source": [
    "### 1. Laden Sie die Trainingsdaten."
   ]
  },
  {
   "cell_type": "code",
   "execution_count": 2,
   "metadata": {
    "colab": {
     "base_uri": "https://localhost:8080/",
     "height": 343
    },
    "id": "WxUcfJUWUkyc",
    "outputId": "8e5ed4ca-8685-4414-afa6-cb4ea1e3c211"
   },
   "outputs": [
    {
     "data": {
      "text/html": [
       "<div>\n",
       "<style scoped>\n",
       "    .dataframe tbody tr th:only-of-type {\n",
       "        vertical-align: middle;\n",
       "    }\n",
       "\n",
       "    .dataframe tbody tr th {\n",
       "        vertical-align: top;\n",
       "    }\n",
       "\n",
       "    .dataframe thead th {\n",
       "        text-align: right;\n",
       "    }\n",
       "</style>\n",
       "<table border=\"1\" class=\"dataframe\">\n",
       "  <thead>\n",
       "    <tr style=\"text-align: right;\">\n",
       "      <th></th>\n",
       "      <th>transactionId</th>\n",
       "      <th>basket</th>\n",
       "      <th>customerType</th>\n",
       "      <th>totalAmount</th>\n",
       "      <th>returnLabel</th>\n",
       "    </tr>\n",
       "  </thead>\n",
       "  <tbody>\n",
       "    <tr>\n",
       "      <th>0</th>\n",
       "      <td>7934161612</td>\n",
       "      <td>[3]</td>\n",
       "      <td>existing</td>\n",
       "      <td>77.0</td>\n",
       "      <td>0</td>\n",
       "    </tr>\n",
       "    <tr>\n",
       "      <th>1</th>\n",
       "      <td>5308629088</td>\n",
       "      <td>[5, 3, 0, 3]</td>\n",
       "      <td>existing</td>\n",
       "      <td>64.0</td>\n",
       "      <td>0</td>\n",
       "    </tr>\n",
       "    <tr>\n",
       "      <th>2</th>\n",
       "      <td>1951363325</td>\n",
       "      <td>[3, 3, 1, 4]</td>\n",
       "      <td>new</td>\n",
       "      <td>308.0</td>\n",
       "      <td>1</td>\n",
       "    </tr>\n",
       "    <tr>\n",
       "      <th>3</th>\n",
       "      <td>6713597713</td>\n",
       "      <td>[2]</td>\n",
       "      <td>existing</td>\n",
       "      <td>74.0</td>\n",
       "      <td>0</td>\n",
       "    </tr>\n",
       "    <tr>\n",
       "      <th>4</th>\n",
       "      <td>8352683669</td>\n",
       "      <td>[4, 4, 4, 4]</td>\n",
       "      <td>new</td>\n",
       "      <td>324.0</td>\n",
       "      <td>1</td>\n",
       "    </tr>\n",
       "    <tr>\n",
       "      <th>5</th>\n",
       "      <td>7416526871</td>\n",
       "      <td>[4, 3, 4, 4]</td>\n",
       "      <td>new</td>\n",
       "      <td>256.0</td>\n",
       "      <td>1</td>\n",
       "    </tr>\n",
       "    <tr>\n",
       "      <th>6</th>\n",
       "      <td>5297184153</td>\n",
       "      <td>[3, 4]</td>\n",
       "      <td>existing</td>\n",
       "      <td>110.0</td>\n",
       "      <td>1</td>\n",
       "    </tr>\n",
       "    <tr>\n",
       "      <th>7</th>\n",
       "      <td>5634650486</td>\n",
       "      <td>[4, 4, 1, 4, 4]</td>\n",
       "      <td>new</td>\n",
       "      <td>100.0</td>\n",
       "      <td>1</td>\n",
       "    </tr>\n",
       "    <tr>\n",
       "      <th>8</th>\n",
       "      <td>5788331730</td>\n",
       "      <td>[1, 5, 2, 2]</td>\n",
       "      <td>existing</td>\n",
       "      <td>240.0</td>\n",
       "      <td>0</td>\n",
       "    </tr>\n",
       "    <tr>\n",
       "      <th>9</th>\n",
       "      <td>7800645047</td>\n",
       "      <td>[5, 5, 0]</td>\n",
       "      <td>existing</td>\n",
       "      <td>138.0</td>\n",
       "      <td>0</td>\n",
       "    </tr>\n",
       "  </tbody>\n",
       "</table>\n",
       "</div>"
      ],
      "text/plain": [
       "   transactionId           basket customerType  totalAmount  returnLabel\n",
       "0     7934161612              [3]     existing         77.0            0\n",
       "1     5308629088     [5, 3, 0, 3]     existing         64.0            0\n",
       "2     1951363325     [3, 3, 1, 4]          new        308.0            1\n",
       "3     6713597713              [2]     existing         74.0            0\n",
       "4     8352683669     [4, 4, 4, 4]          new        324.0            1\n",
       "5     7416526871     [4, 3, 4, 4]          new        256.0            1\n",
       "6     5297184153           [3, 4]     existing        110.0            1\n",
       "7     5634650486  [4, 4, 1, 4, 4]          new        100.0            1\n",
       "8     5788331730     [1, 5, 2, 2]     existing        240.0            0\n",
       "9     7800645047        [5, 5, 0]     existing        138.0            0"
      ]
     },
     "execution_count": 2,
     "metadata": {},
     "output_type": "execute_result"
    }
   ],
   "source": [
    "import pandas as pd\n",
    "pd.options.mode.chained_assignment = None\n",
    "\n",
    "train_df = pd.read_csv('sample_data/train.csv')\n",
    "\n",
    "train_df.head(10)"
   ]
  },
  {
   "cell_type": "markdown",
   "metadata": {
    "id": "v-lKsxU4Ukyd"
   },
   "source": [
    "### 2. Füllen Sie die fehlenden Werte in den Trainingsdaten auf"
   ]
  },
  {
   "cell_type": "markdown",
   "metadata": {
    "id": "0kxjXQ5vUkye"
   },
   "source": [
    "#### 2.1 Analysis of missing data\n",
    "\n",
    "> Analyze which data is missing"
   ]
  },
  {
   "cell_type": "code",
   "execution_count": 3,
   "metadata": {
    "colab": {
     "base_uri": "https://localhost:8080/"
    },
    "id": "eFPViJQ0Ukye",
    "outputId": "2f72841d-efd4-4d66-fd6b-7053a57ddfcc",
    "scrolled": true
   },
   "outputs": [
    {
     "name": "stdout",
     "output_type": "stream",
     "text": [
      "----------------------------------------\n",
      "Total number of missing training values:\n",
      "transactionId      0\n",
      "basket             0\n",
      "customerType     517\n",
      "totalAmount      484\n",
      "returnLabel        0\n",
      "dtype: int64\n",
      "----------------------------------------\n"
     ]
    }
   ],
   "source": [
    "# Analysis of missing data\n",
    "\n",
    "heading = \"Total number of missing training values:\"\n",
    "\n",
    "print(getSeparator(heading))\n",
    "print(heading)\n",
    "print(train_df.isnull().sum()) # Check which values are null\n",
    "print(getSeparator(heading))"
   ]
  },
  {
   "cell_type": "markdown",
   "metadata": {
    "id": "r-tM86jVUkyf"
   },
   "source": [
    "The missing `customerType` data is of categorical value(`existing` or `new`).  \n",
    "\n",
    "In the following, let's check whether it's worthwhile to replace missing values:"
   ]
  },
  {
   "cell_type": "code",
   "execution_count": 4,
   "metadata": {
    "colab": {
     "base_uri": "https://localhost:8080/"
    },
    "id": "Hk5u1XaPUkyf",
    "outputId": "aca5db93-4cdf-4e06-bf57-f5f5e9352440",
    "scrolled": true
   },
   "outputs": [
    {
     "name": "stdout",
     "output_type": "stream",
     "text": [
      "\n",
      "The percentage of missing values in the 24483 big CustomerType dataset is only 2,11 % = 517.0 missing values\n",
      "==> Removing missing values should not have a big impact on the resulting model!\n"
     ]
    }
   ],
   "source": [
    "# Calculate the percentage of the cases where the customer type is null\n",
    "# Use this value to decide, whether this values can be \"safely\" removed\n",
    "\n",
    "customerDataSum = train_df[\"customerType\"].count()\n",
    "missingCustomerTypeData = train_df[\"customerType\"].isnull().sum()\n",
    "\n",
    "# Calaculated values\n",
    "customerType_isNull_percentage = round(missingCustomerTypeData * 100 / customerDataSum, 2)\n",
    "missing_customerType_amount = round(customerDataSum*(customerType_isNull_percentage/100))\n",
    "\n",
    "print(f'\\nThe percentage of missing values in the {customerDataSum} big CustomerType dataset is only {str(customerType_isNull_percentage).replace(\".\", \",\")} % = {str(missing_customerType_amount)} missing values')\n",
    "print('==> Removing missing values should not have a big impact on the resulting model!')"
   ]
  },
  {
   "cell_type": "markdown",
   "metadata": {
    "id": "Uf24vNC8Ukyg"
   },
   "source": [
    "#### 2.2 Actual  filling/removing of data\n",
    "\n",
    "1. Remove missing `customerType` values\n",
    "2. Fill na's with mean for `totalAmount` feature"
   ]
  },
  {
   "cell_type": "code",
   "execution_count": 5,
   "metadata": {
    "colab": {
     "base_uri": "https://localhost:8080/"
    },
    "id": "pSsUbWYLUkyg",
    "outputId": "20ad5f25-deab-4001-e42c-722bc419e93f",
    "scrolled": true
   },
   "outputs": [
    {
     "name": "stdout",
     "output_type": "stream",
     "text": [
      "Total number of missing training values after cleaning up: 0\n"
     ]
    }
   ],
   "source": [
    "# Drop customerType NaN' s -> See decision why above\n",
    "train_cleaned = train_df[train_df['customerType'].notna()]\n",
    "\n",
    "# Total amount: Fill with mean's\n",
    "totalAmount_mean = train_cleaned['totalAmount'].mean()\n",
    "train_cleaned['totalAmount'].fillna(totalAmount_mean, inplace=True)\n",
    "\n",
    "print(f'Total number of missing training values after cleaning up: {train_cleaned.isnull().sum().sum()}')"
   ]
  },
  {
   "cell_type": "markdown",
   "metadata": {
    "id": "EaXqZk6WUkyg"
   },
   "source": [
    "### 3. Transformieren Sie die kategorischen Features mittles One-hot-encoding\n",
    "\n",
    "1. Find categorical features\n",
    "2. One-Hot Encode categorical features found in step 1"
   ]
  },
  {
   "cell_type": "markdown",
   "metadata": {
    "id": "x3XrfozEUkyh"
   },
   "source": [
    "#### 3.1 Get a list/Find out categorical columns"
   ]
  },
  {
   "cell_type": "code",
   "execution_count": 6,
   "metadata": {
    "colab": {
     "base_uri": "https://localhost:8080/"
    },
    "id": "-ZMlsKA-Ukyh",
    "outputId": "6566d624-0a0f-4027-eb20-544e3af054c2"
   },
   "outputs": [
    {
     "name": "stdout",
     "output_type": "stream",
     "text": [
      "Categorical attributes found: \n",
      "* customerType\n",
      "* basket\n"
     ]
    }
   ],
   "source": [
    "columns = train_cleaned.columns\n",
    "\n",
    "# Columns with numerical data\n",
    "num_cols = train_cleaned._get_numeric_data().columns\n",
    "\n",
    "# Now Substract all columns from the numerical ones\n",
    "categorical_columns = list(set(columns) - set(num_cols))\n",
    "\n",
    "print(\"Categorical attributes found: \", *categorical_columns, sep=\"\\n* \")"
   ]
  },
  {
   "cell_type": "markdown",
   "metadata": {
    "id": "wiCyJX-8Ukyh"
   },
   "source": [
    "#### 3.2 Hot encode customer type\n",
    "\n",
    "> Use pandas build in function"
   ]
  },
  {
   "cell_type": "code",
   "execution_count": 7,
   "metadata": {
    "id": "G_pU_UYHUkyi"
   },
   "outputs": [],
   "source": [
    "one_hot_customerType = pd.get_dummies(train_cleaned['customerType'])"
   ]
  },
  {
   "cell_type": "code",
   "execution_count": 8,
   "metadata": {
    "colab": {
     "base_uri": "https://localhost:8080/",
     "height": 0
    },
    "id": "Tdv56jOmUkyi",
    "outputId": "0afa45f9-c608-444e-bec9-b634a0ed5f19"
   },
   "outputs": [
    {
     "name": "stdout",
     "output_type": "stream",
     "text": [
      "One hot encoding for the customer type:\n",
      "\n",
      "\n"
     ]
    },
    {
     "data": {
      "text/html": [
       "<div>\n",
       "<style scoped>\n",
       "    .dataframe tbody tr th:only-of-type {\n",
       "        vertical-align: middle;\n",
       "    }\n",
       "\n",
       "    .dataframe tbody tr th {\n",
       "        vertical-align: top;\n",
       "    }\n",
       "\n",
       "    .dataframe thead th {\n",
       "        text-align: right;\n",
       "    }\n",
       "</style>\n",
       "<table border=\"1\" class=\"dataframe\">\n",
       "  <thead>\n",
       "    <tr style=\"text-align: right;\">\n",
       "      <th></th>\n",
       "      <th>existing</th>\n",
       "      <th>new</th>\n",
       "    </tr>\n",
       "  </thead>\n",
       "  <tbody>\n",
       "    <tr>\n",
       "      <th>0</th>\n",
       "      <td>1</td>\n",
       "      <td>0</td>\n",
       "    </tr>\n",
       "    <tr>\n",
       "      <th>1</th>\n",
       "      <td>1</td>\n",
       "      <td>0</td>\n",
       "    </tr>\n",
       "    <tr>\n",
       "      <th>2</th>\n",
       "      <td>0</td>\n",
       "      <td>1</td>\n",
       "    </tr>\n",
       "    <tr>\n",
       "      <th>3</th>\n",
       "      <td>1</td>\n",
       "      <td>0</td>\n",
       "    </tr>\n",
       "    <tr>\n",
       "      <th>4</th>\n",
       "      <td>0</td>\n",
       "      <td>1</td>\n",
       "    </tr>\n",
       "  </tbody>\n",
       "</table>\n",
       "</div>"
      ],
      "text/plain": [
       "   existing  new\n",
       "0         1    0\n",
       "1         1    0\n",
       "2         0    1\n",
       "3         1    0\n",
       "4         0    1"
      ]
     },
     "execution_count": 8,
     "metadata": {},
     "output_type": "execute_result"
    }
   ],
   "source": [
    "print('One hot encoding for the customer type:\\n\\n')\n",
    "\n",
    "one_hot_customerType.head()"
   ]
  },
  {
   "cell_type": "markdown",
   "metadata": {
    "id": "hB696DtFUkyi"
   },
   "source": [
    "#### 3.3 Hot encode the basket values\n",
    "\n",
    "> We'll do this manually"
   ]
  },
  {
   "cell_type": "markdown",
   "metadata": {
    "id": "PHv_FrQkUkyi"
   },
   "source": [
    "<hr>\n",
    "Get the max/min values in the basket feature lists\n",
    "<hr>"
   ]
  },
  {
   "cell_type": "code",
   "execution_count": 9,
   "metadata": {
    "colab": {
     "base_uri": "https://localhost:8080/"
    },
    "id": "9Xy1UyFTUkyj",
    "outputId": "7a7655d3-7be5-410f-b41e-cbccd794b152"
   },
   "outputs": [
    {
     "name": "stdout",
     "output_type": "stream",
     "text": [
      "The minimal value basket element is 0 and the max basket value is 5\n"
     ]
    }
   ],
   "source": [
    "# For each basket, get the min/max\n",
    "# Web get them as strings, therefore we use our helper function to convert them to int lists\n",
    "min_basket_value = min([min(getIntListFromStringList(list)) for list in train_cleaned['basket']]) \n",
    "max_basket_value = max([max(getIntListFromStringList(list)) for list in train_cleaned['basket']]) \n",
    "\n",
    "print(f'The minimal value basket element is {min_basket_value} and the max basket value is {max_basket_value}')"
   ]
  },
  {
   "cell_type": "markdown",
   "metadata": {
    "id": "ll1euX0VUkyj"
   },
   "source": [
    "<hr>\n",
    "Create new features based on the elements in the basket:\n",
    "<hr>"
   ]
  },
  {
   "cell_type": "code",
   "execution_count": 10,
   "metadata": {
    "colab": {
     "base_uri": "https://localhost:8080/",
     "height": 0
    },
    "id": "WaSX45MSUkyj",
    "outputId": "6795308a-b345-478b-eca2-0c92ed9e0f59"
   },
   "outputs": [
    {
     "data": {
      "text/html": [
       "<div>\n",
       "<style scoped>\n",
       "    .dataframe tbody tr th:only-of-type {\n",
       "        vertical-align: middle;\n",
       "    }\n",
       "\n",
       "    .dataframe tbody tr th {\n",
       "        vertical-align: top;\n",
       "    }\n",
       "\n",
       "    .dataframe thead th {\n",
       "        text-align: right;\n",
       "    }\n",
       "</style>\n",
       "<table border=\"1\" class=\"dataframe\">\n",
       "  <thead>\n",
       "    <tr style=\"text-align: right;\">\n",
       "      <th></th>\n",
       "      <th>b_0</th>\n",
       "      <th>b_1</th>\n",
       "      <th>b_2</th>\n",
       "      <th>b_3</th>\n",
       "      <th>b_4</th>\n",
       "      <th>b_5</th>\n",
       "    </tr>\n",
       "  </thead>\n",
       "  <tbody>\n",
       "    <tr>\n",
       "      <th>0</th>\n",
       "      <td>0</td>\n",
       "      <td>0</td>\n",
       "      <td>0</td>\n",
       "      <td>1</td>\n",
       "      <td>0</td>\n",
       "      <td>0</td>\n",
       "    </tr>\n",
       "    <tr>\n",
       "      <th>1</th>\n",
       "      <td>1</td>\n",
       "      <td>0</td>\n",
       "      <td>0</td>\n",
       "      <td>2</td>\n",
       "      <td>0</td>\n",
       "      <td>1</td>\n",
       "    </tr>\n",
       "    <tr>\n",
       "      <th>2</th>\n",
       "      <td>0</td>\n",
       "      <td>1</td>\n",
       "      <td>0</td>\n",
       "      <td>2</td>\n",
       "      <td>1</td>\n",
       "      <td>0</td>\n",
       "    </tr>\n",
       "    <tr>\n",
       "      <th>3</th>\n",
       "      <td>0</td>\n",
       "      <td>0</td>\n",
       "      <td>1</td>\n",
       "      <td>0</td>\n",
       "      <td>0</td>\n",
       "      <td>0</td>\n",
       "    </tr>\n",
       "    <tr>\n",
       "      <th>4</th>\n",
       "      <td>0</td>\n",
       "      <td>0</td>\n",
       "      <td>0</td>\n",
       "      <td>0</td>\n",
       "      <td>4</td>\n",
       "      <td>0</td>\n",
       "    </tr>\n",
       "  </tbody>\n",
       "</table>\n",
       "</div>"
      ],
      "text/plain": [
       "   b_0  b_1  b_2  b_3  b_4  b_5\n",
       "0    0    0    0    1    0    0\n",
       "1    1    0    0    2    0    1\n",
       "2    0    1    0    2    1    0\n",
       "3    0    0    1    0    0    0\n",
       "4    0    0    0    0    4    0"
      ]
     },
     "execution_count": 10,
     "metadata": {},
     "output_type": "execute_result"
    }
   ],
   "source": [
    "# List with basket elements\n",
    "basketElements = list(range(min_basket_value, max_basket_value+1))\n",
    "\n",
    "# Data frame with columns: 'b_0 | b_1 | ...' for each of our basket elements\n",
    "one_hot_basket = pd.DataFrame([], columns=[f'b_{basketElement}' for basketElement in basketElements])\n",
    "\n",
    "'''\n",
    "Do the one hot encoding for the basket feature.\n",
    "Actually just:\n",
    "    1. Check for the current basket, whether the element is present\n",
    "    2. If present, set the encoding bit\n",
    "'''\n",
    "for basketElement in basketElements:\n",
    "      one_hot_basket[f'b_{basketElement}'] = train_cleaned['basket'].apply(lambda x: x.count(str(basketElement)))\n",
    "\n",
    "one_hot_basket.head()"
   ]
  },
  {
   "cell_type": "markdown",
   "metadata": {
    "id": "HLXIStuYUkyk"
   },
   "source": [
    "#### 3.4 Concatenate it back into the original dataframe\n",
    "\n",
    "> Use pandas build in function\n",
    "\n",
    "1. Concatenate\n",
    "2. Clean up no more needed features"
   ]
  },
  {
   "cell_type": "code",
   "execution_count": 11,
   "metadata": {
    "id": "wwDVOkxqUkyk"
   },
   "outputs": [],
   "source": [
    "train_encoded = pd.concat([train_cleaned, one_hot_customerType, one_hot_basket], axis=1)\n",
    "\n",
    "# We'll keep basket, as it'll probably be helpful for the feature engineering, \n",
    "# We'll only convert it to an int list(from string) for better handling\n",
    "train_encoded['basket'] = [getIntListFromStringList(basket) for basket in train_cleaned.basket]\n",
    "\n",
    "# Clean up: Drop customerType as it is no longer needed\n",
    "train_encoded = train_encoded.drop(columns=['customerType'])"
   ]
  },
  {
   "cell_type": "markdown",
   "metadata": {
    "id": "Fu6ga6_KUkyl"
   },
   "source": [
    "### 4. Datenattribute eliminieren\n",
    "\n",
    "> Datenattribute die nicht mit Zielvariable korrelieren entfernen\n",
    "\n",
    "Zu entfernen:\n",
    "    \n",
    "1. `transactionId`    "
   ]
  },
  {
   "cell_type": "code",
   "execution_count": 12,
   "metadata": {
    "colab": {
     "base_uri": "https://localhost:8080/",
     "height": 343
    },
    "id": "XOZiBl9uUkyl",
    "outputId": "7c9467bb-9254-4345-aa1e-3392943d61fd"
   },
   "outputs": [
    {
     "data": {
      "text/html": [
       "<div>\n",
       "<style scoped>\n",
       "    .dataframe tbody tr th:only-of-type {\n",
       "        vertical-align: middle;\n",
       "    }\n",
       "\n",
       "    .dataframe tbody tr th {\n",
       "        vertical-align: top;\n",
       "    }\n",
       "\n",
       "    .dataframe thead th {\n",
       "        text-align: right;\n",
       "    }\n",
       "</style>\n",
       "<table border=\"1\" class=\"dataframe\">\n",
       "  <thead>\n",
       "    <tr style=\"text-align: right;\">\n",
       "      <th></th>\n",
       "      <th>basket</th>\n",
       "      <th>totalAmount</th>\n",
       "      <th>returnLabel</th>\n",
       "      <th>existing</th>\n",
       "      <th>new</th>\n",
       "      <th>b_0</th>\n",
       "      <th>b_1</th>\n",
       "      <th>b_2</th>\n",
       "      <th>b_3</th>\n",
       "      <th>b_4</th>\n",
       "      <th>b_5</th>\n",
       "    </tr>\n",
       "  </thead>\n",
       "  <tbody>\n",
       "    <tr>\n",
       "      <th>0</th>\n",
       "      <td>[3]</td>\n",
       "      <td>77.0</td>\n",
       "      <td>0</td>\n",
       "      <td>1</td>\n",
       "      <td>0</td>\n",
       "      <td>0</td>\n",
       "      <td>0</td>\n",
       "      <td>0</td>\n",
       "      <td>1</td>\n",
       "      <td>0</td>\n",
       "      <td>0</td>\n",
       "    </tr>\n",
       "    <tr>\n",
       "      <th>1</th>\n",
       "      <td>[5, 3, 0, 3]</td>\n",
       "      <td>64.0</td>\n",
       "      <td>0</td>\n",
       "      <td>1</td>\n",
       "      <td>0</td>\n",
       "      <td>1</td>\n",
       "      <td>0</td>\n",
       "      <td>0</td>\n",
       "      <td>2</td>\n",
       "      <td>0</td>\n",
       "      <td>1</td>\n",
       "    </tr>\n",
       "    <tr>\n",
       "      <th>2</th>\n",
       "      <td>[3, 3, 1, 4]</td>\n",
       "      <td>308.0</td>\n",
       "      <td>1</td>\n",
       "      <td>0</td>\n",
       "      <td>1</td>\n",
       "      <td>0</td>\n",
       "      <td>1</td>\n",
       "      <td>0</td>\n",
       "      <td>2</td>\n",
       "      <td>1</td>\n",
       "      <td>0</td>\n",
       "    </tr>\n",
       "    <tr>\n",
       "      <th>3</th>\n",
       "      <td>[2]</td>\n",
       "      <td>74.0</td>\n",
       "      <td>0</td>\n",
       "      <td>1</td>\n",
       "      <td>0</td>\n",
       "      <td>0</td>\n",
       "      <td>0</td>\n",
       "      <td>1</td>\n",
       "      <td>0</td>\n",
       "      <td>0</td>\n",
       "      <td>0</td>\n",
       "    </tr>\n",
       "    <tr>\n",
       "      <th>4</th>\n",
       "      <td>[4, 4, 4, 4]</td>\n",
       "      <td>324.0</td>\n",
       "      <td>1</td>\n",
       "      <td>0</td>\n",
       "      <td>1</td>\n",
       "      <td>0</td>\n",
       "      <td>0</td>\n",
       "      <td>0</td>\n",
       "      <td>0</td>\n",
       "      <td>4</td>\n",
       "      <td>0</td>\n",
       "    </tr>\n",
       "    <tr>\n",
       "      <th>5</th>\n",
       "      <td>[4, 3, 4, 4]</td>\n",
       "      <td>256.0</td>\n",
       "      <td>1</td>\n",
       "      <td>0</td>\n",
       "      <td>1</td>\n",
       "      <td>0</td>\n",
       "      <td>0</td>\n",
       "      <td>0</td>\n",
       "      <td>1</td>\n",
       "      <td>3</td>\n",
       "      <td>0</td>\n",
       "    </tr>\n",
       "    <tr>\n",
       "      <th>6</th>\n",
       "      <td>[3, 4]</td>\n",
       "      <td>110.0</td>\n",
       "      <td>1</td>\n",
       "      <td>1</td>\n",
       "      <td>0</td>\n",
       "      <td>0</td>\n",
       "      <td>0</td>\n",
       "      <td>0</td>\n",
       "      <td>1</td>\n",
       "      <td>1</td>\n",
       "      <td>0</td>\n",
       "    </tr>\n",
       "    <tr>\n",
       "      <th>7</th>\n",
       "      <td>[4, 4, 1, 4, 4]</td>\n",
       "      <td>100.0</td>\n",
       "      <td>1</td>\n",
       "      <td>0</td>\n",
       "      <td>1</td>\n",
       "      <td>0</td>\n",
       "      <td>1</td>\n",
       "      <td>0</td>\n",
       "      <td>0</td>\n",
       "      <td>4</td>\n",
       "      <td>0</td>\n",
       "    </tr>\n",
       "    <tr>\n",
       "      <th>8</th>\n",
       "      <td>[1, 5, 2, 2]</td>\n",
       "      <td>240.0</td>\n",
       "      <td>0</td>\n",
       "      <td>1</td>\n",
       "      <td>0</td>\n",
       "      <td>0</td>\n",
       "      <td>1</td>\n",
       "      <td>2</td>\n",
       "      <td>0</td>\n",
       "      <td>0</td>\n",
       "      <td>1</td>\n",
       "    </tr>\n",
       "    <tr>\n",
       "      <th>9</th>\n",
       "      <td>[5, 5, 0]</td>\n",
       "      <td>138.0</td>\n",
       "      <td>0</td>\n",
       "      <td>1</td>\n",
       "      <td>0</td>\n",
       "      <td>1</td>\n",
       "      <td>0</td>\n",
       "      <td>0</td>\n",
       "      <td>0</td>\n",
       "      <td>0</td>\n",
       "      <td>2</td>\n",
       "    </tr>\n",
       "  </tbody>\n",
       "</table>\n",
       "</div>"
      ],
      "text/plain": [
       "            basket  totalAmount  returnLabel  existing  new  b_0  b_1  b_2  \\\n",
       "0              [3]         77.0            0         1    0    0    0    0   \n",
       "1     [5, 3, 0, 3]         64.0            0         1    0    1    0    0   \n",
       "2     [3, 3, 1, 4]        308.0            1         0    1    0    1    0   \n",
       "3              [2]         74.0            0         1    0    0    0    1   \n",
       "4     [4, 4, 4, 4]        324.0            1         0    1    0    0    0   \n",
       "5     [4, 3, 4, 4]        256.0            1         0    1    0    0    0   \n",
       "6           [3, 4]        110.0            1         1    0    0    0    0   \n",
       "7  [4, 4, 1, 4, 4]        100.0            1         0    1    0    1    0   \n",
       "8     [1, 5, 2, 2]        240.0            0         1    0    0    1    2   \n",
       "9        [5, 5, 0]        138.0            0         1    0    1    0    0   \n",
       "\n",
       "   b_3  b_4  b_5  \n",
       "0    1    0    0  \n",
       "1    2    0    1  \n",
       "2    2    1    0  \n",
       "3    0    0    0  \n",
       "4    0    4    0  \n",
       "5    1    3    0  \n",
       "6    1    1    0  \n",
       "7    0    4    0  \n",
       "8    0    0    1  \n",
       "9    0    0    2  "
      ]
     },
     "execution_count": 12,
     "metadata": {},
     "output_type": "execute_result"
    }
   ],
   "source": [
    "train_encoded = train_encoded.drop(columns=['transactionId'])\n",
    "train_encoded.head(10)"
   ]
  },
  {
   "cell_type": "markdown",
   "metadata": {
    "id": "bB4_D1cpUkym"
   },
   "source": [
    "### 5. Versuchen Sie auf Basis des Attributs basket Features zu bauen (z.B. wie oft kommt jede Kategorie im Basket vor).\n",
    "\n",
    "> Gesucht: Features zur Hilfe der Vorhersage ob Kunde Bestellung zurückschickt\n",
    "\n",
    "Von one hot encoding:\n",
    "\n",
    "- [x] Wie oft kommt jede Kategorie im Basket vor\n",
    "- [x] Neukunde oder bestehender\n",
    "\n",
    "Weitere Features:\n",
    "\n",
    "- [x] Am meisten vorkommende Kategorie im aktuellen Basket\n",
    "- [x] Anzahl der Bücher von der am höchsten vorkommenden Kategorie\n",
    "- [x] Bestellungen, die überdurschnittlich viele Bücher im Warenkorb haben\n",
    "- [x] Wenn alle Kategorien im Basket gleich sind\n",
    "- [x] Korrelation zwischen anzahl gekaufter Bücher und dem Gesamtpreis den man dafür bezahlt hat\n",
    "\n",
    "Schlussfolgerung: Die \"Weiteren Features\" haben nur minimalen Einfluss auf die Precision."
   ]
  },
  {
   "cell_type": "markdown",
   "metadata": {},
   "source": [
    "#### 5.1 Am Meisten vorkommende Kategorie im aktuellen Basket"
   ]
  },
  {
   "cell_type": "code",
   "execution_count": 13,
   "metadata": {},
   "outputs": [],
   "source": [
    "f_eng_basket = list(train_encoded.basket) # basket shortcut\n",
    "\n",
    "def most_frequent(List): \n",
    "    counter = 0\n",
    "    num = List[0] \n",
    "    \n",
    "    for i in List: \n",
    "        curr_frequency = List.count(i) \n",
    "        if(curr_frequency> counter): \n",
    "            counter = curr_frequency \n",
    "            num = i \n",
    "\n",
    "    return num \n",
    "\n",
    "# 1. Höchste Kategorie aktuellem Basket finden\n",
    "train_encoded[\"highestCategory\"] = train_encoded.basket.map(lambda x: max(x))\n",
    "# 2. Am meisten vorkommende Kategorie aktuellem Basket finden\n",
    "train_encoded[\"maxCategory\"] = train_encoded.basket.map(lambda x: most_frequent(x))"
   ]
  },
  {
   "cell_type": "markdown",
   "metadata": {},
   "source": [
    "#### 5.2 Anzahl der Bücher von der am höchsten vorkommenden Kategorie"
   ]
  },
  {
   "cell_type": "code",
   "execution_count": 14,
   "metadata": {},
   "outputs": [
    {
     "data": {
      "text/html": [
       "<div>\n",
       "<style scoped>\n",
       "    .dataframe tbody tr th:only-of-type {\n",
       "        vertical-align: middle;\n",
       "    }\n",
       "\n",
       "    .dataframe tbody tr th {\n",
       "        vertical-align: top;\n",
       "    }\n",
       "\n",
       "    .dataframe thead th {\n",
       "        text-align: right;\n",
       "    }\n",
       "</style>\n",
       "<table border=\"1\" class=\"dataframe\">\n",
       "  <thead>\n",
       "    <tr style=\"text-align: right;\">\n",
       "      <th></th>\n",
       "      <th>basket</th>\n",
       "      <th>totalAmount</th>\n",
       "      <th>returnLabel</th>\n",
       "      <th>existing</th>\n",
       "      <th>new</th>\n",
       "      <th>b_0</th>\n",
       "      <th>b_1</th>\n",
       "      <th>b_2</th>\n",
       "      <th>b_3</th>\n",
       "      <th>b_4</th>\n",
       "      <th>b_5</th>\n",
       "      <th>highestCategory</th>\n",
       "      <th>maxCategory</th>\n",
       "      <th>maxCount</th>\n",
       "    </tr>\n",
       "  </thead>\n",
       "  <tbody>\n",
       "    <tr>\n",
       "      <th>0</th>\n",
       "      <td>[3]</td>\n",
       "      <td>77.0</td>\n",
       "      <td>0</td>\n",
       "      <td>1</td>\n",
       "      <td>0</td>\n",
       "      <td>0</td>\n",
       "      <td>0</td>\n",
       "      <td>0</td>\n",
       "      <td>1</td>\n",
       "      <td>0</td>\n",
       "      <td>0</td>\n",
       "      <td>3</td>\n",
       "      <td>3</td>\n",
       "      <td>1</td>\n",
       "    </tr>\n",
       "    <tr>\n",
       "      <th>1</th>\n",
       "      <td>[5, 3, 0, 3]</td>\n",
       "      <td>64.0</td>\n",
       "      <td>0</td>\n",
       "      <td>1</td>\n",
       "      <td>0</td>\n",
       "      <td>1</td>\n",
       "      <td>0</td>\n",
       "      <td>0</td>\n",
       "      <td>2</td>\n",
       "      <td>0</td>\n",
       "      <td>1</td>\n",
       "      <td>5</td>\n",
       "      <td>3</td>\n",
       "      <td>2</td>\n",
       "    </tr>\n",
       "    <tr>\n",
       "      <th>2</th>\n",
       "      <td>[3, 3, 1, 4]</td>\n",
       "      <td>308.0</td>\n",
       "      <td>1</td>\n",
       "      <td>0</td>\n",
       "      <td>1</td>\n",
       "      <td>0</td>\n",
       "      <td>1</td>\n",
       "      <td>0</td>\n",
       "      <td>2</td>\n",
       "      <td>1</td>\n",
       "      <td>0</td>\n",
       "      <td>4</td>\n",
       "      <td>3</td>\n",
       "      <td>2</td>\n",
       "    </tr>\n",
       "    <tr>\n",
       "      <th>3</th>\n",
       "      <td>[2]</td>\n",
       "      <td>74.0</td>\n",
       "      <td>0</td>\n",
       "      <td>1</td>\n",
       "      <td>0</td>\n",
       "      <td>0</td>\n",
       "      <td>0</td>\n",
       "      <td>1</td>\n",
       "      <td>0</td>\n",
       "      <td>0</td>\n",
       "      <td>0</td>\n",
       "      <td>2</td>\n",
       "      <td>2</td>\n",
       "      <td>1</td>\n",
       "    </tr>\n",
       "    <tr>\n",
       "      <th>4</th>\n",
       "      <td>[4, 4, 4, 4]</td>\n",
       "      <td>324.0</td>\n",
       "      <td>1</td>\n",
       "      <td>0</td>\n",
       "      <td>1</td>\n",
       "      <td>0</td>\n",
       "      <td>0</td>\n",
       "      <td>0</td>\n",
       "      <td>0</td>\n",
       "      <td>4</td>\n",
       "      <td>0</td>\n",
       "      <td>4</td>\n",
       "      <td>4</td>\n",
       "      <td>4</td>\n",
       "    </tr>\n",
       "    <tr>\n",
       "      <th>5</th>\n",
       "      <td>[4, 3, 4, 4]</td>\n",
       "      <td>256.0</td>\n",
       "      <td>1</td>\n",
       "      <td>0</td>\n",
       "      <td>1</td>\n",
       "      <td>0</td>\n",
       "      <td>0</td>\n",
       "      <td>0</td>\n",
       "      <td>1</td>\n",
       "      <td>3</td>\n",
       "      <td>0</td>\n",
       "      <td>4</td>\n",
       "      <td>4</td>\n",
       "      <td>3</td>\n",
       "    </tr>\n",
       "    <tr>\n",
       "      <th>6</th>\n",
       "      <td>[3, 4]</td>\n",
       "      <td>110.0</td>\n",
       "      <td>1</td>\n",
       "      <td>1</td>\n",
       "      <td>0</td>\n",
       "      <td>0</td>\n",
       "      <td>0</td>\n",
       "      <td>0</td>\n",
       "      <td>1</td>\n",
       "      <td>1</td>\n",
       "      <td>0</td>\n",
       "      <td>4</td>\n",
       "      <td>3</td>\n",
       "      <td>1</td>\n",
       "    </tr>\n",
       "    <tr>\n",
       "      <th>7</th>\n",
       "      <td>[4, 4, 1, 4, 4]</td>\n",
       "      <td>100.0</td>\n",
       "      <td>1</td>\n",
       "      <td>0</td>\n",
       "      <td>1</td>\n",
       "      <td>0</td>\n",
       "      <td>1</td>\n",
       "      <td>0</td>\n",
       "      <td>0</td>\n",
       "      <td>4</td>\n",
       "      <td>0</td>\n",
       "      <td>4</td>\n",
       "      <td>4</td>\n",
       "      <td>4</td>\n",
       "    </tr>\n",
       "    <tr>\n",
       "      <th>8</th>\n",
       "      <td>[1, 5, 2, 2]</td>\n",
       "      <td>240.0</td>\n",
       "      <td>0</td>\n",
       "      <td>1</td>\n",
       "      <td>0</td>\n",
       "      <td>0</td>\n",
       "      <td>1</td>\n",
       "      <td>2</td>\n",
       "      <td>0</td>\n",
       "      <td>0</td>\n",
       "      <td>1</td>\n",
       "      <td>5</td>\n",
       "      <td>2</td>\n",
       "      <td>2</td>\n",
       "    </tr>\n",
       "    <tr>\n",
       "      <th>9</th>\n",
       "      <td>[5, 5, 0]</td>\n",
       "      <td>138.0</td>\n",
       "      <td>0</td>\n",
       "      <td>1</td>\n",
       "      <td>0</td>\n",
       "      <td>1</td>\n",
       "      <td>0</td>\n",
       "      <td>0</td>\n",
       "      <td>0</td>\n",
       "      <td>0</td>\n",
       "      <td>2</td>\n",
       "      <td>5</td>\n",
       "      <td>5</td>\n",
       "      <td>2</td>\n",
       "    </tr>\n",
       "    <tr>\n",
       "      <th>10</th>\n",
       "      <td>[4]</td>\n",
       "      <td>39.0</td>\n",
       "      <td>1</td>\n",
       "      <td>1</td>\n",
       "      <td>0</td>\n",
       "      <td>0</td>\n",
       "      <td>0</td>\n",
       "      <td>0</td>\n",
       "      <td>0</td>\n",
       "      <td>1</td>\n",
       "      <td>0</td>\n",
       "      <td>4</td>\n",
       "      <td>4</td>\n",
       "      <td>1</td>\n",
       "    </tr>\n",
       "    <tr>\n",
       "      <th>11</th>\n",
       "      <td>[1]</td>\n",
       "      <td>13.0</td>\n",
       "      <td>0</td>\n",
       "      <td>1</td>\n",
       "      <td>0</td>\n",
       "      <td>0</td>\n",
       "      <td>1</td>\n",
       "      <td>0</td>\n",
       "      <td>0</td>\n",
       "      <td>0</td>\n",
       "      <td>0</td>\n",
       "      <td>1</td>\n",
       "      <td>1</td>\n",
       "      <td>1</td>\n",
       "    </tr>\n",
       "    <tr>\n",
       "      <th>12</th>\n",
       "      <td>[4, 5, 1, 4, 2]</td>\n",
       "      <td>335.0</td>\n",
       "      <td>0</td>\n",
       "      <td>1</td>\n",
       "      <td>0</td>\n",
       "      <td>0</td>\n",
       "      <td>1</td>\n",
       "      <td>1</td>\n",
       "      <td>0</td>\n",
       "      <td>2</td>\n",
       "      <td>1</td>\n",
       "      <td>5</td>\n",
       "      <td>4</td>\n",
       "      <td>2</td>\n",
       "    </tr>\n",
       "    <tr>\n",
       "      <th>13</th>\n",
       "      <td>[0, 5, 2, 2, 3]</td>\n",
       "      <td>255.0</td>\n",
       "      <td>0</td>\n",
       "      <td>1</td>\n",
       "      <td>0</td>\n",
       "      <td>1</td>\n",
       "      <td>0</td>\n",
       "      <td>2</td>\n",
       "      <td>1</td>\n",
       "      <td>0</td>\n",
       "      <td>1</td>\n",
       "      <td>5</td>\n",
       "      <td>2</td>\n",
       "      <td>2</td>\n",
       "    </tr>\n",
       "    <tr>\n",
       "      <th>14</th>\n",
       "      <td>[0, 1, 2, 3, 2]</td>\n",
       "      <td>275.0</td>\n",
       "      <td>0</td>\n",
       "      <td>1</td>\n",
       "      <td>0</td>\n",
       "      <td>1</td>\n",
       "      <td>1</td>\n",
       "      <td>2</td>\n",
       "      <td>1</td>\n",
       "      <td>0</td>\n",
       "      <td>0</td>\n",
       "      <td>3</td>\n",
       "      <td>2</td>\n",
       "      <td>2</td>\n",
       "    </tr>\n",
       "  </tbody>\n",
       "</table>\n",
       "</div>"
      ],
      "text/plain": [
       "             basket  totalAmount  returnLabel  existing  new  b_0  b_1  b_2  \\\n",
       "0               [3]         77.0            0         1    0    0    0    0   \n",
       "1      [5, 3, 0, 3]         64.0            0         1    0    1    0    0   \n",
       "2      [3, 3, 1, 4]        308.0            1         0    1    0    1    0   \n",
       "3               [2]         74.0            0         1    0    0    0    1   \n",
       "4      [4, 4, 4, 4]        324.0            1         0    1    0    0    0   \n",
       "5      [4, 3, 4, 4]        256.0            1         0    1    0    0    0   \n",
       "6            [3, 4]        110.0            1         1    0    0    0    0   \n",
       "7   [4, 4, 1, 4, 4]        100.0            1         0    1    0    1    0   \n",
       "8      [1, 5, 2, 2]        240.0            0         1    0    0    1    2   \n",
       "9         [5, 5, 0]        138.0            0         1    0    1    0    0   \n",
       "10              [4]         39.0            1         1    0    0    0    0   \n",
       "11              [1]         13.0            0         1    0    0    1    0   \n",
       "12  [4, 5, 1, 4, 2]        335.0            0         1    0    0    1    1   \n",
       "13  [0, 5, 2, 2, 3]        255.0            0         1    0    1    0    2   \n",
       "14  [0, 1, 2, 3, 2]        275.0            0         1    0    1    1    2   \n",
       "\n",
       "    b_3  b_4  b_5  highestCategory  maxCategory  maxCount  \n",
       "0     1    0    0                3            3         1  \n",
       "1     2    0    1                5            3         2  \n",
       "2     2    1    0                4            3         2  \n",
       "3     0    0    0                2            2         1  \n",
       "4     0    4    0                4            4         4  \n",
       "5     1    3    0                4            4         3  \n",
       "6     1    1    0                4            3         1  \n",
       "7     0    4    0                4            4         4  \n",
       "8     0    0    1                5            2         2  \n",
       "9     0    0    2                5            5         2  \n",
       "10    0    1    0                4            4         1  \n",
       "11    0    0    0                1            1         1  \n",
       "12    0    2    1                5            4         2  \n",
       "13    1    0    1                5            2         2  \n",
       "14    1    0    0                3            2         2  "
      ]
     },
     "execution_count": 14,
     "metadata": {},
     "output_type": "execute_result"
    }
   ],
   "source": [
    "f_eng_basket = list(train_encoded.basket) # basket shortcut\n",
    "\n",
    "# 1. Am meisten vorkommende Kategorie\n",
    "maxBasketValues =  list(train_encoded['maxCategory'])\n",
    "\n",
    "# 2. Diese Zählen & als Neues Feature einfügen\n",
    "train_encoded['maxCount'] = [basket.count(maxBasketValues[i]) for (i, basket) in enumerate(f_eng_basket) ]\n",
    "\n",
    "train_encoded.head(15)"
   ]
  },
  {
   "cell_type": "markdown",
   "metadata": {},
   "source": [
    "#### 5.3 Bestellungen, die überdurschnittlich viele Bücher im Warenkorb haben\n",
    "\n",
    "> Feature erstellen, dass positiv ist wenn die Anzahl an Büchern im Warenkorb über dem Median liegt\n",
    "\n",
    "1. Überdurschnittliche Anzahl Bücher: '1'\n",
    "1. Unterdurschnittliche Anzahl Bücher: '0'"
   ]
  },
  {
   "cell_type": "code",
   "execution_count": 15,
   "metadata": {},
   "outputs": [
    {
     "data": {
      "text/plain": [
       " 1    12189\n",
       "-1     9127\n",
       " 0     3167\n",
       "Name: aboveMedian, dtype: int64"
      ]
     },
     "execution_count": 15,
     "metadata": {},
     "output_type": "execute_result"
    }
   ],
   "source": [
    "from statistics import median\n",
    "\n",
    "# Calculate median from the number of items in each basket\n",
    "train_encoded['basketElementCount'] = [len(basket) for basket in train_encoded['basket']]\n",
    "train_encoded['basketSizeMedian'] = median(list(train_encoded['basketElementCount']))\n",
    "\n",
    "train_encoded[['returnLabel', 'basketElementCount', 'basketSizeMedian']].head(n=20)\n",
    "\n",
    "aboveMedian = []\n",
    "\n",
    "for index, row in train_encoded.iterrows():\n",
    "    if (row['basketElementCount'] > row['basketSizeMedian']): \n",
    "        valueToAppend = 1\n",
    "    elif (row['basketElementCount'] == row['basketSizeMedian']): \n",
    "        valueToAppend = 0\n",
    "    else:\n",
    "        valueToAppend = -1\n",
    "        \n",
    "    aboveMedian.append(valueToAppend)\n",
    "         \n",
    "train_encoded['aboveMedian'] = aboveMedian\n",
    "\n",
    "train_encoded['aboveMedian'].value_counts()"
   ]
  },
  {
   "cell_type": "markdown",
   "metadata": {},
   "source": [
    "#### 5.4 Wenn alle Kategorien im Basket gleich sind"
   ]
  },
  {
   "cell_type": "code",
   "execution_count": 16,
   "metadata": {},
   "outputs": [],
   "source": [
    "def all_same(items):\n",
    "    return all(x == items[0] for x in items)\n",
    "\n",
    "train_encoded['same'] = train_encoded.basket.map(lambda x: 1 if all_same(x)  else 0)"
   ]
  },
  {
   "cell_type": "markdown",
   "metadata": {},
   "source": [
    "#### 5.5 Korrelation zwischen Anzahl gekaufter Bücher und dem Gesamtpreis den man dafür bezahlt hat"
   ]
  },
  {
   "cell_type": "code",
   "execution_count": 17,
   "metadata": {},
   "outputs": [
    {
     "data": {
      "text/html": [
       "<div>\n",
       "<style scoped>\n",
       "    .dataframe tbody tr th:only-of-type {\n",
       "        vertical-align: middle;\n",
       "    }\n",
       "\n",
       "    .dataframe tbody tr th {\n",
       "        vertical-align: top;\n",
       "    }\n",
       "\n",
       "    .dataframe thead th {\n",
       "        text-align: right;\n",
       "    }\n",
       "</style>\n",
       "<table border=\"1\" class=\"dataframe\">\n",
       "  <thead>\n",
       "    <tr style=\"text-align: right;\">\n",
       "      <th></th>\n",
       "      <th>basket</th>\n",
       "      <th>totalAmount</th>\n",
       "      <th>returnLabel</th>\n",
       "      <th>existing</th>\n",
       "      <th>new</th>\n",
       "      <th>b_0</th>\n",
       "      <th>b_1</th>\n",
       "      <th>b_2</th>\n",
       "      <th>b_3</th>\n",
       "      <th>b_4</th>\n",
       "      <th>b_5</th>\n",
       "      <th>highestCategory</th>\n",
       "      <th>maxCategory</th>\n",
       "      <th>maxCount</th>\n",
       "      <th>basketElementCount</th>\n",
       "      <th>basketSizeMedian</th>\n",
       "      <th>aboveMedian</th>\n",
       "      <th>same</th>\n",
       "      <th>averagePrice</th>\n",
       "    </tr>\n",
       "  </thead>\n",
       "  <tbody>\n",
       "    <tr>\n",
       "      <th>0</th>\n",
       "      <td>[3]</td>\n",
       "      <td>77.0</td>\n",
       "      <td>0</td>\n",
       "      <td>1</td>\n",
       "      <td>0</td>\n",
       "      <td>0</td>\n",
       "      <td>0</td>\n",
       "      <td>0</td>\n",
       "      <td>1</td>\n",
       "      <td>0</td>\n",
       "      <td>0</td>\n",
       "      <td>3</td>\n",
       "      <td>3</td>\n",
       "      <td>1</td>\n",
       "      <td>1</td>\n",
       "      <td>4</td>\n",
       "      <td>-1</td>\n",
       "      <td>1</td>\n",
       "      <td>77.0</td>\n",
       "    </tr>\n",
       "    <tr>\n",
       "      <th>1</th>\n",
       "      <td>[5, 3, 0, 3]</td>\n",
       "      <td>64.0</td>\n",
       "      <td>0</td>\n",
       "      <td>1</td>\n",
       "      <td>0</td>\n",
       "      <td>1</td>\n",
       "      <td>0</td>\n",
       "      <td>0</td>\n",
       "      <td>2</td>\n",
       "      <td>0</td>\n",
       "      <td>1</td>\n",
       "      <td>5</td>\n",
       "      <td>3</td>\n",
       "      <td>2</td>\n",
       "      <td>4</td>\n",
       "      <td>4</td>\n",
       "      <td>0</td>\n",
       "      <td>0</td>\n",
       "      <td>16.0</td>\n",
       "    </tr>\n",
       "    <tr>\n",
       "      <th>2</th>\n",
       "      <td>[3, 3, 1, 4]</td>\n",
       "      <td>308.0</td>\n",
       "      <td>1</td>\n",
       "      <td>0</td>\n",
       "      <td>1</td>\n",
       "      <td>0</td>\n",
       "      <td>1</td>\n",
       "      <td>0</td>\n",
       "      <td>2</td>\n",
       "      <td>1</td>\n",
       "      <td>0</td>\n",
       "      <td>4</td>\n",
       "      <td>3</td>\n",
       "      <td>2</td>\n",
       "      <td>4</td>\n",
       "      <td>4</td>\n",
       "      <td>0</td>\n",
       "      <td>0</td>\n",
       "      <td>77.0</td>\n",
       "    </tr>\n",
       "    <tr>\n",
       "      <th>3</th>\n",
       "      <td>[2]</td>\n",
       "      <td>74.0</td>\n",
       "      <td>0</td>\n",
       "      <td>1</td>\n",
       "      <td>0</td>\n",
       "      <td>0</td>\n",
       "      <td>0</td>\n",
       "      <td>1</td>\n",
       "      <td>0</td>\n",
       "      <td>0</td>\n",
       "      <td>0</td>\n",
       "      <td>2</td>\n",
       "      <td>2</td>\n",
       "      <td>1</td>\n",
       "      <td>1</td>\n",
       "      <td>4</td>\n",
       "      <td>-1</td>\n",
       "      <td>1</td>\n",
       "      <td>74.0</td>\n",
       "    </tr>\n",
       "    <tr>\n",
       "      <th>4</th>\n",
       "      <td>[4, 4, 4, 4]</td>\n",
       "      <td>324.0</td>\n",
       "      <td>1</td>\n",
       "      <td>0</td>\n",
       "      <td>1</td>\n",
       "      <td>0</td>\n",
       "      <td>0</td>\n",
       "      <td>0</td>\n",
       "      <td>0</td>\n",
       "      <td>4</td>\n",
       "      <td>0</td>\n",
       "      <td>4</td>\n",
       "      <td>4</td>\n",
       "      <td>4</td>\n",
       "      <td>4</td>\n",
       "      <td>4</td>\n",
       "      <td>0</td>\n",
       "      <td>1</td>\n",
       "      <td>81.0</td>\n",
       "    </tr>\n",
       "  </tbody>\n",
       "</table>\n",
       "</div>"
      ],
      "text/plain": [
       "         basket  totalAmount  returnLabel  existing  new  b_0  b_1  b_2  b_3  \\\n",
       "0           [3]         77.0            0         1    0    0    0    0    1   \n",
       "1  [5, 3, 0, 3]         64.0            0         1    0    1    0    0    2   \n",
       "2  [3, 3, 1, 4]        308.0            1         0    1    0    1    0    2   \n",
       "3           [2]         74.0            0         1    0    0    0    1    0   \n",
       "4  [4, 4, 4, 4]        324.0            1         0    1    0    0    0    0   \n",
       "\n",
       "   b_4  b_5  highestCategory  maxCategory  maxCount  basketElementCount  \\\n",
       "0    0    0                3            3         1                   1   \n",
       "1    0    1                5            3         2                   4   \n",
       "2    1    0                4            3         2                   4   \n",
       "3    0    0                2            2         1                   1   \n",
       "4    4    0                4            4         4                   4   \n",
       "\n",
       "   basketSizeMedian  aboveMedian  same  averagePrice  \n",
       "0                 4           -1     1          77.0  \n",
       "1                 4            0     0          16.0  \n",
       "2                 4            0     0          77.0  \n",
       "3                 4           -1     1          74.0  \n",
       "4                 4            0     1          81.0  "
      ]
     },
     "execution_count": 17,
     "metadata": {},
     "output_type": "execute_result"
    }
   ],
   "source": [
    "f_eng_basket = list(train_encoded.basket) # basket shortcut\n",
    "train_encoded['averagePrice'] = [round(train_encoded.totalAmount.iloc[i]/len(basket), 2) for (i, basket) in enumerate(f_eng_basket) ]\n",
    "train_encoded.head()"
   ]
  },
  {
   "cell_type": "markdown",
   "metadata": {
    "id": "hy_ks3VlUkyo"
   },
   "source": [
    "### 6. Skalieren Sie die Features mit einem StandardScaler.\n",
    "\n",
    "> Use sklearn scaler\n",
    "\n",
    "1. Drop target feature\n",
    "2. scale the x results"
   ]
  },
  {
   "cell_type": "code",
   "execution_count": 18,
   "metadata": {
    "colab": {
     "base_uri": "https://localhost:8080/",
     "height": 382
    },
    "id": "MnXEFQCUUkyo",
    "outputId": "d64d8d88-38cb-4c2f-9484-d0d04387b25c"
   },
   "outputs": [],
   "source": [
    "from sklearn.preprocessing import StandardScaler\n",
    "scaler = StandardScaler()\n",
    "\n",
    "# Drop basket feature after using it in the feature eng. phase\n",
    "train_encoded = train_encoded.drop(columns=['basket'])\n",
    "# Drop our target\n",
    "x = train_encoded.drop(columns=['returnLabel'])\n",
    "\n",
    "# Our x/y values\n",
    "X = scaler.fit_transform(x)\n",
    "y = train_encoded['returnLabel'].values"
   ]
  },
  {
   "cell_type": "markdown",
   "metadata": {
    "id": "XUfOH07XUkyo"
   },
   "source": [
    "### 7. Trainieren Sie die folgenden Klassifikationsmodelle und probieren Sie die angegebenen Hyperparameter mittels Cross-Validation aus:\n",
    "\n",
    "For all models:\n",
    "\n",
    "1. Use grid search to find best parameter values\n",
    "2. Train model"
   ]
  },
  {
   "cell_type": "code",
   "execution_count": 19,
   "metadata": {
    "id": "drHP0OkMUkyp"
   },
   "outputs": [],
   "source": [
    "# Helper func to find best params\n",
    "from sklearn.model_selection import GridSearchCV\n",
    "\n",
    "def findBestParams(model, params, X, y):\n",
    "    '''\n",
    "    Takes a model, possible parameters to test, X and y values.\n",
    "    Determines the best possible values for the model\n",
    "    and returns the best values.\n",
    "    '''\n",
    "     \n",
    "    clf = GridSearchCV(estimator=model, param_grid=params, n_jobs=-1)\n",
    "    clf = clf.fit(X, y)\n",
    "    \n",
    "    # Get Params to extract from the estimator\n",
    "    paramKeys = list(params[0].keys()) # Get Param Names = Keys\n",
    "    paramsToDetermine = [f'clf.best_estimator_.{param}' for param in paramKeys] # Build strings\n",
    "    # evaluate str to actual estimator val(Could be done above...but here more organised)\n",
    "    paramsToDetermine = [eval(param, {}, {\"clf\": clf}) for param in paramsToDetermine]\n",
    "    \n",
    "    print(f'Best {model} values: {paramsToDetermine}')\n",
    "    \n",
    "    return paramsToDetermine"
   ]
  },
  {
   "cell_type": "markdown",
   "metadata": {
    "id": "YXnPrvEFUkyp"
   },
   "source": [
    "#### 7.1 Logistische Regression: `C :[0.1,1,4,5,6,10,30,100]`und `penalty: [\"l1\", \"l2\"]`"
   ]
  },
  {
   "cell_type": "code",
   "execution_count": 20,
   "metadata": {
    "id": "F73iGJCEUkyp"
   },
   "outputs": [
    {
     "name": "stdout",
     "output_type": "stream",
     "text": [
      "Best LogisticRegression() values: [1, 'l2']\n"
     ]
    },
    {
     "data": {
      "text/plain": [
       "LogisticRegression(C=1, max_iter=1000, random_state=0)"
      ]
     },
     "execution_count": 20,
     "metadata": {},
     "output_type": "execute_result"
    }
   ],
   "source": [
    "from sklearn.linear_model import LogisticRegression\n",
    "\n",
    "lr_C, lr_penalty= findBestParams(model=LogisticRegression(), params=[{'C': [0.1,1,4,5,6,10,30,100], 'penalty': [\"l1\", \"l2\"]}], X=X, y=y)\n",
    "lr_model = LogisticRegression(max_iter=1000, random_state=0, penalty=lr_penalty ,C=lr_C)\n",
    "lr_model.fit(X, y)"
   ]
  },
  {
   "cell_type": "markdown",
   "metadata": {
    "id": "ZzLsOaEvUkyq"
   },
   "source": [
    "#### 7.2 Random Forest: `n_estimators: [60,80,100,120,140]` und `max_depth: [2, 3, 4, 5]"
   ]
  },
  {
   "cell_type": "code",
   "execution_count": 21,
   "metadata": {
    "id": "HDRQQAizUkyq"
   },
   "outputs": [
    {
     "name": "stdout",
     "output_type": "stream",
     "text": [
      "Best RandomForestClassifier() values: [60, 5]\n"
     ]
    },
    {
     "data": {
      "text/plain": [
       "RandomForestClassifier(max_depth=5, n_estimators=60, random_state=0)"
      ]
     },
     "execution_count": 21,
     "metadata": {},
     "output_type": "execute_result"
    }
   ],
   "source": [
    "from sklearn.ensemble import RandomForestClassifier\n",
    "\n",
    "rf_n_est, rf_max_depth = findBestParams(model=RandomForestClassifier(), params=[{'n_estimators': [60,80,100,120,140], 'max_depth': [2, 3, 4, 5]}], X=X, y=y)\n",
    "rf_model = RandomForestClassifier(random_state=0, max_depth=rf_max_depth, n_estimators=rf_n_est)\n",
    "rf_model.fit(X,y)"
   ]
  },
  {
   "cell_type": "markdown",
   "metadata": {
    "id": "IMcJvMr3Ukyq"
   },
   "source": [
    "#### 7.3 Gradient Boosting Tree: gleiche Hyperparameter wie bei Random Forest"
   ]
  },
  {
   "cell_type": "code",
   "execution_count": 22,
   "metadata": {
    "id": "IOIIEDwqUkyq"
   },
   "outputs": [
    {
     "name": "stdout",
     "output_type": "stream",
     "text": [
      "Best GradientBoostingClassifier() values: [140, 4]\n"
     ]
    },
    {
     "data": {
      "text/plain": [
       "GradientBoostingClassifier(max_depth=4, n_estimators=140, random_state=0)"
      ]
     },
     "execution_count": 22,
     "metadata": {},
     "output_type": "execute_result"
    }
   ],
   "source": [
    "from sklearn.ensemble import GradientBoostingClassifier\n",
    "\n",
    "gb_n_est, gb_max_depth = findBestParams(model=GradientBoostingClassifier(), params=[{'n_estimators': [60,80,100,120,140], 'max_depth': [2, 3, 4, 5]}], X=X, y=y)\n",
    "gb_model = GradientBoostingClassifier(random_state=0, max_depth=gb_max_depth, n_estimators=gb_n_est)\n",
    "gb_model.fit(X,y)"
   ]
  },
  {
   "cell_type": "markdown",
   "metadata": {
    "id": "8oPSZT6rUkyr"
   },
   "source": [
    "<hr>\n",
    "\n",
    "## TESTING 🧪\n",
    "\n",
    "<hr>"
   ]
  },
  {
   "cell_type": "markdown",
   "metadata": {
    "id": "fiFtbSodUkyr"
   },
   "source": [
    "### 8. Laden der Testdaten\n",
    "\n",
    "> Bei den Testdaten ist der Vorgang nahezu der gleiche. Zur unterscheidbarkeit, wurde jeweils ein `test_[...]` prefix an die variablen gesetzt."
   ]
  },
  {
   "cell_type": "code",
   "execution_count": 23,
   "metadata": {
    "id": "GmFFVXpSUkyr"
   },
   "outputs": [
    {
     "data": {
      "text/html": [
       "<div>\n",
       "<style scoped>\n",
       "    .dataframe tbody tr th:only-of-type {\n",
       "        vertical-align: middle;\n",
       "    }\n",
       "\n",
       "    .dataframe tbody tr th {\n",
       "        vertical-align: top;\n",
       "    }\n",
       "\n",
       "    .dataframe thead th {\n",
       "        text-align: right;\n",
       "    }\n",
       "</style>\n",
       "<table border=\"1\" class=\"dataframe\">\n",
       "  <thead>\n",
       "    <tr style=\"text-align: right;\">\n",
       "      <th></th>\n",
       "      <th>transactionId</th>\n",
       "      <th>basket</th>\n",
       "      <th>customerType</th>\n",
       "      <th>totalAmount</th>\n",
       "      <th>returnLabel</th>\n",
       "    </tr>\n",
       "  </thead>\n",
       "  <tbody>\n",
       "    <tr>\n",
       "      <th>0</th>\n",
       "      <td>9605027322</td>\n",
       "      <td>[4, 0, 3, 4, 1, 4, 3, 4]</td>\n",
       "      <td>new</td>\n",
       "      <td>80.0</td>\n",
       "      <td>1</td>\n",
       "    </tr>\n",
       "    <tr>\n",
       "      <th>1</th>\n",
       "      <td>8315649406</td>\n",
       "      <td>[4]</td>\n",
       "      <td>existing</td>\n",
       "      <td>26.0</td>\n",
       "      <td>0</td>\n",
       "    </tr>\n",
       "    <tr>\n",
       "      <th>2</th>\n",
       "      <td>5151646801</td>\n",
       "      <td>[1, 3, 5]</td>\n",
       "      <td>existing</td>\n",
       "      <td>147.0</td>\n",
       "      <td>0</td>\n",
       "    </tr>\n",
       "    <tr>\n",
       "      <th>3</th>\n",
       "      <td>8101967972</td>\n",
       "      <td>[3]</td>\n",
       "      <td>existing</td>\n",
       "      <td>37.0</td>\n",
       "      <td>1</td>\n",
       "    </tr>\n",
       "    <tr>\n",
       "      <th>4</th>\n",
       "      <td>2887044104</td>\n",
       "      <td>[0, 0, 2, 5, 2]</td>\n",
       "      <td>existing</td>\n",
       "      <td>375.0</td>\n",
       "      <td>0</td>\n",
       "    </tr>\n",
       "  </tbody>\n",
       "</table>\n",
       "</div>"
      ],
      "text/plain": [
       "   transactionId                    basket customerType  totalAmount  \\\n",
       "0     9605027322  [4, 0, 3, 4, 1, 4, 3, 4]          new         80.0   \n",
       "1     8315649406                       [4]     existing         26.0   \n",
       "2     5151646801                 [1, 3, 5]     existing        147.0   \n",
       "3     8101967972                       [3]     existing         37.0   \n",
       "4     2887044104           [0, 0, 2, 5, 2]     existing        375.0   \n",
       "\n",
       "   returnLabel  \n",
       "0            1  \n",
       "1            0  \n",
       "2            0  \n",
       "3            1  \n",
       "4            0  "
      ]
     },
     "execution_count": 23,
     "metadata": {},
     "output_type": "execute_result"
    }
   ],
   "source": [
    "test_df = pd.read_csv('sample_data/test.csv')\n",
    "\n",
    "test_df.head()"
   ]
  },
  {
   "cell_type": "markdown",
   "metadata": {
    "id": "e7iUzgz8Ukyr"
   },
   "source": [
    "### 9. Entfernen Sie alle Zeilen mit fehlenden Werten.\n",
    "\n",
    "1, Analysis of missing data  \n",
    "2. Remove missing data"
   ]
  },
  {
   "cell_type": "code",
   "execution_count": 24,
   "metadata": {
    "id": "ZclmBxHnUkyr",
    "scrolled": true
   },
   "outputs": [
    {
     "name": "stdout",
     "output_type": "stream",
     "text": [
      "------------------------------------\n",
      "Total number of missing test values:\n",
      "transactionId      0\n",
      "basket             0\n",
      "customerType     124\n",
      "totalAmount      134\n",
      "returnLabel        0\n",
      "dtype: int64\n",
      "------------------------------------\n",
      "\n",
      "The percentage of missing test values in the 5876 big CustomerType dataset is only 2,11 % = 124.0 missing values\n",
      "==> Removing missing values should not have a big impact!\n"
     ]
    }
   ],
   "source": [
    "# Analysis of missing data\n",
    "\n",
    "test_heading = \"Total number of missing test values:\"\n",
    "\n",
    "print(getSeparator(test_heading))\n",
    "print(test_heading)\n",
    "print(test_df.isnull().sum()) # Check which values are null\n",
    "print(getSeparator(test_heading))\n",
    "\n",
    "# Calculate the percentage of the cases where the customer type is null\n",
    "# Use this value to decide, whether this values can be \"safely\" removed\n",
    "\n",
    "test_customerDataSum = test_df[\"customerType\"].count()\n",
    "test_missingCustomerTypeData = test_df[\"customerType\"].isnull().sum()\n",
    "\n",
    "# Calaculated values\n",
    "test_customerType_isNull_percentage = round(test_missingCustomerTypeData * 100 / test_customerDataSum, 2)\n",
    "test_missing_customerType_amount = round(test_customerDataSum*(test_customerType_isNull_percentage/100))\n",
    "\n",
    "print(f'\\nThe percentage of missing test values in the {test_customerDataSum} big CustomerType dataset is only {str(test_customerType_isNull_percentage).replace(\".\", \",\")} % = {str(test_missing_customerType_amount)} missing values')\n",
    "print('==> Removing missing values should not have a big impact!')"
   ]
  },
  {
   "cell_type": "code",
   "execution_count": 25,
   "metadata": {
    "id": "i4BEKfjwUkys",
    "scrolled": true
   },
   "outputs": [
    {
     "name": "stdout",
     "output_type": "stream",
     "text": [
      "Total number of missing test values after cleaning up: 0\n"
     ]
    }
   ],
   "source": [
    "# Drop customerType NaN' s -> See decision why above\n",
    "test_cleaned = test_df[test_df['customerType'].notna()]\n",
    "\n",
    "# Total amount: Fill with mean's\n",
    "test_totalAmount_mean = test_cleaned['totalAmount'].mean()\n",
    "test_cleaned['totalAmount'].fillna(test_totalAmount_mean, inplace=True)\n",
    "\n",
    "print(f'Total number of missing test values after cleaning up: {test_cleaned.isnull().sum().sum()}')"
   ]
  },
  {
   "cell_type": "markdown",
   "metadata": {
    "id": "h3NhD3CKUkys"
   },
   "source": [
    "### 10. Transformieren Sie die kategorischen Features mittles One-hot-encoding\n",
    "\n",
    "1. Actually get categorical features\n",
    "2. One-Hot Encode categorical features from steps 1"
   ]
  },
  {
   "cell_type": "markdown",
   "metadata": {
    "id": "cFL71fAgUkys"
   },
   "source": [
    "#### 10.1 Get a list/Find out categorical columns"
   ]
  },
  {
   "cell_type": "code",
   "execution_count": 26,
   "metadata": {
    "id": "0ropAb_fUkys"
   },
   "outputs": [
    {
     "name": "stdout",
     "output_type": "stream",
     "text": [
      "Categorical test attributes found: \n",
      "* customerType\n",
      "* basket\n"
     ]
    }
   ],
   "source": [
    "test_columns = test_cleaned.columns\n",
    "\n",
    "# Columns with numerical data\n",
    "test_num_cols = test_cleaned._get_numeric_data().columns\n",
    "\n",
    "# Now Substract all columns from the numerical ones\n",
    "test_categorical_columns = list(set(test_columns) - set(test_num_cols))\n",
    "\n",
    "print(\"Categorical test attributes found: \", *test_categorical_columns, sep=\"\\n* \")"
   ]
  },
  {
   "cell_type": "markdown",
   "metadata": {
    "id": "0GTaf4rVUkys"
   },
   "source": [
    "#### 10.2 Hot encode customer type\n",
    "\n",
    "> Use pandas build in function"
   ]
  },
  {
   "cell_type": "code",
   "execution_count": 27,
   "metadata": {
    "id": "WefdMhmoUkyt"
   },
   "outputs": [],
   "source": [
    "test_one_hot_customerType = pd.get_dummies(test_cleaned['customerType'])"
   ]
  },
  {
   "cell_type": "code",
   "execution_count": 28,
   "metadata": {
    "id": "28vxayFVUkyt"
   },
   "outputs": [
    {
     "name": "stdout",
     "output_type": "stream",
     "text": [
      "One hot encoding for the customer type:\n",
      "\n",
      "\n"
     ]
    },
    {
     "data": {
      "text/html": [
       "<div>\n",
       "<style scoped>\n",
       "    .dataframe tbody tr th:only-of-type {\n",
       "        vertical-align: middle;\n",
       "    }\n",
       "\n",
       "    .dataframe tbody tr th {\n",
       "        vertical-align: top;\n",
       "    }\n",
       "\n",
       "    .dataframe thead th {\n",
       "        text-align: right;\n",
       "    }\n",
       "</style>\n",
       "<table border=\"1\" class=\"dataframe\">\n",
       "  <thead>\n",
       "    <tr style=\"text-align: right;\">\n",
       "      <th></th>\n",
       "      <th>existing</th>\n",
       "      <th>new</th>\n",
       "    </tr>\n",
       "  </thead>\n",
       "  <tbody>\n",
       "    <tr>\n",
       "      <th>0</th>\n",
       "      <td>0</td>\n",
       "      <td>1</td>\n",
       "    </tr>\n",
       "    <tr>\n",
       "      <th>1</th>\n",
       "      <td>1</td>\n",
       "      <td>0</td>\n",
       "    </tr>\n",
       "    <tr>\n",
       "      <th>2</th>\n",
       "      <td>1</td>\n",
       "      <td>0</td>\n",
       "    </tr>\n",
       "    <tr>\n",
       "      <th>3</th>\n",
       "      <td>1</td>\n",
       "      <td>0</td>\n",
       "    </tr>\n",
       "    <tr>\n",
       "      <th>4</th>\n",
       "      <td>1</td>\n",
       "      <td>0</td>\n",
       "    </tr>\n",
       "  </tbody>\n",
       "</table>\n",
       "</div>"
      ],
      "text/plain": [
       "   existing  new\n",
       "0         0    1\n",
       "1         1    0\n",
       "2         1    0\n",
       "3         1    0\n",
       "4         1    0"
      ]
     },
     "execution_count": 28,
     "metadata": {},
     "output_type": "execute_result"
    }
   ],
   "source": [
    "print('One hot encoding for the customer type:\\n\\n')\n",
    "\n",
    "test_one_hot_customerType.head()"
   ]
  },
  {
   "cell_type": "markdown",
   "metadata": {
    "id": "5e-uAV7eUkyt"
   },
   "source": [
    "#### 10.3 Hot encode the basket values\n",
    "\n",
    "> We'll do this manually"
   ]
  },
  {
   "cell_type": "markdown",
   "metadata": {
    "id": "puakdmbsUkyt"
   },
   "source": [
    "<hr>\n",
    "Get the max/min values in the basket feature lists\n",
    "<hr>"
   ]
  },
  {
   "cell_type": "code",
   "execution_count": 29,
   "metadata": {
    "id": "cyw6lAMyUkyt"
   },
   "outputs": [
    {
     "name": "stdout",
     "output_type": "stream",
     "text": [
      "The minimal test value basket element is 0 and the max basket value is 5\n"
     ]
    }
   ],
   "source": [
    "# For each basket, get the min/max\n",
    "# Web get them as strings, therefore we use our helper function to convert them to int lists\n",
    "test_min_basket_value = min([min(getIntListFromStringList(list)) for list in test_cleaned['basket']]) \n",
    "test_max_basket_value = max([max(getIntListFromStringList(list)) for list in test_cleaned['basket']]) \n",
    "\n",
    "print(f'The minimal test value basket element is {test_min_basket_value} and the max basket value is {test_max_basket_value}')"
   ]
  },
  {
   "cell_type": "markdown",
   "metadata": {
    "id": "mC808HesUkyt"
   },
   "source": [
    "<hr>\n",
    "Create new features based on the elements in the test basket:\n",
    "<hr>"
   ]
  },
  {
   "cell_type": "code",
   "execution_count": 30,
   "metadata": {
    "id": "yWBLv0LaUkyu"
   },
   "outputs": [
    {
     "data": {
      "text/html": [
       "<div>\n",
       "<style scoped>\n",
       "    .dataframe tbody tr th:only-of-type {\n",
       "        vertical-align: middle;\n",
       "    }\n",
       "\n",
       "    .dataframe tbody tr th {\n",
       "        vertical-align: top;\n",
       "    }\n",
       "\n",
       "    .dataframe thead th {\n",
       "        text-align: right;\n",
       "    }\n",
       "</style>\n",
       "<table border=\"1\" class=\"dataframe\">\n",
       "  <thead>\n",
       "    <tr style=\"text-align: right;\">\n",
       "      <th></th>\n",
       "      <th>b_0</th>\n",
       "      <th>b_1</th>\n",
       "      <th>b_2</th>\n",
       "      <th>b_3</th>\n",
       "      <th>b_4</th>\n",
       "      <th>b_5</th>\n",
       "    </tr>\n",
       "  </thead>\n",
       "  <tbody>\n",
       "    <tr>\n",
       "      <th>0</th>\n",
       "      <td>1</td>\n",
       "      <td>1</td>\n",
       "      <td>0</td>\n",
       "      <td>2</td>\n",
       "      <td>4</td>\n",
       "      <td>0</td>\n",
       "    </tr>\n",
       "    <tr>\n",
       "      <th>1</th>\n",
       "      <td>0</td>\n",
       "      <td>0</td>\n",
       "      <td>0</td>\n",
       "      <td>0</td>\n",
       "      <td>1</td>\n",
       "      <td>0</td>\n",
       "    </tr>\n",
       "    <tr>\n",
       "      <th>2</th>\n",
       "      <td>0</td>\n",
       "      <td>1</td>\n",
       "      <td>0</td>\n",
       "      <td>1</td>\n",
       "      <td>0</td>\n",
       "      <td>1</td>\n",
       "    </tr>\n",
       "    <tr>\n",
       "      <th>3</th>\n",
       "      <td>0</td>\n",
       "      <td>0</td>\n",
       "      <td>0</td>\n",
       "      <td>1</td>\n",
       "      <td>0</td>\n",
       "      <td>0</td>\n",
       "    </tr>\n",
       "    <tr>\n",
       "      <th>4</th>\n",
       "      <td>2</td>\n",
       "      <td>0</td>\n",
       "      <td>2</td>\n",
       "      <td>0</td>\n",
       "      <td>0</td>\n",
       "      <td>1</td>\n",
       "    </tr>\n",
       "  </tbody>\n",
       "</table>\n",
       "</div>"
      ],
      "text/plain": [
       "   b_0  b_1  b_2  b_3  b_4  b_5\n",
       "0    1    1    0    2    4    0\n",
       "1    0    0    0    0    1    0\n",
       "2    0    1    0    1    0    1\n",
       "3    0    0    0    1    0    0\n",
       "4    2    0    2    0    0    1"
      ]
     },
     "execution_count": 30,
     "metadata": {},
     "output_type": "execute_result"
    }
   ],
   "source": [
    "test_basketElements = list(range(test_min_basket_value, test_max_basket_value+1))\n",
    "\n",
    "# Data frame with columns: 'b_0 | b_1 | ...' for each of our basket elements\n",
    "test_one_hot_basket = pd.DataFrame([], columns=[f'b_{test_basketElement}' for test_basketElement in test_basketElements])\n",
    "\n",
    "'''\n",
    "Do the one hot encoding for the basket feature.\n",
    "Actually just:\n",
    "    1. Check for the current basket, whether the element is present\n",
    "    2. If present, set the encoding bit\n",
    "'''\n",
    "for test_basketElement in test_basketElements:\n",
    "      test_one_hot_basket[f'b_{test_basketElement}'] = test_cleaned['basket'].apply(lambda x: x.count(str(test_basketElement)))\n",
    "\n",
    "test_one_hot_basket.head()"
   ]
  },
  {
   "cell_type": "markdown",
   "metadata": {
    "id": "lva-wIb0Ukyu"
   },
   "source": [
    "#### 10.4 Concatenate it back into the original dataframe\n",
    "\n",
    "> Use pandas build in function\n",
    "\n",
    "1. Concatenate\n",
    "2. Clean up no more needed features"
   ]
  },
  {
   "cell_type": "code",
   "execution_count": 31,
   "metadata": {
    "id": "9YmK_N30Ukyu"
   },
   "outputs": [],
   "source": [
    "test_encoded = pd.concat([test_cleaned, test_one_hot_customerType, test_one_hot_basket], axis=1)\n",
    "\n",
    "# We'll keep basket, as it'll probably be helpful for the feature engineering, \n",
    "# We'll only convert it to an int list(from string) for better handling\n",
    "test_encoded['basket'] = [getIntListFromStringList(basket) for basket in test_cleaned.basket]\n",
    "\n",
    "# Clean up: Drop customerType as it is no longer needed\n",
    "test_encoded = test_encoded.drop(columns=['customerType'])"
   ]
  },
  {
   "cell_type": "markdown",
   "metadata": {
    "id": "kJusHeeoUkyu"
   },
   "source": [
    "### 11. Test Datenattribute eliminieren\n",
    "\n",
    "> Test Datenattribute die nicht mit Zielvariable korrelieren entfernen\n",
    "\n",
    "Zu entfernen:\n",
    "    \n",
    "1. `transactionId`    "
   ]
  },
  {
   "cell_type": "code",
   "execution_count": 32,
   "metadata": {
    "id": "uM8RUikuUkyv"
   },
   "outputs": [
    {
     "data": {
      "text/html": [
       "<div>\n",
       "<style scoped>\n",
       "    .dataframe tbody tr th:only-of-type {\n",
       "        vertical-align: middle;\n",
       "    }\n",
       "\n",
       "    .dataframe tbody tr th {\n",
       "        vertical-align: top;\n",
       "    }\n",
       "\n",
       "    .dataframe thead th {\n",
       "        text-align: right;\n",
       "    }\n",
       "</style>\n",
       "<table border=\"1\" class=\"dataframe\">\n",
       "  <thead>\n",
       "    <tr style=\"text-align: right;\">\n",
       "      <th></th>\n",
       "      <th>basket</th>\n",
       "      <th>totalAmount</th>\n",
       "      <th>returnLabel</th>\n",
       "      <th>existing</th>\n",
       "      <th>new</th>\n",
       "      <th>b_0</th>\n",
       "      <th>b_1</th>\n",
       "      <th>b_2</th>\n",
       "      <th>b_3</th>\n",
       "      <th>b_4</th>\n",
       "      <th>b_5</th>\n",
       "    </tr>\n",
       "  </thead>\n",
       "  <tbody>\n",
       "    <tr>\n",
       "      <th>0</th>\n",
       "      <td>[4, 0, 3, 4, 1, 4, 3, 4]</td>\n",
       "      <td>80.0</td>\n",
       "      <td>1</td>\n",
       "      <td>0</td>\n",
       "      <td>1</td>\n",
       "      <td>1</td>\n",
       "      <td>1</td>\n",
       "      <td>0</td>\n",
       "      <td>2</td>\n",
       "      <td>4</td>\n",
       "      <td>0</td>\n",
       "    </tr>\n",
       "    <tr>\n",
       "      <th>1</th>\n",
       "      <td>[4]</td>\n",
       "      <td>26.0</td>\n",
       "      <td>0</td>\n",
       "      <td>1</td>\n",
       "      <td>0</td>\n",
       "      <td>0</td>\n",
       "      <td>0</td>\n",
       "      <td>0</td>\n",
       "      <td>0</td>\n",
       "      <td>1</td>\n",
       "      <td>0</td>\n",
       "    </tr>\n",
       "    <tr>\n",
       "      <th>2</th>\n",
       "      <td>[1, 3, 5]</td>\n",
       "      <td>147.0</td>\n",
       "      <td>0</td>\n",
       "      <td>1</td>\n",
       "      <td>0</td>\n",
       "      <td>0</td>\n",
       "      <td>1</td>\n",
       "      <td>0</td>\n",
       "      <td>1</td>\n",
       "      <td>0</td>\n",
       "      <td>1</td>\n",
       "    </tr>\n",
       "    <tr>\n",
       "      <th>3</th>\n",
       "      <td>[3]</td>\n",
       "      <td>37.0</td>\n",
       "      <td>1</td>\n",
       "      <td>1</td>\n",
       "      <td>0</td>\n",
       "      <td>0</td>\n",
       "      <td>0</td>\n",
       "      <td>0</td>\n",
       "      <td>1</td>\n",
       "      <td>0</td>\n",
       "      <td>0</td>\n",
       "    </tr>\n",
       "    <tr>\n",
       "      <th>4</th>\n",
       "      <td>[0, 0, 2, 5, 2]</td>\n",
       "      <td>375.0</td>\n",
       "      <td>0</td>\n",
       "      <td>1</td>\n",
       "      <td>0</td>\n",
       "      <td>2</td>\n",
       "      <td>0</td>\n",
       "      <td>2</td>\n",
       "      <td>0</td>\n",
       "      <td>0</td>\n",
       "      <td>1</td>\n",
       "    </tr>\n",
       "  </tbody>\n",
       "</table>\n",
       "</div>"
      ],
      "text/plain": [
       "                     basket  totalAmount  returnLabel  existing  new  b_0  \\\n",
       "0  [4, 0, 3, 4, 1, 4, 3, 4]         80.0            1         0    1    1   \n",
       "1                       [4]         26.0            0         1    0    0   \n",
       "2                 [1, 3, 5]        147.0            0         1    0    0   \n",
       "3                       [3]         37.0            1         1    0    0   \n",
       "4           [0, 0, 2, 5, 2]        375.0            0         1    0    2   \n",
       "\n",
       "   b_1  b_2  b_3  b_4  b_5  \n",
       "0    1    0    2    4    0  \n",
       "1    0    0    0    1    0  \n",
       "2    1    0    1    0    1  \n",
       "3    0    0    1    0    0  \n",
       "4    0    2    0    0    1  "
      ]
     },
     "execution_count": 32,
     "metadata": {},
     "output_type": "execute_result"
    }
   ],
   "source": [
    "test_encoded = test_encoded.drop(columns=['transactionId'])\n",
    "test_encoded.head()"
   ]
  },
  {
   "cell_type": "markdown",
   "metadata": {},
   "source": [
    "### Alle features hinzufügen(Siehe training part)"
   ]
  },
  {
   "cell_type": "code",
   "execution_count": 33,
   "metadata": {},
   "outputs": [],
   "source": [
    "f_eng_basket = list(test_encoded.basket) # basket shortcut\n",
    "\n",
    "# 1. Höchste Kategorie aktuellem Basket finden\n",
    "test_encoded[\"highestCategory\"] = test_encoded.basket.map(lambda x: max(x))\n",
    "# 2. Am meisten vorkommende Kategorie aktuellem Basket finden\n",
    "test_encoded[\"maxCategory\"] = test_encoded.basket.map(lambda x: most_frequent(x))\n"
   ]
  },
  {
   "cell_type": "code",
   "execution_count": 34,
   "metadata": {},
   "outputs": [
    {
     "data": {
      "text/html": [
       "<div>\n",
       "<style scoped>\n",
       "    .dataframe tbody tr th:only-of-type {\n",
       "        vertical-align: middle;\n",
       "    }\n",
       "\n",
       "    .dataframe tbody tr th {\n",
       "        vertical-align: top;\n",
       "    }\n",
       "\n",
       "    .dataframe thead th {\n",
       "        text-align: right;\n",
       "    }\n",
       "</style>\n",
       "<table border=\"1\" class=\"dataframe\">\n",
       "  <thead>\n",
       "    <tr style=\"text-align: right;\">\n",
       "      <th></th>\n",
       "      <th>basket</th>\n",
       "      <th>totalAmount</th>\n",
       "      <th>returnLabel</th>\n",
       "      <th>existing</th>\n",
       "      <th>new</th>\n",
       "      <th>b_0</th>\n",
       "      <th>b_1</th>\n",
       "      <th>b_2</th>\n",
       "      <th>b_3</th>\n",
       "      <th>b_4</th>\n",
       "      <th>b_5</th>\n",
       "      <th>highestCategory</th>\n",
       "      <th>maxCategory</th>\n",
       "      <th>maxCount</th>\n",
       "    </tr>\n",
       "  </thead>\n",
       "  <tbody>\n",
       "    <tr>\n",
       "      <th>0</th>\n",
       "      <td>[4, 0, 3, 4, 1, 4, 3, 4]</td>\n",
       "      <td>80.0</td>\n",
       "      <td>1</td>\n",
       "      <td>0</td>\n",
       "      <td>1</td>\n",
       "      <td>1</td>\n",
       "      <td>1</td>\n",
       "      <td>0</td>\n",
       "      <td>2</td>\n",
       "      <td>4</td>\n",
       "      <td>0</td>\n",
       "      <td>4</td>\n",
       "      <td>4</td>\n",
       "      <td>4</td>\n",
       "    </tr>\n",
       "    <tr>\n",
       "      <th>1</th>\n",
       "      <td>[4]</td>\n",
       "      <td>26.0</td>\n",
       "      <td>0</td>\n",
       "      <td>1</td>\n",
       "      <td>0</td>\n",
       "      <td>0</td>\n",
       "      <td>0</td>\n",
       "      <td>0</td>\n",
       "      <td>0</td>\n",
       "      <td>1</td>\n",
       "      <td>0</td>\n",
       "      <td>4</td>\n",
       "      <td>4</td>\n",
       "      <td>1</td>\n",
       "    </tr>\n",
       "    <tr>\n",
       "      <th>2</th>\n",
       "      <td>[1, 3, 5]</td>\n",
       "      <td>147.0</td>\n",
       "      <td>0</td>\n",
       "      <td>1</td>\n",
       "      <td>0</td>\n",
       "      <td>0</td>\n",
       "      <td>1</td>\n",
       "      <td>0</td>\n",
       "      <td>1</td>\n",
       "      <td>0</td>\n",
       "      <td>1</td>\n",
       "      <td>5</td>\n",
       "      <td>1</td>\n",
       "      <td>1</td>\n",
       "    </tr>\n",
       "    <tr>\n",
       "      <th>3</th>\n",
       "      <td>[3]</td>\n",
       "      <td>37.0</td>\n",
       "      <td>1</td>\n",
       "      <td>1</td>\n",
       "      <td>0</td>\n",
       "      <td>0</td>\n",
       "      <td>0</td>\n",
       "      <td>0</td>\n",
       "      <td>1</td>\n",
       "      <td>0</td>\n",
       "      <td>0</td>\n",
       "      <td>3</td>\n",
       "      <td>3</td>\n",
       "      <td>1</td>\n",
       "    </tr>\n",
       "    <tr>\n",
       "      <th>4</th>\n",
       "      <td>[0, 0, 2, 5, 2]</td>\n",
       "      <td>375.0</td>\n",
       "      <td>0</td>\n",
       "      <td>1</td>\n",
       "      <td>0</td>\n",
       "      <td>2</td>\n",
       "      <td>0</td>\n",
       "      <td>2</td>\n",
       "      <td>0</td>\n",
       "      <td>0</td>\n",
       "      <td>1</td>\n",
       "      <td>5</td>\n",
       "      <td>0</td>\n",
       "      <td>2</td>\n",
       "    </tr>\n",
       "  </tbody>\n",
       "</table>\n",
       "</div>"
      ],
      "text/plain": [
       "                     basket  totalAmount  returnLabel  existing  new  b_0  \\\n",
       "0  [4, 0, 3, 4, 1, 4, 3, 4]         80.0            1         0    1    1   \n",
       "1                       [4]         26.0            0         1    0    0   \n",
       "2                 [1, 3, 5]        147.0            0         1    0    0   \n",
       "3                       [3]         37.0            1         1    0    0   \n",
       "4           [0, 0, 2, 5, 2]        375.0            0         1    0    2   \n",
       "\n",
       "   b_1  b_2  b_3  b_4  b_5  highestCategory  maxCategory  maxCount  \n",
       "0    1    0    2    4    0                4            4         4  \n",
       "1    0    0    0    1    0                4            4         1  \n",
       "2    1    0    1    0    1                5            1         1  \n",
       "3    0    0    1    0    0                3            3         1  \n",
       "4    0    2    0    0    1                5            0         2  "
      ]
     },
     "execution_count": 34,
     "metadata": {},
     "output_type": "execute_result"
    }
   ],
   "source": [
    "f_eng_basket = list(test_encoded.basket) # basket shortcut\n",
    "\n",
    "# 1. Am meisten vorkommende Kategorie\n",
    "maxBasketValues =  list(test_encoded['maxCategory'])\n",
    "\n",
    "# 2. Diese Zählen & als Neues Feature einfügen\n",
    "test_encoded['maxCount'] = [basket.count(maxBasketValues[i]) for (i, basket) in enumerate(f_eng_basket) ]\n",
    "\n",
    "test_encoded.head()"
   ]
  },
  {
   "cell_type": "code",
   "execution_count": 35,
   "metadata": {},
   "outputs": [
    {
     "data": {
      "text/plain": [
       "-1    2896\n",
       " 1    2224\n",
       " 0     756\n",
       "Name: aboveMedian, dtype: int64"
      ]
     },
     "execution_count": 35,
     "metadata": {},
     "output_type": "execute_result"
    }
   ],
   "source": [
    "from statistics import median\n",
    "\n",
    "# Calculate median from the number of items in each basket\n",
    "test_encoded['basketSizeMedian'] = median([len(basket) for basket in test_encoded['basket']])\n",
    "test_encoded['basketElementCount'] = [len(basket) for basket in test_encoded['basket']]\n",
    "test_encoded[['returnLabel', 'basketElementCount', 'basketSizeMedian']].head(n=20)\n",
    "\n",
    "aboveMedian = []\n",
    "\n",
    "for index, row in test_encoded.iterrows():\n",
    "    if (row['basketElementCount'] > row['basketSizeMedian']): \n",
    "        valueToAppend = 1\n",
    "    elif (row['basketElementCount'] == row['basketSizeMedian']): \n",
    "        valueToAppend = 0\n",
    "    else:\n",
    "        valueToAppend = -1\n",
    "        \n",
    "    aboveMedian.append(valueToAppend)\n",
    "         \n",
    "test_encoded['aboveMedian'] = aboveMedian\n",
    "\n",
    "test_encoded['aboveMedian'].value_counts()"
   ]
  },
  {
   "cell_type": "code",
   "execution_count": 36,
   "metadata": {},
   "outputs": [],
   "source": [
    "def all_same(items):\n",
    "    return all(x == items[0] for x in items)\n",
    "\n",
    "test_encoded['same'] = test_encoded.basket.map(lambda x: 1 if all_same(x)  else 0)"
   ]
  },
  {
   "cell_type": "code",
   "execution_count": 37,
   "metadata": {},
   "outputs": [
    {
     "data": {
      "text/html": [
       "<div>\n",
       "<style scoped>\n",
       "    .dataframe tbody tr th:only-of-type {\n",
       "        vertical-align: middle;\n",
       "    }\n",
       "\n",
       "    .dataframe tbody tr th {\n",
       "        vertical-align: top;\n",
       "    }\n",
       "\n",
       "    .dataframe thead th {\n",
       "        text-align: right;\n",
       "    }\n",
       "</style>\n",
       "<table border=\"1\" class=\"dataframe\">\n",
       "  <thead>\n",
       "    <tr style=\"text-align: right;\">\n",
       "      <th></th>\n",
       "      <th>basket</th>\n",
       "      <th>totalAmount</th>\n",
       "      <th>returnLabel</th>\n",
       "      <th>existing</th>\n",
       "      <th>new</th>\n",
       "      <th>b_0</th>\n",
       "      <th>b_1</th>\n",
       "      <th>b_2</th>\n",
       "      <th>b_3</th>\n",
       "      <th>b_4</th>\n",
       "      <th>b_5</th>\n",
       "      <th>highestCategory</th>\n",
       "      <th>maxCategory</th>\n",
       "      <th>maxCount</th>\n",
       "      <th>basketSizeMedian</th>\n",
       "      <th>basketElementCount</th>\n",
       "      <th>aboveMedian</th>\n",
       "      <th>same</th>\n",
       "      <th>averagePrice</th>\n",
       "    </tr>\n",
       "  </thead>\n",
       "  <tbody>\n",
       "    <tr>\n",
       "      <th>0</th>\n",
       "      <td>[4, 0, 3, 4, 1, 4, 3, 4]</td>\n",
       "      <td>80.0</td>\n",
       "      <td>1</td>\n",
       "      <td>0</td>\n",
       "      <td>1</td>\n",
       "      <td>1</td>\n",
       "      <td>1</td>\n",
       "      <td>0</td>\n",
       "      <td>2</td>\n",
       "      <td>4</td>\n",
       "      <td>0</td>\n",
       "      <td>4</td>\n",
       "      <td>4</td>\n",
       "      <td>4</td>\n",
       "      <td>5.0</td>\n",
       "      <td>8</td>\n",
       "      <td>1</td>\n",
       "      <td>0</td>\n",
       "      <td>10.0</td>\n",
       "    </tr>\n",
       "    <tr>\n",
       "      <th>1</th>\n",
       "      <td>[4]</td>\n",
       "      <td>26.0</td>\n",
       "      <td>0</td>\n",
       "      <td>1</td>\n",
       "      <td>0</td>\n",
       "      <td>0</td>\n",
       "      <td>0</td>\n",
       "      <td>0</td>\n",
       "      <td>0</td>\n",
       "      <td>1</td>\n",
       "      <td>0</td>\n",
       "      <td>4</td>\n",
       "      <td>4</td>\n",
       "      <td>1</td>\n",
       "      <td>5.0</td>\n",
       "      <td>1</td>\n",
       "      <td>-1</td>\n",
       "      <td>1</td>\n",
       "      <td>26.0</td>\n",
       "    </tr>\n",
       "    <tr>\n",
       "      <th>2</th>\n",
       "      <td>[1, 3, 5]</td>\n",
       "      <td>147.0</td>\n",
       "      <td>0</td>\n",
       "      <td>1</td>\n",
       "      <td>0</td>\n",
       "      <td>0</td>\n",
       "      <td>1</td>\n",
       "      <td>0</td>\n",
       "      <td>1</td>\n",
       "      <td>0</td>\n",
       "      <td>1</td>\n",
       "      <td>5</td>\n",
       "      <td>1</td>\n",
       "      <td>1</td>\n",
       "      <td>5.0</td>\n",
       "      <td>3</td>\n",
       "      <td>-1</td>\n",
       "      <td>0</td>\n",
       "      <td>49.0</td>\n",
       "    </tr>\n",
       "    <tr>\n",
       "      <th>3</th>\n",
       "      <td>[3]</td>\n",
       "      <td>37.0</td>\n",
       "      <td>1</td>\n",
       "      <td>1</td>\n",
       "      <td>0</td>\n",
       "      <td>0</td>\n",
       "      <td>0</td>\n",
       "      <td>0</td>\n",
       "      <td>1</td>\n",
       "      <td>0</td>\n",
       "      <td>0</td>\n",
       "      <td>3</td>\n",
       "      <td>3</td>\n",
       "      <td>1</td>\n",
       "      <td>5.0</td>\n",
       "      <td>1</td>\n",
       "      <td>-1</td>\n",
       "      <td>1</td>\n",
       "      <td>37.0</td>\n",
       "    </tr>\n",
       "    <tr>\n",
       "      <th>4</th>\n",
       "      <td>[0, 0, 2, 5, 2]</td>\n",
       "      <td>375.0</td>\n",
       "      <td>0</td>\n",
       "      <td>1</td>\n",
       "      <td>0</td>\n",
       "      <td>2</td>\n",
       "      <td>0</td>\n",
       "      <td>2</td>\n",
       "      <td>0</td>\n",
       "      <td>0</td>\n",
       "      <td>1</td>\n",
       "      <td>5</td>\n",
       "      <td>0</td>\n",
       "      <td>2</td>\n",
       "      <td>5.0</td>\n",
       "      <td>5</td>\n",
       "      <td>0</td>\n",
       "      <td>0</td>\n",
       "      <td>75.0</td>\n",
       "    </tr>\n",
       "  </tbody>\n",
       "</table>\n",
       "</div>"
      ],
      "text/plain": [
       "                     basket  totalAmount  returnLabel  existing  new  b_0  \\\n",
       "0  [4, 0, 3, 4, 1, 4, 3, 4]         80.0            1         0    1    1   \n",
       "1                       [4]         26.0            0         1    0    0   \n",
       "2                 [1, 3, 5]        147.0            0         1    0    0   \n",
       "3                       [3]         37.0            1         1    0    0   \n",
       "4           [0, 0, 2, 5, 2]        375.0            0         1    0    2   \n",
       "\n",
       "   b_1  b_2  b_3  b_4  b_5  highestCategory  maxCategory  maxCount  \\\n",
       "0    1    0    2    4    0                4            4         4   \n",
       "1    0    0    0    1    0                4            4         1   \n",
       "2    1    0    1    0    1                5            1         1   \n",
       "3    0    0    1    0    0                3            3         1   \n",
       "4    0    2    0    0    1                5            0         2   \n",
       "\n",
       "   basketSizeMedian  basketElementCount  aboveMedian  same  averagePrice  \n",
       "0               5.0                   8            1     0          10.0  \n",
       "1               5.0                   1           -1     1          26.0  \n",
       "2               5.0                   3           -1     0          49.0  \n",
       "3               5.0                   1           -1     1          37.0  \n",
       "4               5.0                   5            0     0          75.0  "
      ]
     },
     "execution_count": 37,
     "metadata": {},
     "output_type": "execute_result"
    }
   ],
   "source": [
    "f_eng_basket = list(test_encoded.basket) # basket shortcut\n",
    "\n",
    "test_encoded['averagePrice'] = [round(test_encoded.totalAmount.iloc[i]/len(basket), 2) for (i, basket) in enumerate(f_eng_basket) ]\n",
    "test_encoded.head()"
   ]
  },
  {
   "cell_type": "markdown",
   "metadata": {
    "id": "3MHvwASOUkyv"
   },
   "source": [
    "### 12. Skalieren Sie die Test Features mit einem StandardScaler.\n",
    "\n",
    "> Use sklearn scaler\n",
    "\n",
    "1. Drop target feature\n",
    "2. scale the x results"
   ]
  },
  {
   "cell_type": "code",
   "execution_count": 38,
   "metadata": {
    "id": "iZiimISYUkyv"
   },
   "outputs": [],
   "source": [
    "from sklearn.preprocessing import StandardScaler\n",
    "scaler = StandardScaler()\n",
    "\n",
    "# Backup for the very end\n",
    "test_backup = test_encoded\n",
    "\n",
    "# Drop basket feature after using it in the feature eng. phase\n",
    "test_encoded = test_encoded.drop(columns=['basket'])\n",
    "# Drop our target\n",
    "x_test = test_encoded.drop(columns=['returnLabel'])\n",
    "\n",
    "# Our x/y values\n",
    "X_test = scaler.fit_transform(x_test)\n",
    "y_test = test_encoded['returnLabel'].values"
   ]
  },
  {
   "cell_type": "markdown",
   "metadata": {
    "id": "03jywY1TUkyv"
   },
   "source": [
    "### 13. Machen Sie eine Vorhersage auf den Testdaten mit allen drei Modellen und den jeweils besten Hyperparametern aus der Cross Validation."
   ]
  },
  {
   "cell_type": "markdown",
   "metadata": {
    "id": "_BtOO1qhUkyv"
   },
   "source": [
    "#### 13.1 Vorhersage auf Logistische Regression"
   ]
  },
  {
   "cell_type": "code",
   "execution_count": 39,
   "metadata": {
    "id": "Y0C2Vu6kUkyw"
   },
   "outputs": [],
   "source": [
    "lr_prediction = lr_model.predict(X_test)"
   ]
  },
  {
   "cell_type": "markdown",
   "metadata": {
    "id": "0O3-LIn9Ukyw"
   },
   "source": [
    "#### 13.2 Vorhersage auf Random forest"
   ]
  },
  {
   "cell_type": "code",
   "execution_count": 40,
   "metadata": {
    "id": "LWKi7r2HUkyw"
   },
   "outputs": [],
   "source": [
    "rf_prediction = rf_model.predict(X_test)"
   ]
  },
  {
   "cell_type": "markdown",
   "metadata": {
    "id": "7SR54SIWUkyw"
   },
   "source": [
    "#### 13.3 Vorhersage auf Gradient Boosting Tree"
   ]
  },
  {
   "cell_type": "code",
   "execution_count": 41,
   "metadata": {
    "id": "jpzOnQNZUkyw"
   },
   "outputs": [],
   "source": [
    "gb_prediction = gb_model.predict(X_test)"
   ]
  },
  {
   "cell_type": "markdown",
   "metadata": {
    "id": "ooAvizlZUkyw"
   },
   "source": [
    "### 14 Berechnen Sie für jedes der drei Modell Accuracy, Precision und Recall."
   ]
  },
  {
   "cell_type": "code",
   "execution_count": 42,
   "metadata": {
    "id": "eHLqVWaUUkyw"
   },
   "outputs": [],
   "source": [
    "from sklearn.metrics import accuracy_score, precision_score, recall_score"
   ]
  },
  {
   "cell_type": "markdown",
   "metadata": {
    "id": "vVkr4f8NUkyx"
   },
   "source": [
    "#### 14.2 Accuracy, Precision & Recall für das logistische regression Model"
   ]
  },
  {
   "cell_type": "code",
   "execution_count": 43,
   "metadata": {
    "id": "GL7Aj1QRUkyx"
   },
   "outputs": [
    {
     "name": "stdout",
     "output_type": "stream",
     "text": [
      "Logistic regression accuracy: 0.9063989108236896\n",
      "Logistic regression precision: 0.8997308209959624\n",
      "Logistic regression recall: 0.7692750287686997\n"
     ]
    }
   ],
   "source": [
    "lr_accuracy = accuracy_score(y_test, lr_prediction)\n",
    "print(f'Logistic regression accuracy: {lr_accuracy}')\n",
    "\n",
    "lr_precision = precision_score(y_test, lr_prediction)\n",
    "print(f'Logistic regression precision: {lr_precision}')\n",
    "\n",
    "lr_recall = recall_score(y_test, lr_prediction)\n",
    "print(f'Logistic regression recall: {lr_recall}')"
   ]
  },
  {
   "cell_type": "markdown",
   "metadata": {
    "id": "5fe1wfDnUkyx"
   },
   "source": [
    "#### 14.2 Accuracy, Precision & Recall für das Random Forest Model"
   ]
  },
  {
   "cell_type": "code",
   "execution_count": 44,
   "metadata": {
    "id": "YFRtPdmtUkyx"
   },
   "outputs": [
    {
     "name": "stdout",
     "output_type": "stream",
     "text": [
      "Random forest accuracy: 0.9014635806671205\n",
      "Random forest precision: 0.9245421245421246\n",
      "Random forest recall: 0.7261219792865362\n"
     ]
    }
   ],
   "source": [
    "rf_accuracy = accuracy_score(y_test, rf_prediction)\n",
    "print(f'Random forest accuracy: {rf_accuracy}')\n",
    "\n",
    "rf_precision = precision_score(y_test, rf_prediction)\n",
    "print(f'Random forest precision: {rf_precision}')\n",
    "\n",
    "rf_recall = recall_score(y_test, rf_prediction)\n",
    "print(f'Random forest recall: {rf_recall}')"
   ]
  },
  {
   "cell_type": "markdown",
   "metadata": {
    "id": "CweblJKBUkyx"
   },
   "source": [
    "#### 14.3 Accuracy, Precision & Recall für das Gradient Boost Model"
   ]
  },
  {
   "cell_type": "code",
   "execution_count": 45,
   "metadata": {
    "id": "PFv0n1f1Ukyy"
   },
   "outputs": [
    {
     "name": "stdout",
     "output_type": "stream",
     "text": [
      "Gradient Boost accuracy: 0.9106535057862492\n",
      "Gradient Boost precision: 0.8977049180327868\n",
      "Gradient Boost recall: 0.7876869965477561\n"
     ]
    }
   ],
   "source": [
    "gb_accuracy = accuracy_score(y_test, gb_prediction)\n",
    "print(f'Gradient Boost accuracy: {gb_accuracy}')\n",
    "\n",
    "gb_precision = precision_score(y_test, gb_prediction)\n",
    "print(f'Gradient Boost precision: {gb_precision}')\n",
    "\n",
    "gb_recall = recall_score(y_test, gb_prediction)\n",
    "print(f'Gradient Boost recall: {gb_recall}')"
   ]
  },
  {
   "cell_type": "markdown",
   "metadata": {
    "id": "DriJyvOMUkyy"
   },
   "source": [
    "#### 14.4 Accuracy summary"
   ]
  },
  {
   "cell_type": "code",
   "execution_count": 46,
   "metadata": {
    "id": "pfWvdeF4Ukyy"
   },
   "outputs": [
    {
     "name": "stdout",
     "output_type": "stream",
     "text": [
      "New accuracies:\n",
      "\n",
      "1. LR: 90.64 %\n",
      "2. RF: 90.15 %\n",
      "3. GB: 91.07 %\n"
     ]
    }
   ],
   "source": [
    "calcPerc = lambda acc: round(acc * 100, 2)\n",
    "print(f'New accuracies:\\n\\n1. LR: {calcPerc(lr_accuracy)} %\\n2. RF: {calcPerc(rf_accuracy)} %\\n3. GB: {calcPerc(gb_accuracy)} %')"
   ]
  },
  {
   "cell_type": "markdown",
   "metadata": {
    "id": "etVmj0jMUkyy"
   },
   "source": [
    "<hr>\n",
    "\n",
    "## ANALYSIS 🔍\n",
    "\n",
    "<hr>"
   ]
  },
  {
   "cell_type": "markdown",
   "metadata": {
    "id": "XIc_Id5GUkyy"
   },
   "source": [
    "### 15 Untersuchen Sie wie viele Datenpunkte es in den Testdaten gibt, welche von allen drei Modellen falsch klassifiziert wurden:"
   ]
  },
  {
   "cell_type": "markdown",
   "metadata": {
    "id": "ETbskYkPUkyy"
   },
   "source": [
    "#### 15.1 Bestimmen Sie **für jedes der drei Modelle** die **Indizes** der **Testdatenpunkte** auf welchen das **jeweilige Modell falsch klassifiziert hat**.\n",
    "\n",
    "> Get the indices for of the wrong gessed data points: Process similar to prediction process"
   ]
  },
  {
   "cell_type": "code",
   "execution_count": 47,
   "metadata": {
    "id": "NYG-vvkZUkyz"
   },
   "outputs": [],
   "source": [
    "# Helper function to find wrong predicted test data pointes(See docstring)\n",
    "\n",
    "def getWrongClassfiedPredictions(input, predictions, labels):\n",
    "    \"\"\"\n",
    "    Takes in the input values to predict on,\n",
    "    the predictions made by the model\n",
    "    and the right labels to compare the predictions on.\n",
    "    \n",
    "    Note: We currently do not use the input, but could be useful\n",
    "    for debugging purposes\n",
    "    \n",
    "    Returns a set with indices corresponding to the test datapoints,\n",
    "    which the model guessed wrong\n",
    "    \"\"\"\n",
    "    \n",
    "    wrong_predictions = set()\n",
    "    i = 0\n",
    "    for input, prediction, label in zip(input, predictions, labels):\n",
    "        if prediction != label:\n",
    "            wrong_predictions.add(i)\n",
    "        i += 1\n",
    "    return wrong_predictions"
   ]
  },
  {
   "cell_type": "markdown",
   "metadata": {
    "id": "jDSpF0WMUkyz"
   },
   "source": [
    "#### 15.1.1 Falsch klassifizierte Testdatenpunkte des Logistische Regression Models"
   ]
  },
  {
   "cell_type": "code",
   "execution_count": 48,
   "metadata": {
    "id": "geOVhIDmUkyz"
   },
   "outputs": [],
   "source": [
    "lr_wrong_predictions = getWrongClassfiedPredictions(X_test, lr_prediction, y_test)"
   ]
  },
  {
   "cell_type": "markdown",
   "metadata": {
    "id": "LvKo-TLkUkyz"
   },
   "source": [
    "#### 15.1.2 Falsch klassifizierte Testdatenpunkte des Random forest Models"
   ]
  },
  {
   "cell_type": "code",
   "execution_count": 49,
   "metadata": {
    "id": "z1Ct4rLNUkyz"
   },
   "outputs": [],
   "source": [
    "rf_wrong_predictions = getWrongClassfiedPredictions(X_test, rf_prediction, y_test)"
   ]
  },
  {
   "cell_type": "markdown",
   "metadata": {
    "id": "spV3Gfr5Ukyz"
   },
   "source": [
    "#### 15.1.1 Falsch klassifizierte Testdatenpunkte des Gradient boost Models"
   ]
  },
  {
   "cell_type": "code",
   "execution_count": 50,
   "metadata": {
    "id": "50mlH6ISUky0"
   },
   "outputs": [],
   "source": [
    "clf_wrong_predictions = getWrongClassfiedPredictions(X_test, gb_prediction, y_test)"
   ]
  },
  {
   "cell_type": "markdown",
   "metadata": {
    "id": "2bdQpx9uUky0"
   },
   "source": [
    "#### 15.2 Nutzen Sie die set-Klasse in Python um die Anzahl an Datenpunkten zu bestimmen, welche von allen drei Modellen falsch klassifiziert wurden."
   ]
  },
  {
   "cell_type": "code",
   "execution_count": 51,
   "metadata": {
    "colab": {
     "base_uri": "https://localhost:8080/"
    },
    "id": "Wze73NSKUky0",
    "outputId": "9904a1be-9513-4c24-c905-4d0f1c58b885"
   },
   "outputs": [
    {
     "name": "stdout",
     "output_type": "stream",
     "text": [
      "391 values found wrong categorized in common by all models\n"
     ]
    }
   ],
   "source": [
    "allWrongDataPoints = lr_wrong_predictions & rf_wrong_predictions & clf_wrong_predictions\n",
    "\n",
    "# Use this as metric to improve model\n",
    "print(f'{len(allWrongDataPoints)} values found wrong categorized in common by all models')"
   ]
  },
  {
   "cell_type": "code",
   "execution_count": 52,
   "metadata": {
    "colab": {
     "base_uri": "https://localhost:8080/"
    },
    "id": "-R7bIPHuUky0",
    "outputId": "47790792-d367-4ba0-c5c1-4918cb4a6448"
   },
   "outputs": [
    {
     "data": {
      "text/plain": [
       "[[4, 1, 1, 4, 3],\n",
       " [4],\n",
       " [3],\n",
       " [1, 4, 0, 4, 3, 3],\n",
       " [4, 2, 4, 4, 4, 0],\n",
       " [3, 2, 1, 0, 4],\n",
       " [2],\n",
       " [1],\n",
       " [1],\n",
       " [4]]"
      ]
     },
     "execution_count": 52,
     "metadata": {},
     "output_type": "execute_result"
    }
   ],
   "source": [
    "# Check out missing baskets\n",
    "wrongBaskets = [test_backup['basket'].iloc[index] for index in allWrongDataPoints]\n",
    "wrongBaskets[:10] # Just the first 10"
   ]
  }
 ],
 "metadata": {
  "accelerator": "GPU",
  "colab": {
   "name": "ml-project.ipynb",
   "provenance": [],
   "toc_visible": true
  },
  "kernelspec": {
   "display_name": "Python 3",
   "language": "python",
   "name": "python3"
  },
  "language_info": {
   "codemirror_mode": {
    "name": "ipython",
    "version": 3
   },
   "file_extension": ".py",
   "mimetype": "text/x-python",
   "name": "python",
   "nbconvert_exporter": "python",
   "pygments_lexer": "ipython3",
   "version": "3.8.3"
  },
  "toc-autonumbering": false,
  "toc-showcode": false,
  "toc-showmarkdowntxt": true,
  "toc-showtags": false
 },
 "nbformat": 4,
 "nbformat_minor": 4
}
